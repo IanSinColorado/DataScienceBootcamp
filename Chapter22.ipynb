{
 "cells": [
  {
   "cell_type": "markdown",
   "metadata": {},
   "source": [
    "# Chapter 22: Training Nonlinear Classifiers with Decision Tree Techniques"
   ]
  },
  {
   "cell_type": "markdown",
   "metadata": {},
   "source": [
    "## 22.1 Automated Learning of Logical Rules"
   ]
  },
  {
   "cell_type": "code",
   "execution_count": 1,
   "metadata": {},
   "outputs": [
    {
     "data": {
      "image/png": "[encoded data removed]",
      "text/plain": [
       "<Figure size 640x480 with 1 Axes>"
      ]
     },
     "metadata": {},
     "output_type": "display_data"
    }
   ],
   "source": [
    "# Plotting the two-switch problem in 2D space\n",
    "import numpy as np\n",
    "import matplotlib.pyplot as plt\n",
    "X = np.array([[0, 0], [1, 0], [0, 1], [1, 1]])\n",
    "y = (X[:,0] + X[:,1] == 1).astype(int)\n",
    "\n",
    "for i in [0, 1]:\n",
    "    plt.scatter(X[y == i][:,0], X[y == i][:,1], marker=['o', 'x'][i], color=['b', 'k'][i], s=1000)\n",
    "\n",
    "plt.xlabel('Switch 0')\n",
    "plt.ylabel('Switch 1')\n",
    "plt.show()"
   ]
  },
  {
   "cell_type": "code",
   "execution_count": 3,
   "metadata": {},
   "outputs": [],
   "source": [
    "# Classifying data using nested if/else statements\n",
    "def classify(features):\n",
    "    switch0, switch1 = features\n",
    "\n",
    "    if switch0 == 0:\n",
    "        if switch1 == 0:\n",
    "            prediction = 0\n",
    "        else:\n",
    "            prediction = 1\n",
    "    else:\n",
    "        if switch1 == 0:\n",
    "            prediction = 1\n",
    "        else:\n",
    "            prediction = 0\n",
    "\n",
    "    return prediction\n",
    "\n",
    "for i in range(X.shape[0]):\n",
    "    assert classify(X[i]) == y[i]"
   ]
  },
  {
   "cell_type": "code",
   "execution_count": 4,
   "metadata": {},
   "outputs": [
    {
     "name": "stdout",
     "output_type": "stream",
     "text": [
      "features: [[1]\n",
      " [1]\n",
      " [1]\n",
      " [1]\n",
      " [0]\n",
      " [1]\n",
      " [0]\n",
      " [1]\n",
      " [1]\n",
      " [0]]\n",
      "\n",
      "labels: [1 1 1 1 0 1 0 1 1 0]\n"
     ]
    }
   ],
   "source": [
    "# Generating a single-switch training set\n",
    "np.random.seed(0)\n",
    "y_simple = np.random.binomial(1, 0.5, size=10)\n",
    "X_simple = np.array([[e] for e in y_simple])\n",
    "print(f\"features: {X_simple}\")\n",
    "print(f\"\\nlabels: {y_simple}\")"
   ]
  },
  {
   "cell_type": "code",
   "execution_count": 5,
   "metadata": {},
   "outputs": [
    {
     "name": "stdout",
     "output_type": "stream",
     "text": [
      "In 3 instances, both the switch and the light are off\n"
     ]
    }
   ],
   "source": [
    "# Counting the off-state co-occurrences\n",
    "count = (X_simple[:,0][y_simple == 0] == 0).sum()\n",
    "print(f\"In {count} instances, both the switch and the light are off\")"
   ]
  },
  {
   "cell_type": "code",
   "execution_count": 6,
   "metadata": {},
   "outputs": [
    {
     "name": "stdout",
     "output_type": "stream",
     "text": [
      "In 7 instances, both the switch and the light are on\n"
     ]
    }
   ],
   "source": [
    "# Counting the on-state co-occurrences\n",
    "count = (X_simple[:,0][y_simple == 1] == 1).sum()\n",
    "print(f\"In {count} instances, both the switch and the light are on\")"
   ]
  },
  {
   "cell_type": "code",
   "execution_count": 7,
   "metadata": {},
   "outputs": [],
   "source": [
    "# Computing a co-occurance matrix\n",
    "def get_co_occurence(X, y, col=0):\n",
    "    co_occurence = []\n",
    "    for i in [0, 1]:\n",
    "        counts = [(X[:,col][y == i] == j).sum() for j in [0, 1]]\n",
    "        co_occurence.append(counts)\n",
    "\n",
    "    return np.array(co_occurence)\n",
    "\n",
    "M = get_co_occurence(X_simple, y_simple)\n",
    "assert M[0][0] == 3\n",
    "assert M[1][1] == 7"
   ]
  },
  {
   "cell_type": "code",
   "execution_count": 8,
   "metadata": {},
   "outputs": [
    {
     "name": "stdout",
     "output_type": "stream",
     "text": [
      "[[3 1]\n",
      " [0 7]]\n"
     ]
    }
   ],
   "source": [
    "# Adding a flawed mismatch to the data\n",
    "X_simple = np.vstack([X_simple, [1]])\n",
    "y_simple = np.hstack([y_simple, [0]])\n",
    "M = get_co_occurence(X_simple, y_simple)\n",
    "print(M)"
   ]
  },
  {
   "cell_type": "code",
   "execution_count": 10,
   "metadata": {},
   "outputs": [
    {
     "name": "stdout",
     "output_type": "stream",
     "text": [
      "When the switch is set to 0, the bulb state probabilities are:\n",
      "[0.75 0.25]\n",
      "\n",
      "There is a 75% chance that the bulb is off.\n",
      "There is a 25% chance that the bulb is on.\n"
     ]
    }
   ],
   "source": [
    "# Computing bulb probabilities when the switch is off\n",
    "bulb_probs = M[0] / M[0].sum()\n",
    "print(\"When the switch is set to 0, the bulb state probabilities are:\")\n",
    "print(bulb_probs)\n",
    "\n",
    "prob_on, prob_off = bulb_probs\n",
    "print(f\"\\nThere is a {100 * prob_on:.0f}% chance that the bulb is off.\")\n",
    "print(f\"There is a {100 * prob_off:.0f}% chance that the bulb is on.\")"
   ]
  },
  {
   "cell_type": "code",
   "execution_count": 11,
   "metadata": {},
   "outputs": [
    {
     "name": "stdout",
     "output_type": "stream",
     "text": [
      "When the switch is set to 1, the bulb state probabilities are:\n",
      "[0. 1.]\n",
      "\n",
      "We assume the bulb is on with 100% accuracy\n"
     ]
    }
   ],
   "source": [
    "# Predicting the state of the bulb when the switch is on\n",
    "bulb_probs = M[1] / M[1].sum()\n",
    "print(\"When the switch is set to 1, the bulb state probabilities are:\")\n",
    "print(bulb_probs)\n",
    "\n",
    "prediction = ['off', 'on'][bulb_probs.argmax()]\n",
    "accuracy = bulb_probs.max()\n",
    "print(f\"\\nWe assume the bulb is {prediction} with {100 * accuracy:.0f}% accuracy\")"
   ]
  },
  {
   "cell_type": "code",
   "execution_count": 12,
   "metadata": {},
   "outputs": [
    {
     "name": "stdout",
     "output_type": "stream",
     "text": [
      "The switch is off in 4 observations.\n",
      "The switch is on in 7 observations.\n"
     ]
    }
   ],
   "source": [
    "# Counting the on and off states of the switch \n",
    "for i, count in enumerate(M.sum(axis=1)):\n",
    "    state = ['off', 'on'][i]\n",
    "    print(f\"The switch is {state} in {count} observations.\")"
   ]
  },
  {
   "cell_type": "code",
   "execution_count": 13,
   "metadata": {},
   "outputs": [
    {
     "name": "stdout",
     "output_type": "stream",
     "text": [
      "Our total accuracy is 91%\n"
     ]
    }
   ],
   "source": [
    "# Computing total accuracy (with weights)\n",
    "accuracies = [0.75, 1.0]\n",
    "total_accuracy = np.average(accuracies, weights=M.sum(axis=1))\n",
    "print(f\"Our total accuracy is {100 * total_accuracy:.0f}%\")"
   ]
  },
  {
   "cell_type": "code",
   "execution_count": 15,
   "metadata": {},
   "outputs": [
    {
     "name": "stdout",
     "output_type": "stream",
     "text": [
      "if switch == 0:\n",
      "    prediction = 0\n",
      "else:\n",
      "    prediction = 1\n",
      "\n",
      "This statement is 91% accurate.\n"
     ]
    }
   ],
   "source": [
    "# Training a simple if/else model\n",
    "def train_if_else(X, y, feature_col=0, feature_name='feature'):\n",
    "    M = get_co_occurence(X, y, col=feature_col)\n",
    "    probs0, probs1 = [M[i] / M[i].sum() for i in [0, 1]]\n",
    "\n",
    "    if_else = f\"\"\"if {feature_name} == 0:\n",
    "    prediction = {probs0.argmax()}\n",
    "else:\n",
    "    prediction = {probs1.argmax()}\n",
    "    \"\"\".strip()\n",
    "\n",
    "    if probs0.argmax() == probs1.argmax():\n",
    "        if_else = f\"prediction = {probs0.argmax()}\"\n",
    "\n",
    "    accuracies = [probs0.max(), probs1.max()]\n",
    "    total_accuracy = np.average(accuracies, weights=M.sum(axis=1))\n",
    "    return if_else, total_accuracy\n",
    "\n",
    "if_else, accuracy = train_if_else(X_simple, y_simple, feature_name='switch')\n",
    "print(if_else)\n",
    "print(f\"\\nThis statement is {100 * accuracy:.0f}% accurate.\")"
   ]
  },
  {
   "cell_type": "markdown",
   "metadata": {},
   "source": [
    "### 22.1.1 Training a nested if/else model using two features"
   ]
  },
  {
   "cell_type": "code",
   "execution_count": null,
   "metadata": {},
   "outputs": [],
   "source": []
  }
 ],
 "metadata": {
  "kernelspec": {
   "display_name": "base",
   "language": "python",
   "name": "python3"
  },
  "language_info": {
   "codemirror_mode": {
    "name": "ipython",
    "version": 3
   },
   "file_extension": ".py",
   "mimetype": "text/x-python",
   "name": "python",
   "nbconvert_exporter": "python",
   "pygments_lexer": "ipython3",
   "version": "3.9.16"
  },
  "orig_nbformat": 4
 },
 "nbformat": 4,
 "nbformat_minor": 2
}
