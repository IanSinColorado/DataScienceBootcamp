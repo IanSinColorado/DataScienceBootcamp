{
 "cells": [
  {
   "cell_type": "markdown",
   "id": "d3b2f852",
   "metadata": {},
   "source": [
    "# Chapter 8: Analyzing Tables Using Python"
   ]
  },
  {
   "cell_type": "code",
   "execution_count": 1,
   "id": "c1f15980",
   "metadata": {},
   "outputs": [],
   "source": [
    "# 8.1 Storing tables using basic Python\n",
    "# Storing a table using Python data structures\n",
    "fish_measures = {'Fish': ['Angelfish', 'Zebrafish', 'Killerfish', 'Swordtail'],\n",
    "                'Length': [15.2, 6.5, 9, 6],\n",
    "                'Width': [7.7, 2.1, 4.5, 2]}"
   ]
  },
  {
   "cell_type": "code",
   "execution_count": 3,
   "id": "242f0f69",
   "metadata": {},
   "outputs": [
    {
     "name": "stdout",
     "output_type": "stream",
     "text": [
      "The length of a zebrafish is 6.50 cm.\n"
     ]
    }
   ],
   "source": [
    "# Accessing table columns using a dictionary\n",
    "zebrafish_index = fish_measures['Fish'].index('Zebrafish')\n",
    "zebrafish_length = fish_measures['Length'][zebrafish_index]\n",
    "print(f\"The length of a zebrafish is {zebrafish_length:.2f} cm.\")"
   ]
  },
  {
   "cell_type": "code",
   "execution_count": 11,
   "id": "f32733ba",
   "metadata": {},
   "outputs": [],
   "source": [
    "# 8.2 Exploring tables using Pandas\n",
    "import pandas as pd\n",
    "import numpy as np"
   ]
  },
  {
   "cell_type": "code",
   "execution_count": 5,
   "id": "69003b81",
   "metadata": {},
   "outputs": [
    {
     "name": "stdout",
     "output_type": "stream",
     "text": [
      "         Fish  Length  Width\n",
      "0   Angelfish    15.2    7.7\n",
      "1   Zebrafish     6.5    2.1\n",
      "2  Killerfish     9.0    4.5\n",
      "3   Swordtail     6.0    2.0\n"
     ]
    }
   ],
   "source": [
    "# Loading a table into Pandas\n",
    "df = pd.DataFrame(fish_measures)\n",
    "print(df)"
   ]
  },
  {
   "cell_type": "code",
   "execution_count": 6,
   "id": "8669b10e",
   "metadata": {},
   "outputs": [
    {
     "name": "stdout",
     "output_type": "stream",
     "text": [
      "        Fish  Length  Width\n",
      "0  Angelfish    15.2    7.7\n",
      "1  Zebrafish     6.5    2.1\n"
     ]
    }
   ],
   "source": [
    "# Accesssing the first two rows of a table\n",
    "print(df.head(2))"
   ]
  },
  {
   "cell_type": "code",
   "execution_count": 7,
   "id": "dc043f8e",
   "metadata": {},
   "outputs": [
    {
     "name": "stdout",
     "output_type": "stream",
     "text": [
      "          Length     Width\n",
      "count   4.000000  4.000000\n",
      "mean    9.175000  4.075000\n",
      "std     4.225616  2.678775\n",
      "min     6.000000  2.000000\n",
      "25%     6.375000  2.075000\n",
      "50%     7.750000  3.300000\n",
      "75%    10.550000  5.300000\n",
      "max    15.200000  7.700000\n"
     ]
    }
   ],
   "source": [
    "print(df.describe())"
   ]
  },
  {
   "cell_type": "code",
   "execution_count": 9,
   "id": "3b2f40e1",
   "metadata": {},
   "outputs": [
    {
     "name": "stdout",
     "output_type": "stream",
     "text": [
      "Length    9.175\n",
      "Width     4.075\n",
      "dtype: float64\n"
     ]
    },
    {
     "name": "stderr",
     "output_type": "stream",
     "text": [
      "C:\\Users\\meowm\\AppData\\Local\\Temp\\ipykernel_10540\\2508693539.py:2: FutureWarning: Dropping of nuisance columns in DataFrame reductions (with 'numeric_only=None') is deprecated; in a future version this will raise TypeError.  Select only valid columns before calling the reduction.\n",
      "  print(df.mean())\n"
     ]
    }
   ],
   "source": [
    "# Computing the numeric column mean\n",
    "print(df.mean())"
   ]
  },
  {
   "cell_type": "code",
   "execution_count": 13,
   "id": "8481409b",
   "metadata": {},
   "outputs": [
    {
     "name": "stdout",
     "output_type": "stream",
     "text": [
      "             Fish\n",
      "count           4\n",
      "unique          4\n",
      "top     Angelfish\n",
      "freq            1\n"
     ]
    }
   ],
   "source": [
    "# Summarizing the string columns\n",
    "print(df.describe(include=[object]))"
   ]
  },
  {
   "cell_type": "code",
   "execution_count": 14,
   "id": "aa4cd7f5",
   "metadata": {},
   "outputs": [
    {
     "name": "stdout",
     "output_type": "stream",
     "text": [
      "[['Angelfish' 15.2 7.7]\n",
      " ['Zebrafish' 6.5 2.1]\n",
      " ['Killerfish' 9.0 4.5]\n",
      " ['Swordtail' 6.0 2.0]]\n"
     ]
    }
   ],
   "source": [
    "# Retrieving the table as a 2D NumPy array\n",
    "print(df.values)\n",
    "assert type(df.values) == np.ndarray"
   ]
  },
  {
   "cell_type": "code",
   "execution_count": 16,
   "id": "9dc41a66",
   "metadata": {},
   "outputs": [
    {
     "name": "stdout",
     "output_type": "stream",
     "text": [
      "Index(['Fish', 'Length', 'Width'], dtype='object')\n"
     ]
    }
   ],
   "source": [
    "# 8.3 Retrieving table columns\n",
    "# Accessing all the column names\n",
    "print(df.columns)"
   ]
  },
  {
   "cell_type": "code",
   "execution_count": 17,
   "id": "758cada2",
   "metadata": {},
   "outputs": [
    {
     "name": "stdout",
     "output_type": "stream",
     "text": [
      "0     Angelfish\n",
      "1     Zebrafish\n",
      "2    Killerfish\n",
      "3     Swordtail\n",
      "Name: Fish, dtype: object\n"
     ]
    }
   ],
   "source": [
    "# Accessing an individual column\n",
    "print(df.Fish)"
   ]
  },
  {
   "cell_type": "code",
   "execution_count": 18,
   "id": "b118c5ee",
   "metadata": {},
   "outputs": [
    {
     "name": "stdout",
     "output_type": "stream",
     "text": [
      "['Angelfish' 'Zebrafish' 'Killerfish' 'Swordtail']\n"
     ]
    }
   ],
   "source": [
    "# Retrieving a column as a NumPy array\n",
    "print(df.Fish.values)\n",
    "assert type(df.Fish.values) == np.ndarray"
   ]
  },
  {
   "cell_type": "code",
   "execution_count": 19,
   "id": "cab6c4e0",
   "metadata": {},
   "outputs": [
    {
     "name": "stdout",
     "output_type": "stream",
     "text": [
      "0     Angelfish\n",
      "1     Zebrafish\n",
      "2    Killerfish\n",
      "3     Swordtail\n",
      "Name: Fish, dtype: object\n"
     ]
    }
   ],
   "source": [
    "# Accessing a column using brackets\n",
    "print(df['Fish'])"
   ]
  },
  {
   "cell_type": "code",
   "execution_count": 20,
   "id": "fd9579b6",
   "metadata": {},
   "outputs": [
    {
     "name": "stdout",
     "output_type": "stream",
     "text": [
      "         Fish  Length\n",
      "0   Angelfish    15.2\n",
      "1   Zebrafish     6.5\n",
      "2  Killerfish     9.0\n",
      "3   Swordtail     6.0\n"
     ]
    }
   ],
   "source": [
    "# Accessing multiple columns using brackets\n",
    "print(df[['Fish', 'Length']])"
   ]
  },
  {
   "cell_type": "code",
   "execution_count": 21,
   "id": "1fb0a233",
   "metadata": {},
   "outputs": [
    {
     "name": "stdout",
     "output_type": "stream",
     "text": [
      "         Fish  Length  Width\n",
      "3   Swordtail     6.0    2.0\n",
      "1   Zebrafish     6.5    2.1\n",
      "2  Killerfish     9.0    4.5\n",
      "0   Angelfish    15.2    7.7\n"
     ]
    }
   ],
   "source": [
    "# Sorting rows by column value\n",
    "print(df.sort_values('Length'))"
   ]
  },
  {
   "cell_type": "code",
   "execution_count": 22,
   "id": "5312aa11",
   "metadata": {},
   "outputs": [
    {
     "name": "stdout",
     "output_type": "stream",
     "text": [
      "         Fish  Length  Width\n",
      "0   Angelfish    15.2    7.7\n",
      "2  Killerfish     9.0    4.5\n"
     ]
    }
   ],
   "source": [
    "# Filtering rows by column value\n",
    "print(df[df.Width >= 3])"
   ]
  },
  {
   "cell_type": "code",
   "execution_count": 23,
   "id": "8a159a81",
   "metadata": {},
   "outputs": [
    {
     "name": "stdout",
     "output_type": "stream",
     "text": [
      "        Fish  Length  Width\n",
      "0  Angelfish    15.2    7.7\n",
      "3  Swordtail     6.0    2.0\n"
     ]
    }
   ],
   "source": [
    "# 8.4 Retrieving table rows\n",
    "# Accessing rows by index\n",
    "print(df.loc[[0, 3]])"
   ]
  },
  {
   "cell_type": "code",
   "execution_count": 24,
   "id": "fcb7659e",
   "metadata": {},
   "outputs": [
    {
     "name": "stdout",
     "output_type": "stream",
     "text": [
      "        Fish  Length  Width\n",
      "0  Angelfish    15.2    7.7\n",
      "3  Swordtail     6.0    2.0\n"
     ]
    }
   ],
   "source": [
    "# Accessing rows by column value\n",
    "booleans = [name in ['Angelfish', 'Swordtail'] for name in df.Fish]\n",
    "print(df[booleans])"
   ]
  },
  {
   "cell_type": "code",
   "execution_count": 27,
   "id": "431c28bf",
   "metadata": {},
   "outputs": [
    {
     "name": "stdout",
     "output_type": "stream",
     "text": [
      "        Fish  Length  Width\n",
      "0  Angelfish    15.2    7.7\n",
      "3  Swordtail     6.0    2.0\n"
     ]
    }
   ],
   "source": [
    "# Accessing rows by column value using isin()\n",
    "print(df[df.Fish.isin(['Angelfish', 'Swordtail'])])"
   ]
  },
  {
   "cell_type": "code",
   "execution_count": 28,
   "id": "80ede4a0",
   "metadata": {},
   "outputs": [
    {
     "name": "stdout",
     "output_type": "stream",
     "text": [
      "            Length  Width\n",
      "Fish                     \n",
      "Angelfish     15.2    7.7\n",
      "Zebrafish      6.5    2.1\n",
      "Killerfish     9.0    4.5\n",
      "Swordtail      6.0    2.0\n"
     ]
    }
   ],
   "source": [
    "# Swapping row indices for column values\n",
    "df.set_index('Fish', inplace=True)\n",
    "print(df)"
   ]
  },
  {
   "cell_type": "code",
   "execution_count": 29,
   "id": "e6724e22",
   "metadata": {},
   "outputs": [
    {
     "name": "stdout",
     "output_type": "stream",
     "text": [
      "           Length  Width\n",
      "Fish                    \n",
      "Angelfish    15.2    7.7\n",
      "Swordtail     6.0    2.0\n"
     ]
    }
   ],
   "source": [
    "# Accessing rows by string index (after replacing row numbers with row names)\n",
    "print(df.loc[['Angelfish', 'Swordtail']])"
   ]
  },
  {
   "cell_type": "code",
   "execution_count": 30,
   "id": "4ddf3732",
   "metadata": {},
   "outputs": [
    {
     "name": "stdout",
     "output_type": "stream",
     "text": [
      "Fish    Angelfish  Zebrafish  Killerfish  Swordtail\n",
      "Length       15.2        6.5         9.0        6.0\n",
      "Width         7.7        2.1         4.5        2.0\n"
     ]
    }
   ],
   "source": [
    "# 8.5 Modifying table rows and columns\n",
    "# Swapping rows and columns\n",
    "df_transposed = df.T\n",
    "print(df_transposed)"
   ]
  },
  {
   "cell_type": "code",
   "execution_count": 31,
   "id": "8079e097",
   "metadata": {},
   "outputs": [
    {
     "name": "stdout",
     "output_type": "stream",
     "text": [
      "Length    6.0\n",
      "Width     2.0\n",
      "Name: Swordtail, dtype: float64\n"
     ]
    }
   ],
   "source": [
    "# Printing a transposed column\n",
    "print(df_transposed.Swordtail)"
   ]
  },
  {
   "cell_type": "code",
   "execution_count": 32,
   "id": "6dc90322",
   "metadata": {},
   "outputs": [
    {
     "name": "stdout",
     "output_type": "stream",
     "text": [
      "Fish    Angelfish  Zebrafish  Killerfish  Swordtail  Clownfish\n",
      "Length       15.2        6.5         9.0        6.0       10.6\n",
      "Width         7.7        2.1         4.5        2.0        3.7\n"
     ]
    }
   ],
   "source": [
    "# Adding a new column\n",
    "df_transposed['Clownfish'] = [10.6, 3.7]\n",
    "print(df_transposed)"
   ]
  },
  {
   "cell_type": "code",
   "execution_count": 38,
   "id": "1131f0a3",
   "metadata": {},
   "outputs": [
    {
     "name": "stdout",
     "output_type": "stream",
     "text": [
      "Fish    Angelfish  Zebrafish  Killerfish  Swordtail  Clownfish  Clownfish2  \\\n",
      "Length       15.2        6.5         9.0        6.0       10.6        10.6   \n",
      "Width         7.7        2.1         4.5        2.0        3.7         3.7   \n",
      "\n",
      "Fish    Clownfish3  \n",
      "Length        10.6  \n",
      "Width          3.7  \n"
     ]
    }
   ],
   "source": [
    "# Adding multiple new columns\n",
    "df_new = df_transposed.assign(Clownfish2=[10.6, 3.7], Clownfish3=[10.6, 3.7])\n",
    "assert 'Clownfish2' not in df_transposed.columns\n",
    "assert 'Clownfish2' in df_new.columns\n",
    "print(df_new)"
   ]
  },
  {
   "cell_type": "code",
   "execution_count": 39,
   "id": "f0ea227c",
   "metadata": {},
   "outputs": [
    {
     "name": "stdout",
     "output_type": "stream",
     "text": [
      "Fish    Angelfish  Zebrafish  Killerfish  Swordtail  Clownfish\n",
      "Length       15.2        6.5         9.0        6.0       10.6\n",
      "Width         7.7        2.1         4.5        2.0        3.7\n"
     ]
    }
   ],
   "source": [
    "# Deleting multiple columns\n",
    "df_new.drop(columns=['Clownfish2', 'Clownfish3'], inplace=True)\n",
    "print(df_new)"
   ]
  },
  {
   "cell_type": "code",
   "execution_count": 40,
   "id": "c1b2b6cb",
   "metadata": {},
   "outputs": [
    {
     "name": "stdout",
     "output_type": "stream",
     "text": [
      "Area of Angelfish is 91.92300104403735\n",
      "Area of Zebrafish is 10.720684930375171\n",
      "Area of Killerfish is 31.808625617596654\n",
      "Area of Swordtail is 9.42477796076938\n",
      "Area of Clownfish is 30.80331596844792\n"
     ]
    }
   ],
   "source": [
    "# Iterating over column values\n",
    "import math\n",
    "areas = []\n",
    "for fish_species, (length, width) in df_new.items():\n",
    "    area = math.pi * length * width / 4\n",
    "    print(f\"Area of {fish_species} is {area}\")\n",
    "    areas.append(area)"
   ]
  },
  {
   "cell_type": "code",
   "execution_count": 42,
   "id": "7b6c4e2b",
   "metadata": {},
   "outputs": [
    {
     "name": "stdout",
     "output_type": "stream",
     "text": [
      "Fish    Angelfish  Zebrafish  Killerfish  Swordtail  Clownfish\n",
      "Length  15.200000   6.500000    9.000000   6.000000  10.600000\n",
      "Width    7.700000   2.100000    4.500000   2.000000   3.700000\n",
      "Area    91.923001  10.720685   31.808626   9.424778  30.803316\n"
     ]
    }
   ],
   "source": [
    "# Adding a new row\n",
    "df_new.loc['Area'] = areas\n",
    "df_new.reindex()\n",
    "print(df_new)"
   ]
  },
  {
   "cell_type": "code",
   "execution_count": 43,
   "id": "e93b937c",
   "metadata": {},
   "outputs": [
    {
     "name": "stdout",
     "output_type": "stream",
     "text": [
      "Our table contains 3 rows and 5 columns\n"
     ]
    }
   ],
   "source": [
    "# Checking the table shape\n",
    "row_count, column_count = df_new.shape\n",
    "print(f\"Our table contains {row_count} rows and {column_count} columns\")"
   ]
  },
  {
   "cell_type": "code",
   "execution_count": 44,
   "id": "9063ff17",
   "metadata": {},
   "outputs": [
    {
     "name": "stdout",
     "output_type": "stream",
     "text": [
      ",Angelfish,Zebrafish,Killerfish,Swordtail,Clownfish\n",
      "Length,15.2,6.5,9.0,6.0,10.6\n",
      "Width,7.7,2.1,4.5,2.0,3.7\n",
      "Area,91.92300104403735,10.720684930375171,31.808625617596654,9.42477796076938,30.80331596844792\n",
      "\n"
     ]
    }
   ],
   "source": [
    "# 8.6 Saving and loading table data\n",
    "# Saving a table to a CSV file\n",
    "df_new.to_csv('Fish_measurements.csv')\n",
    "with open('Fish_measurements.csv') as f:\n",
    "    print(f.read())"
   ]
  },
  {
   "cell_type": "code",
   "execution_count": 47,
   "id": "e4509888",
   "metadata": {},
   "outputs": [
    {
     "name": "stdout",
     "output_type": "stream",
     "text": [
      "        Angelfish  Zebrafish  Killerfish  Swordtail  Clownfish\n",
      "Length  15.200000   6.500000    9.000000   6.000000  10.600000\n",
      "Width    7.700000   2.100000    4.500000   2.000000   3.700000\n",
      "Area    91.923001  10.720685   31.808626   9.424778  30.803316\n",
      "\n",
      "Row index names when column is assigned:\n",
      "['Length' 'Width' 'Area']\n",
      "\n",
      "Row index names when no column is assigned:\n",
      "[0 1 2]\n"
     ]
    }
   ],
   "source": [
    "# Loading a table from a CSV file\n",
    "df = pd.read_csv('Fish_measurements.csv', index_col=0)\n",
    "print(df)\n",
    "print(\"\\nRow index names when column is assigned:\")\n",
    "print(df.index.values)\n",
    "\n",
    "df_no_assign = pd.read_csv('Fish_measurements.csv')\n",
    "print(\"\\nRow index names when no column is assigned:\")\n",
    "print(df_no_assign.index.values)"
   ]
  },
  {
   "cell_type": "code",
   "execution_count": 51,
   "id": "4f3bca00",
   "metadata": {},
   "outputs": [],
   "source": [
    "# 8.7 Visualizing tables using Seaborn\n",
    "import matplotlib.pyplot as plt\n",
    "import seaborn as sns"
   ]
  },
  {
   "cell_type": "code",
   "execution_count": 52,
   "id": "778db917",
   "metadata": {},
   "outputs": [
    {
     "data": {
      "image/png": "[encoded data removed]",
      "text/plain": [
       "<Figure size 432x288 with 2 Axes>"
      ]
     },
     "metadata": {
      "needs_background": "light"
     },
     "output_type": "display_data"
    }
   ],
   "source": [
    "# Visualizing a heatmap using Seaborn\n",
    "sns.heatmap(df)\n",
    "plt.show()"
   ]
  },
  {
   "cell_type": "code",
   "execution_count": 54,
   "id": "3ad9bddb",
   "metadata": {},
   "outputs": [
    {
     "data": {
      "image/png": "[encoded data removed]",
      "text/plain": [
       "<Figure size 432x288 with 2 Axes>"
      ]
     },
     "metadata": {
      "needs_background": "light"
     },
     "output_type": "display_data"
    }
   ],
   "source": [
    "# Adjusting heatmap colors\n",
    "sns.heatmap(df, cmap='YlGnBu')\n",
    "plt.show()"
   ]
  },
  {
   "cell_type": "code",
   "execution_count": 55,
   "id": "3e1e946d",
   "metadata": {},
   "outputs": [
    {
     "data": {
      "image/png": "[encoded data removed]",
      "text/plain": [
       "<Figure size 432x288 with 2 Axes>"
      ]
     },
     "metadata": {
      "needs_background": "light"
     },
     "output_type": "display_data"
    }
   ],
   "source": [
    "# Annotating the heatmap\n",
    "sns.heatmap(df, cmap='YlGnBu', annot=True)\n",
    "plt.show()"
   ]
  },
  {
   "cell_type": "code",
   "execution_count": 56,
   "id": "814c1a7c",
   "metadata": {},
   "outputs": [
    {
     "data": {
      "image/png": "[encoded data removed]",
      "text/plain": [
       "<Figure size 432x288 with 2 Axes>"
      ]
     },
     "metadata": {
      "needs_background": "light"
     },
     "output_type": "display_data"
    }
   ],
   "source": [
    "# Seaborn uses Matplotlib in its backend\n",
    "# Rotating heatmap labels using Matplotlib\n",
    "sns.heatmap(df, cmap=\"YlGnBu\", annot=True)\n",
    "plt.yticks(rotation=0)\n",
    "plt.show()"
   ]
  },
  {
   "cell_type": "code",
   "execution_count": 57,
   "id": "068e50a7",
   "metadata": {},
   "outputs": [
    {
     "data": {
      "image/png": "[encoded data removed]",
      "text/plain": [
       "<Figure size 432x288 with 2 Axes>"
      ]
     },
     "metadata": {
      "needs_background": "light"
     },
     "output_type": "display_data"
    }
   ],
   "source": [
    "# Visualizing a heatmap from a NumPy array\n",
    "sns.heatmap(df.values, cmap=\"YlGnBu\", annot=True, xticklabels=df.columns, yticklabels=df.index)\n",
    "plt.yticks(rotation=0)\n",
    "plt.show()"
   ]
  },
  {
   "cell_type": "code",
   "execution_count": 58,
   "id": "f3125131",
   "metadata": {},
   "outputs": [],
   "source": [
    "# Key Words / Notes:"
   ]
  },
  {
   "cell_type": "code",
   "execution_count": null,
   "id": "6b91355d",
   "metadata": {},
   "outputs": [],
   "source": [
    "# 2D table structures can easily be processed using Pandas; we can load the data into Pandas using dictionaries or external files\n",
    "# Pandas stores each table in a data fram built on top of a NumPy array\n",
    "# Columns in a data frame have a name, which we can use to access those specific columns (dictionary notation)\n",
    "# Rows in a data frame are assigned numeric indices by default, which we can use to access those specific rows\n",
    "#     Also possible to swap the numeric row indices for string names\n",
    "# Summarize the contents of a data frame using the describe method; returns valuable statistics such as mean and std\n",
    "# Heatmap: Visual diagram where the color corresponds to the metric we are looking for"
   ]
  }
 ],
 "metadata": {
  "kernelspec": {
   "display_name": "Python 3 (ipykernel)",
   "language": "python",
   "name": "python3"
  },
  "language_info": {
   "codemirror_mode": {
    "name": "ipython",
    "version": 3
   },
   "file_extension": ".py",
   "mimetype": "text/x-python",
   "name": "python",
   "nbconvert_exporter": "python",
   "pygments_lexer": "ipython3",
   "version": "3.9.16"
  }
 },
 "nbformat": 4,
 "nbformat_minor": 5
}
