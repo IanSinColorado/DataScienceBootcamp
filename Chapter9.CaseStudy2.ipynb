{
 "cells": [
  {
   "cell_type": "markdown",
   "id": "54eca6c9",
   "metadata": {},
   "source": [
    "# My attempt at Case Study 2"
   ]
  },
  {
   "cell_type": "code",
   "execution_count": 4,
   "id": "72e0d04f",
   "metadata": {},
   "outputs": [],
   "source": [
    "import pandas as pd\n",
    "import matplotlib.pyplot as plt\n",
    "import seaborn as sns\n",
    "import numpy as np\n",
    "import scipy\n",
    "from scipy import stats"
   ]
  },
  {
   "cell_type": "code",
   "execution_count": 5,
   "id": "53402a2b",
   "metadata": {},
   "outputs": [],
   "source": [
    "# Read in the csv data into a data frame\n",
    "df = pd.read_csv('./CaseStudyFiles/colored_ad_click_table.csv')"
   ]
  },
  {
   "cell_type": "code",
   "execution_count": 6,
   "id": "c27d5f3a",
   "metadata": {},
   "outputs": [
    {
     "name": "stdout",
     "output_type": "stream",
     "text": [
      "(30, 41)\n"
     ]
    }
   ],
   "source": [
    "print(df.shape)"
   ]
  },
  {
   "cell_type": "code",
   "execution_count": 7,
   "id": "7af92900",
   "metadata": {
    "scrolled": true
   },
   "outputs": [
    {
     "name": "stdout",
     "output_type": "stream",
     "text": [
      "['Pink' 'Gray' 'Sapphire' 'Purple' 'Coral' 'Olive' 'Navy' 'Maroon' 'Teal'\n",
      " 'Cyan' 'Orange' 'Black' 'Tan' 'Red' 'Blue' 'Brown' 'Turquoise' 'Indigo'\n",
      " 'Gold' 'Jade' 'Ultramarine' 'Yellow' 'Virdian' 'Violet' 'Green'\n",
      " 'Aquamarine' 'Magenta' 'Silver' 'Bronze' 'Lime']\n"
     ]
    }
   ],
   "source": [
    "print(df.Color.values)"
   ]
  },
  {
   "cell_type": "code",
   "execution_count": 8,
   "id": "b2d238e3",
   "metadata": {},
   "outputs": [
    {
     "name": "stdout",
     "output_type": "stream",
     "text": [
      "          Color  Click Count: Day 1  View Count: Day 1  Click Count: Day 2  \\\n",
      "0          Pink                  21                100                  20   \n",
      "1          Gray                  27                100                  27   \n",
      "2      Sapphire                  30                100                  32   \n",
      "3        Purple                  26                100                  21   \n",
      "4         Coral                  26                100                  24   \n",
      "5         Olive                  26                100                  19   \n",
      "6          Navy                  38                100                  29   \n",
      "7        Maroon                  21                100                  29   \n",
      "8          Teal                  25                100                  25   \n",
      "9          Cyan                  24                100                  22   \n",
      "10       Orange                  13                100                  28   \n",
      "11        Black                  27                100                  25   \n",
      "12          Tan                  22                100                  15   \n",
      "13          Red                  22                100                  22   \n",
      "14         Blue                  29                100                  30   \n",
      "15        Brown                  19                100                  16   \n",
      "16    Turquoise                  24                100                  37   \n",
      "17       Indigo                  12                100                  16   \n",
      "18         Gold                  21                100                  22   \n",
      "19         Jade                  27                100                  28   \n",
      "20  Ultramarine                  49                100                  41   \n",
      "21       Yellow                  14                100                  24   \n",
      "22      Virdian                  27                100                  23   \n",
      "23       Violet                  15                100                  22   \n",
      "24        Green                  14                100                  25   \n",
      "25   Aquamarine                  24                100                  28   \n",
      "26      Magenta                  18                100                  21   \n",
      "27       Silver                  26                100                  24   \n",
      "28       Bronze                  19                100                  19   \n",
      "29         Lime                  20                100                  19   \n",
      "\n",
      "    View Count: Day 2  Click Count: Day 3  View Count: Day 3  \\\n",
      "0                 100                  14                100   \n",
      "1                 100                  26                100   \n",
      "2                 100                  30                100   \n",
      "3                 100                  16                100   \n",
      "4                 100                  25                100   \n",
      "5                 100                  20                100   \n",
      "6                 100                  30                100   \n",
      "7                 100                  24                100   \n",
      "8                 100                  32                100   \n",
      "9                 100                  34                100   \n",
      "10                100                  24                100   \n",
      "11                100                  28                100   \n",
      "12                100                  18                100   \n",
      "13                100                  16                100   \n",
      "14                100                  27                100   \n",
      "15                100                  15                100   \n",
      "16                100                  34                100   \n",
      "17                100                  26                100   \n",
      "18                100                  27                100   \n",
      "19                100                  22                100   \n",
      "20                100                  24                100   \n",
      "21                100                  20                100   \n",
      "22                100                  24                100   \n",
      "23                100                  22                100   \n",
      "24                100                  29                100   \n",
      "25                100                  25                100   \n",
      "26                100                  23                100   \n",
      "27                100                  18                100   \n",
      "28                100                  27                100   \n",
      "29                100                  22                100   \n",
      "\n",
      "    Click Count: Day 4  View Count: Day 4  Click Count: Day 5  ...  \\\n",
      "0                   30                100                  12  ...   \n",
      "1                   17                100                  29  ...   \n",
      "2                   26                100                  32  ...   \n",
      "3                   17                100                  23  ...   \n",
      "4                   27                100                  36  ...   \n",
      "5                   23                100                  27  ...   \n",
      "6                   32                100                  29  ...   \n",
      "7                   22                100                  22  ...   \n",
      "8                   28                100                  25  ...   \n",
      "9                   23                100                  23  ...   \n",
      "10                  20                100                  21  ...   \n",
      "11                  26                100                  25  ...   \n",
      "12                  28                100                  19  ...   \n",
      "13                  19                100                  15  ...   \n",
      "14                  27                100                  42  ...   \n",
      "15                  16                100                  20  ...   \n",
      "16                  32                100                  33  ...   \n",
      "17                  20                100                  23  ...   \n",
      "18                  22                100                  28  ...   \n",
      "19                  21                100                  22  ...   \n",
      "20                  36                100                  34  ...   \n",
      "21                  17                100                  18  ...   \n",
      "22                  22                100                  22  ...   \n",
      "23                  20                100                  26  ...   \n",
      "24                  30                100                  26  ...   \n",
      "25                  35                100                  31  ...   \n",
      "26                  19                100                  21  ...   \n",
      "27                  32                100                  32  ...   \n",
      "28                  18                100                  19  ...   \n",
      "29                  26                100                  29  ...   \n",
      "\n",
      "    Click Count: Day 16  View Count: Day 16  Click Count: Day 17  \\\n",
      "0                    23                 100                   15   \n",
      "1                    25                 100                   21   \n",
      "2                    33                 100                   30   \n",
      "3                    22                 100                   20   \n",
      "4                    26                 100                   21   \n",
      "5                    16                 100                   21   \n",
      "6                    37                 100                   30   \n",
      "7                    21                 100                   22   \n",
      "8                    35                 100                   23   \n",
      "9                    29                 100                   26   \n",
      "10                   19                 100                   16   \n",
      "11                   17                 100                   25   \n",
      "12                   20                 100                   21   \n",
      "13                   23                 100                   23   \n",
      "14                   26                 100                   31   \n",
      "15                   18                 100                   21   \n",
      "16                   25                 100                   35   \n",
      "17                   22                 100                   19   \n",
      "18                   21                 100                   16   \n",
      "19                   20                 100                   21   \n",
      "20                   30                 100                   31   \n",
      "21                   26                 100                   24   \n",
      "22                   23                 100                   24   \n",
      "23                   16                 100                   30   \n",
      "24                   32                 100                   32   \n",
      "25                   38                 100                   23   \n",
      "26                   23                 100                   17   \n",
      "27                   21                 100                   20   \n",
      "28                   18                 100                   15   \n",
      "29                   21                 100                   19   \n",
      "\n",
      "    View Count: Day 17  Click Count: Day 18  View Count: Day 18  \\\n",
      "0                  100                   22                 100   \n",
      "1                  100                   27                 100   \n",
      "2                  100                   30                 100   \n",
      "3                  100                   26                 100   \n",
      "4                  100                   22                 100   \n",
      "5                  100                   23                 100   \n",
      "6                  100                   25                 100   \n",
      "7                  100                   32                 100   \n",
      "8                  100                   26                 100   \n",
      "9                  100                   33                 100   \n",
      "10                 100                   12                 100   \n",
      "11                 100                   20                 100   \n",
      "12                 100                   26                 100   \n",
      "13                 100                   16                 100   \n",
      "14                 100                   31                 100   \n",
      "15                 100                   29                 100   \n",
      "16                 100                   31                 100   \n",
      "17                 100                   29                 100   \n",
      "18                 100                   22                 100   \n",
      "19                 100                   20                 100   \n",
      "20                 100                   34                 100   \n",
      "21                 100                   20                 100   \n",
      "22                 100                   19                 100   \n",
      "23                 100                   16                 100   \n",
      "24                 100                   26                 100   \n",
      "25                 100                   12                 100   \n",
      "26                 100                   23                 100   \n",
      "27                 100                   27                 100   \n",
      "28                 100                   22                 100   \n",
      "29                 100                   17                 100   \n",
      "\n",
      "    Click Count: Day 19  View Count: Day 19  Click Count: Day 20  \\\n",
      "0                    19                 100                   20   \n",
      "1                    25                 100                   24   \n",
      "2                    30                 100                   25   \n",
      "3                    25                 100                   33   \n",
      "4                    26                 100                   25   \n",
      "5                    26                 100                   26   \n",
      "6                    31                 100                   41   \n",
      "7                    25                 100                   20   \n",
      "8                    32                 100                   24   \n",
      "9                    37                 100                   33   \n",
      "10                   22                 100                   28   \n",
      "11                   19                 100                   21   \n",
      "12                   25                 100                   19   \n",
      "13                   25                 100                   12   \n",
      "14                   23                 100                   25   \n",
      "15                   16                 100                   24   \n",
      "16                   21                 100                   26   \n",
      "17                   31                 100                   15   \n",
      "18                   22                 100                   29   \n",
      "19                   21                 100                   23   \n",
      "20                   40                 100                   35   \n",
      "21                   26                 100                   22   \n",
      "22                   24                 100                   29   \n",
      "23                   32                 100                   21   \n",
      "24                   23                 100                   26   \n",
      "25                   26                 100                   28   \n",
      "26                   26                 100                   21   \n",
      "27                   16                 100                   20   \n",
      "28                   24                 100                   18   \n",
      "29                   22                 100                   18   \n",
      "\n",
      "    View Count: Day 20  \n",
      "0                  100  \n",
      "1                  100  \n",
      "2                  100  \n",
      "3                  100  \n",
      "4                  100  \n",
      "5                  100  \n",
      "6                  100  \n",
      "7                  100  \n",
      "8                  100  \n",
      "9                  100  \n",
      "10                 100  \n",
      "11                 100  \n",
      "12                 100  \n",
      "13                 100  \n",
      "14                 100  \n",
      "15                 100  \n",
      "16                 100  \n",
      "17                 100  \n",
      "18                 100  \n",
      "19                 100  \n",
      "20                 100  \n",
      "21                 100  \n",
      "22                 100  \n",
      "23                 100  \n",
      "24                 100  \n",
      "25                 100  \n",
      "26                 100  \n",
      "27                 100  \n",
      "28                 100  \n",
      "29                 100  \n",
      "\n",
      "[30 rows x 41 columns]\n"
     ]
    }
   ],
   "source": [
    "print(df)"
   ]
  },
  {
   "cell_type": "code",
   "execution_count": 9,
   "id": "854cf641",
   "metadata": {},
   "outputs": [
    {
     "name": "stdout",
     "output_type": "stream",
     "text": [
      "[['Pink' 21 100 ... 100 20 100]\n",
      " ['Gray' 27 100 ... 100 24 100]\n",
      " ['Sapphire' 30 100 ... 100 25 100]\n",
      " ...\n",
      " ['Silver' 26 100 ... 100 20 100]\n",
      " ['Bronze' 19 100 ... 100 18 100]\n",
      " ['Lime' 20 100 ... 100 18 100]]\n"
     ]
    }
   ],
   "source": [
    "print(df.values)"
   ]
  },
  {
   "cell_type": "code",
   "execution_count": 10,
   "id": "dbd13722",
   "metadata": {},
   "outputs": [
    {
     "name": "stdout",
     "output_type": "stream",
     "text": [
      "                     Pink  Gray  Sapphire  Purple  Coral  Olive  Navy  Maroon  \\\n",
      "Color                Pink  Gray  Sapphire  Purple  Coral  Olive  Navy  Maroon   \n",
      "Click Count: Day 1     21    27        30      26     26     26    38      21   \n",
      "View Count: Day 1     100   100       100     100    100    100   100     100   \n",
      "Click Count: Day 2     20    27        32      21     24     19    29      29   \n",
      "View Count: Day 2     100   100       100     100    100    100   100     100   \n",
      "Click Count: Day 3     14    26        30      16     25     20    30      24   \n",
      "View Count: Day 3     100   100       100     100    100    100   100     100   \n",
      "Click Count: Day 4     30    17        26      17     27     23    32      22   \n",
      "View Count: Day 4     100   100       100     100    100    100   100     100   \n",
      "Click Count: Day 5     12    29        32      23     36     27    29      22   \n",
      "View Count: Day 5     100   100       100     100    100    100   100     100   \n",
      "Click Count: Day 6     23    27        29      17     30     11    22      23   \n",
      "View Count: Day 6     100   100       100     100    100    100   100     100   \n",
      "Click Count: Day 7     26    19        21      21     36     24    29      22   \n",
      "View Count: Day 7     100   100       100     100    100    100   100     100   \n",
      "Click Count: Day 8     21    21        26      30     31     18    30      16   \n",
      "View Count: Day 8     100   100       100     100    100    100   100     100   \n",
      "Click Count: Day 9     16    28        28      15     31     22    25      26   \n",
      "View Count: Day 9     100   100       100     100    100    100   100     100   \n",
      "Click Count: Day 10    21    24        27      26     26     29    23      26   \n",
      "View Count: Day 10    100   100       100     100    100    100   100     100   \n",
      "Click Count: Day 11    21    23        33      17     37     26    26      17   \n",
      "View Count: Day 11    100   100       100     100    100    100   100     100   \n",
      "Click Count: Day 12    16    21        22      20     25     24    30      24   \n",
      "View Count: Day 12    100   100       100     100    100    100   100     100   \n",
      "Click Count: Day 13    30    18        27      24     21     15    27      19   \n",
      "View Count: Day 13    100   100       100     100    100    100   100     100   \n",
      "Click Count: Day 14    24    18        29      19     23     17    23      29   \n",
      "View Count: Day 14    100   100       100     100    100    100   100     100   \n",
      "Click Count: Day 15    17    18        38      24     20     10    29      22   \n",
      "View Count: Day 15    100   100       100     100    100    100   100     100   \n",
      "Click Count: Day 16    23    25        33      22     26     16    37      21   \n",
      "View Count: Day 16    100   100       100     100    100    100   100     100   \n",
      "Click Count: Day 17    15    21        30      20     21     21    30      22   \n",
      "View Count: Day 17    100   100       100     100    100    100   100     100   \n",
      "Click Count: Day 18    22    27        30      26     22     23    25      32   \n",
      "View Count: Day 18    100   100       100     100    100    100   100     100   \n",
      "Click Count: Day 19    19    25        30      25     26     26    31      25   \n",
      "View Count: Day 19    100   100       100     100    100    100   100     100   \n",
      "Click Count: Day 20    20    24        25      33     25     26    41      20   \n",
      "View Count: Day 20    100   100       100     100    100    100   100     100   \n",
      "\n",
      "                     Teal  Cyan  ...  Ultramarine  Yellow  Virdian  Violet  \\\n",
      "Color                Teal  Cyan  ...  Ultramarine  Yellow  Virdian  Violet   \n",
      "Click Count: Day 1     25    24  ...           49      14       27      15   \n",
      "View Count: Day 1     100   100  ...          100     100      100     100   \n",
      "Click Count: Day 2     25    22  ...           41      24       23      22   \n",
      "View Count: Day 2     100   100  ...          100     100      100     100   \n",
      "Click Count: Day 3     32    34  ...           24      20       24      22   \n",
      "View Count: Day 3     100   100  ...          100     100      100     100   \n",
      "Click Count: Day 4     28    23  ...           36      17       22      20   \n",
      "View Count: Day 4     100   100  ...          100     100      100     100   \n",
      "Click Count: Day 5     25    23  ...           34      18       22      26   \n",
      "View Count: Day 5     100   100  ...          100     100      100     100   \n",
      "Click Count: Day 6     24    31  ...           31      26       23      14   \n",
      "View Count: Day 6     100   100  ...          100     100      100     100   \n",
      "Click Count: Day 7     31    28  ...           31      25       27      24   \n",
      "View Count: Day 7     100   100  ...          100     100      100     100   \n",
      "Click Count: Day 8     28    31  ...           36      24       25      21   \n",
      "View Count: Day 8     100   100  ...          100     100      100     100   \n",
      "Click Count: Day 9     29    26  ...           44      22       19      19   \n",
      "View Count: Day 9     100   100  ...          100     100      100     100   \n",
      "Click Count: Day 10    27    25  ...           35      22       18      20   \n",
      "View Count: Day 10    100   100  ...          100     100      100     100   \n",
      "Click Count: Day 11    33    27  ...           30      15       23      28   \n",
      "View Count: Day 11    100   100  ...          100     100      100     100   \n",
      "Click Count: Day 12    28    28  ...           29      17       23      20   \n",
      "View Count: Day 12    100   100  ...          100     100      100     100   \n",
      "Click Count: Day 13    29    35  ...           28      21       27      29   \n",
      "View Count: Day 13    100   100  ...          100     100      100     100   \n",
      "Click Count: Day 14    39    16  ...           28      17       15      18   \n",
      "View Count: Day 14    100   100  ...          100     100      100     100   \n",
      "Click Count: Day 15    26    30  ...           38      31       21      18   \n",
      "View Count: Day 15    100   100  ...          100     100      100     100   \n",
      "Click Count: Day 16    35    29  ...           30      26       23      16   \n",
      "View Count: Day 16    100   100  ...          100     100      100     100   \n",
      "Click Count: Day 17    23    26  ...           31      24       24      30   \n",
      "View Count: Day 17    100   100  ...          100     100      100     100   \n",
      "Click Count: Day 18    26    33  ...           34      20       19      16   \n",
      "View Count: Day 18    100   100  ...          100     100      100     100   \n",
      "Click Count: Day 19    32    37  ...           40      26       24      32   \n",
      "View Count: Day 19    100   100  ...          100     100      100     100   \n",
      "Click Count: Day 20    24    33  ...           35      22       29      21   \n",
      "View Count: Day 20    100   100  ...          100     100      100     100   \n",
      "\n",
      "                     Green  Aquamarine  Magenta  Silver  Bronze  Lime  \n",
      "Color                Green  Aquamarine  Magenta  Silver  Bronze  Lime  \n",
      "Click Count: Day 1      14          24       18      26      19    20  \n",
      "View Count: Day 1      100         100      100     100     100   100  \n",
      "Click Count: Day 2      25          28       21      24      19    19  \n",
      "View Count: Day 2      100         100      100     100     100   100  \n",
      "Click Count: Day 3      29          25       23      18      27    22  \n",
      "View Count: Day 3      100         100      100     100     100   100  \n",
      "Click Count: Day 4      30          35       19      32      18    26  \n",
      "View Count: Day 4      100         100      100     100     100   100  \n",
      "Click Count: Day 5      26          31       21      32      19    29  \n",
      "View Count: Day 5      100         100      100     100     100   100  \n",
      "Click Count: Day 6      23          37       23      23      22    27  \n",
      "View Count: Day 6      100         100      100     100     100   100  \n",
      "Click Count: Day 7      22          27       18      16      27    20  \n",
      "View Count: Day 7      100         100      100     100     100   100  \n",
      "Click Count: Day 8      31          31       22      14      13    20  \n",
      "View Count: Day 8      100         100      100     100     100   100  \n",
      "Click Count: Day 9      23          30       16      19      23    29  \n",
      "View Count: Day 9      100         100      100     100     100   100  \n",
      "Click Count: Day 10     17          30       31      16      30    16  \n",
      "View Count: Day 10     100         100      100     100     100   100  \n",
      "Click Count: Day 11     30          27       17      18      31    19  \n",
      "View Count: Day 11     100         100      100     100     100   100  \n",
      "Click Count: Day 12     31          31       24      20      16    15  \n",
      "View Count: Day 12     100         100      100     100     100   100  \n",
      "Click Count: Day 13     30          35       27      23      14    16  \n",
      "View Count: Day 13     100         100      100     100     100   100  \n",
      "Click Count: Day 14     29          32       17      22      16    24  \n",
      "View Count: Day 14     100         100      100     100     100   100  \n",
      "Click Count: Day 15     16          34       16      18      26    25  \n",
      "View Count: Day 15     100         100      100     100     100   100  \n",
      "Click Count: Day 16     32          38       23      21      18    21  \n",
      "View Count: Day 16     100         100      100     100     100   100  \n",
      "Click Count: Day 17     32          23       17      20      15    19  \n",
      "View Count: Day 17     100         100      100     100     100   100  \n",
      "Click Count: Day 18     26          12       23      27      22    17  \n",
      "View Count: Day 18     100         100      100     100     100   100  \n",
      "Click Count: Day 19     23          26       26      16      24    22  \n",
      "View Count: Day 19     100         100      100     100     100   100  \n",
      "Click Count: Day 20     26          28       21      20      18    18  \n",
      "View Count: Day 20     100         100      100     100     100   100  \n",
      "\n",
      "[41 rows x 30 columns]\n"
     ]
    }
   ],
   "source": [
    "# Transpose the table to turn the rows into columns and turn the Blue column into a numpy array\n",
    "colors = df.Color.values\n",
    "df_transposed = df.transpose().set_axis(colors, axis=1)\n",
    "print(df_transposed)"
   ]
  },
  {
   "cell_type": "code",
   "execution_count": 11,
   "id": "77823ad8",
   "metadata": {},
   "outputs": [
    {
     "name": "stdout",
     "output_type": "stream",
     "text": [
      "14\n"
     ]
    }
   ],
   "source": [
    "# Finding the index of blue:\n",
    "print(np.where(colors == 'Blue')[0][0])"
   ]
  },
  {
   "cell_type": "code",
   "execution_count": 12,
   "id": "0f80679d",
   "metadata": {},
   "outputs": [
    {
     "name": "stdout",
     "output_type": "stream",
     "text": [
      "['Blue' 29 100 30 100 27 100 27 100 42 100 33 100 29 100 18 100 27 100 21\n",
      " 100 28 100 24 100 27 100 30 100 39 100 26 100 31 100 31 100 23 100 25 100]\n"
     ]
    }
   ],
   "source": [
    "# Turn column 14 into an ndarray:\n",
    "print(df_transposed.Blue.values)"
   ]
  },
  {
   "cell_type": "code",
   "execution_count": 13,
   "id": "2a000da0",
   "metadata": {},
   "outputs": [
    {
     "name": "stdout",
     "output_type": "stream",
     "text": [
      "                     Pink  Gray  Sapphire  Purple  Coral  Olive  Navy  Maroon  \\\n",
      "Color                Pink  Gray  Sapphire  Purple  Coral  Olive  Navy  Maroon   \n",
      "Click Count: Day 1     21    27        30      26     26     26    38      21   \n",
      "View Count: Day 1     100   100       100     100    100    100   100     100   \n",
      "Click Count: Day 2     20    27        32      21     24     19    29      29   \n",
      "View Count: Day 2     100   100       100     100    100    100   100     100   \n",
      "Click Count: Day 3     14    26        30      16     25     20    30      24   \n",
      "View Count: Day 3     100   100       100     100    100    100   100     100   \n",
      "Click Count: Day 4     30    17        26      17     27     23    32      22   \n",
      "View Count: Day 4     100   100       100     100    100    100   100     100   \n",
      "Click Count: Day 5     12    29        32      23     36     27    29      22   \n",
      "View Count: Day 5     100   100       100     100    100    100   100     100   \n",
      "Click Count: Day 6     23    27        29      17     30     11    22      23   \n",
      "View Count: Day 6     100   100       100     100    100    100   100     100   \n",
      "Click Count: Day 7     26    19        21      21     36     24    29      22   \n",
      "View Count: Day 7     100   100       100     100    100    100   100     100   \n",
      "Click Count: Day 8     21    21        26      30     31     18    30      16   \n",
      "View Count: Day 8     100   100       100     100    100    100   100     100   \n",
      "Click Count: Day 9     16    28        28      15     31     22    25      26   \n",
      "View Count: Day 9     100   100       100     100    100    100   100     100   \n",
      "Click Count: Day 10    21    24        27      26     26     29    23      26   \n",
      "View Count: Day 10    100   100       100     100    100    100   100     100   \n",
      "Click Count: Day 11    21    23        33      17     37     26    26      17   \n",
      "View Count: Day 11    100   100       100     100    100    100   100     100   \n",
      "Click Count: Day 12    16    21        22      20     25     24    30      24   \n",
      "View Count: Day 12    100   100       100     100    100    100   100     100   \n",
      "Click Count: Day 13    30    18        27      24     21     15    27      19   \n",
      "View Count: Day 13    100   100       100     100    100    100   100     100   \n",
      "Click Count: Day 14    24    18        29      19     23     17    23      29   \n",
      "View Count: Day 14    100   100       100     100    100    100   100     100   \n",
      "Click Count: Day 15    17    18        38      24     20     10    29      22   \n",
      "View Count: Day 15    100   100       100     100    100    100   100     100   \n",
      "Click Count: Day 16    23    25        33      22     26     16    37      21   \n",
      "View Count: Day 16    100   100       100     100    100    100   100     100   \n",
      "Click Count: Day 17    15    21        30      20     21     21    30      22   \n",
      "View Count: Day 17    100   100       100     100    100    100   100     100   \n",
      "Click Count: Day 18    22    27        30      26     22     23    25      32   \n",
      "View Count: Day 18    100   100       100     100    100    100   100     100   \n",
      "Click Count: Day 19    19    25        30      25     26     26    31      25   \n",
      "View Count: Day 19    100   100       100     100    100    100   100     100   \n",
      "Click Count: Day 20    20    24        25      33     25     26    41      20   \n",
      "View Count: Day 20    100   100       100     100    100    100   100     100   \n",
      "\n",
      "                     Teal  Cyan  ...  Ultramarine  Yellow  Virdian  Violet  \\\n",
      "Color                Teal  Cyan  ...  Ultramarine  Yellow  Virdian  Violet   \n",
      "Click Count: Day 1     25    24  ...           49      14       27      15   \n",
      "View Count: Day 1     100   100  ...          100     100      100     100   \n",
      "Click Count: Day 2     25    22  ...           41      24       23      22   \n",
      "View Count: Day 2     100   100  ...          100     100      100     100   \n",
      "Click Count: Day 3     32    34  ...           24      20       24      22   \n",
      "View Count: Day 3     100   100  ...          100     100      100     100   \n",
      "Click Count: Day 4     28    23  ...           36      17       22      20   \n",
      "View Count: Day 4     100   100  ...          100     100      100     100   \n",
      "Click Count: Day 5     25    23  ...           34      18       22      26   \n",
      "View Count: Day 5     100   100  ...          100     100      100     100   \n",
      "Click Count: Day 6     24    31  ...           31      26       23      14   \n",
      "View Count: Day 6     100   100  ...          100     100      100     100   \n",
      "Click Count: Day 7     31    28  ...           31      25       27      24   \n",
      "View Count: Day 7     100   100  ...          100     100      100     100   \n",
      "Click Count: Day 8     28    31  ...           36      24       25      21   \n",
      "View Count: Day 8     100   100  ...          100     100      100     100   \n",
      "Click Count: Day 9     29    26  ...           44      22       19      19   \n",
      "View Count: Day 9     100   100  ...          100     100      100     100   \n",
      "Click Count: Day 10    27    25  ...           35      22       18      20   \n",
      "View Count: Day 10    100   100  ...          100     100      100     100   \n",
      "Click Count: Day 11    33    27  ...           30      15       23      28   \n",
      "View Count: Day 11    100   100  ...          100     100      100     100   \n",
      "Click Count: Day 12    28    28  ...           29      17       23      20   \n",
      "View Count: Day 12    100   100  ...          100     100      100     100   \n",
      "Click Count: Day 13    29    35  ...           28      21       27      29   \n",
      "View Count: Day 13    100   100  ...          100     100      100     100   \n",
      "Click Count: Day 14    39    16  ...           28      17       15      18   \n",
      "View Count: Day 14    100   100  ...          100     100      100     100   \n",
      "Click Count: Day 15    26    30  ...           38      31       21      18   \n",
      "View Count: Day 15    100   100  ...          100     100      100     100   \n",
      "Click Count: Day 16    35    29  ...           30      26       23      16   \n",
      "View Count: Day 16    100   100  ...          100     100      100     100   \n",
      "Click Count: Day 17    23    26  ...           31      24       24      30   \n",
      "View Count: Day 17    100   100  ...          100     100      100     100   \n",
      "Click Count: Day 18    26    33  ...           34      20       19      16   \n",
      "View Count: Day 18    100   100  ...          100     100      100     100   \n",
      "Click Count: Day 19    32    37  ...           40      26       24      32   \n",
      "View Count: Day 19    100   100  ...          100     100      100     100   \n",
      "Click Count: Day 20    24    33  ...           35      22       29      21   \n",
      "View Count: Day 20    100   100  ...          100     100      100     100   \n",
      "\n",
      "                     Green  Aquamarine  Magenta  Silver  Bronze  Lime  \n",
      "Color                Green  Aquamarine  Magenta  Silver  Bronze  Lime  \n",
      "Click Count: Day 1      14          24       18      26      19    20  \n",
      "View Count: Day 1      100         100      100     100     100   100  \n",
      "Click Count: Day 2      25          28       21      24      19    19  \n",
      "View Count: Day 2      100         100      100     100     100   100  \n",
      "Click Count: Day 3      29          25       23      18      27    22  \n",
      "View Count: Day 3      100         100      100     100     100   100  \n",
      "Click Count: Day 4      30          35       19      32      18    26  \n",
      "View Count: Day 4      100         100      100     100     100   100  \n",
      "Click Count: Day 5      26          31       21      32      19    29  \n",
      "View Count: Day 5      100         100      100     100     100   100  \n",
      "Click Count: Day 6      23          37       23      23      22    27  \n",
      "View Count: Day 6      100         100      100     100     100   100  \n",
      "Click Count: Day 7      22          27       18      16      27    20  \n",
      "View Count: Day 7      100         100      100     100     100   100  \n",
      "Click Count: Day 8      31          31       22      14      13    20  \n",
      "View Count: Day 8      100         100      100     100     100   100  \n",
      "Click Count: Day 9      23          30       16      19      23    29  \n",
      "View Count: Day 9      100         100      100     100     100   100  \n",
      "Click Count: Day 10     17          30       31      16      30    16  \n",
      "View Count: Day 10     100         100      100     100     100   100  \n",
      "Click Count: Day 11     30          27       17      18      31    19  \n",
      "View Count: Day 11     100         100      100     100     100   100  \n",
      "Click Count: Day 12     31          31       24      20      16    15  \n",
      "View Count: Day 12     100         100      100     100     100   100  \n",
      "Click Count: Day 13     30          35       27      23      14    16  \n",
      "View Count: Day 13     100         100      100     100     100   100  \n",
      "Click Count: Day 14     29          32       17      22      16    24  \n",
      "View Count: Day 14     100         100      100     100     100   100  \n",
      "Click Count: Day 15     16          34       16      18      26    25  \n",
      "View Count: Day 15     100         100      100     100     100   100  \n",
      "Click Count: Day 16     32          38       23      21      18    21  \n",
      "View Count: Day 16     100         100      100     100     100   100  \n",
      "Click Count: Day 17     32          23       17      20      15    19  \n",
      "View Count: Day 17     100         100      100     100     100   100  \n",
      "Click Count: Day 18     26          12       23      27      22    17  \n",
      "View Count: Day 18     100         100      100     100     100   100  \n",
      "Click Count: Day 19     23          26       26      16      24    22  \n",
      "View Count: Day 19     100         100      100     100     100   100  \n",
      "Click Count: Day 20     26          28       21      20      18    18  \n",
      "View Count: Day 20     100         100      100     100     100   100  \n",
      "\n",
      "[41 rows x 30 columns]\n"
     ]
    }
   ],
   "source": [
    "# Getting rid of the first row of colors as it will screw with later calculations if left\n",
    "df_transposed.tail(-1)\n",
    "print(df_transposed)"
   ]
  },
  {
   "cell_type": "code",
   "execution_count": 14,
   "id": "63f3e3d7",
   "metadata": {},
   "outputs": [
    {
     "name": "stdout",
     "output_type": "stream",
     "text": [
      "['View Count: Day 1', 'View Count: Day 2', 'View Count: Day 3', 'View Count: Day 4', 'View Count: Day 5', 'View Count: Day 6', 'View Count: Day 7', 'View Count: Day 8', 'View Count: Day 9', 'View Count: Day 10', 'View Count: Day 11', 'View Count: Day 12', 'View Count: Day 13', 'View Count: Day 14', 'View Count: Day 15', 'View Count: Day 16', 'View Count: Day 17', 'View Count: Day 18', 'View Count: Day 19', 'View Count: Day 20']\n"
     ]
    }
   ],
   "source": [
    "# delete all view count columns since it is always 100\n",
    "view_columns = [column for column in df.columns if 'View' in column]\n",
    "print(view_columns)"
   ]
  },
  {
   "cell_type": "code",
   "execution_count": 15,
   "id": "4fec636a",
   "metadata": {},
   "outputs": [
    {
     "name": "stdout",
     "output_type": "stream",
     "text": [
      "                    Pink Gray Sapphire Purple Coral Olive Navy Maroon Teal  \\\n",
      "Click Count: Day 1    21   27       30     26    26    26   38     21   25   \n",
      "Click Count: Day 2    20   27       32     21    24    19   29     29   25   \n",
      "Click Count: Day 3    14   26       30     16    25    20   30     24   32   \n",
      "Click Count: Day 4    30   17       26     17    27    23   32     22   28   \n",
      "Click Count: Day 5    12   29       32     23    36    27   29     22   25   \n",
      "Click Count: Day 6    23   27       29     17    30    11   22     23   24   \n",
      "Click Count: Day 7    26   19       21     21    36    24   29     22   31   \n",
      "Click Count: Day 8    21   21       26     30    31    18   30     16   28   \n",
      "Click Count: Day 9    16   28       28     15    31    22   25     26   29   \n",
      "Click Count: Day 10   21   24       27     26    26    29   23     26   27   \n",
      "Click Count: Day 11   21   23       33     17    37    26   26     17   33   \n",
      "Click Count: Day 12   16   21       22     20    25    24   30     24   28   \n",
      "Click Count: Day 13   30   18       27     24    21    15   27     19   29   \n",
      "Click Count: Day 14   24   18       29     19    23    17   23     29   39   \n",
      "Click Count: Day 15   17   18       38     24    20    10   29     22   26   \n",
      "Click Count: Day 16   23   25       33     22    26    16   37     21   35   \n",
      "Click Count: Day 17   15   21       30     20    21    21   30     22   23   \n",
      "Click Count: Day 18   22   27       30     26    22    23   25     32   26   \n",
      "Click Count: Day 19   19   25       30     25    26    26   31     25   32   \n",
      "Click Count: Day 20   20   24       25     33    25    26   41     20   24   \n",
      "\n",
      "                    Cyan  ... Ultramarine Yellow Virdian Violet Green  \\\n",
      "Click Count: Day 1    24  ...          49     14      27     15    14   \n",
      "Click Count: Day 2    22  ...          41     24      23     22    25   \n",
      "Click Count: Day 3    34  ...          24     20      24     22    29   \n",
      "Click Count: Day 4    23  ...          36     17      22     20    30   \n",
      "Click Count: Day 5    23  ...          34     18      22     26    26   \n",
      "Click Count: Day 6    31  ...          31     26      23     14    23   \n",
      "Click Count: Day 7    28  ...          31     25      27     24    22   \n",
      "Click Count: Day 8    31  ...          36     24      25     21    31   \n",
      "Click Count: Day 9    26  ...          44     22      19     19    23   \n",
      "Click Count: Day 10   25  ...          35     22      18     20    17   \n",
      "Click Count: Day 11   27  ...          30     15      23     28    30   \n",
      "Click Count: Day 12   28  ...          29     17      23     20    31   \n",
      "Click Count: Day 13   35  ...          28     21      27     29    30   \n",
      "Click Count: Day 14   16  ...          28     17      15     18    29   \n",
      "Click Count: Day 15   30  ...          38     31      21     18    16   \n",
      "Click Count: Day 16   29  ...          30     26      23     16    32   \n",
      "Click Count: Day 17   26  ...          31     24      24     30    32   \n",
      "Click Count: Day 18   33  ...          34     20      19     16    26   \n",
      "Click Count: Day 19   37  ...          40     26      24     32    23   \n",
      "Click Count: Day 20   33  ...          35     22      29     21    26   \n",
      "\n",
      "                    Aquamarine Magenta Silver Bronze Lime  \n",
      "Click Count: Day 1          24      18     26     19   20  \n",
      "Click Count: Day 2          28      21     24     19   19  \n",
      "Click Count: Day 3          25      23     18     27   22  \n",
      "Click Count: Day 4          35      19     32     18   26  \n",
      "Click Count: Day 5          31      21     32     19   29  \n",
      "Click Count: Day 6          37      23     23     22   27  \n",
      "Click Count: Day 7          27      18     16     27   20  \n",
      "Click Count: Day 8          31      22     14     13   20  \n",
      "Click Count: Day 9          30      16     19     23   29  \n",
      "Click Count: Day 10         30      31     16     30   16  \n",
      "Click Count: Day 11         27      17     18     31   19  \n",
      "Click Count: Day 12         31      24     20     16   15  \n",
      "Click Count: Day 13         35      27     23     14   16  \n",
      "Click Count: Day 14         32      17     22     16   24  \n",
      "Click Count: Day 15         34      16     18     26   25  \n",
      "Click Count: Day 16         38      23     21     18   21  \n",
      "Click Count: Day 17         23      17     20     15   19  \n",
      "Click Count: Day 18         12      23     27     22   17  \n",
      "Click Count: Day 19         26      26     16     24   22  \n",
      "Click Count: Day 20         28      21     20     18   18  \n",
      "\n",
      "[20 rows x 30 columns]\n"
     ]
    }
   ],
   "source": [
    "# Drop the redundant view count rows:\n",
    "df_final = df_transposed.drop(view_columns)\n",
    "\n",
    "# Drop the redundant Color row\n",
    "df_final = df_final.drop('Color')\n",
    "print(df_final)"
   ]
  },
  {
   "cell_type": "code",
   "execution_count": 16,
   "id": "8b1e2402",
   "metadata": {},
   "outputs": [
    {
     "name": "stdout",
     "output_type": "stream",
     "text": [
      "Initial mean difference is 7.800000000000001\n"
     ]
    },
    {
     "data": {
      "image/png": "[encoded data removed]",
      "text/plain": [
       "<Figure size 432x288 with 1 Axes>"
      ]
     },
     "metadata": {
      "needs_background": "light"
     },
     "output_type": "display_data"
    }
   ],
   "source": [
    "# Run a permutation test on Blue and Pink to test knowledge\n",
    "blue_data = df_final.Blue.values\n",
    "pink_data = df_final.Pink.values\n",
    "\n",
    "# initial mean difference (used as extreme to calculate p-value)\n",
    "initial_diff = abs(blue_data.mean() - pink_data.mean())\n",
    "print(f\"Initial mean difference is {initial_diff}\")\n",
    "\n",
    "combined_data = np.hstack([blue_data, pink_data])\n",
    "\n",
    "\n",
    "np.random.seed(0)\n",
    "mean_diffs = []\n",
    "for _ in range(30000):\n",
    "    np.random.shuffle(combined_data)\n",
    "    mean_diff = combined_data[:20].mean() - combined_data[20:].mean()\n",
    "    mean_diffs.append(mean_diff)\n",
    "    \n",
    "likelihoods, bin_edges, _ = plt.hist(mean_diffs, bins='auto', edgecolor='k', density=True)\n",
    "plt.xlabel('Binned Mean Difference')\n",
    "plt.ylabel('Relative Likelihood')\n",
    "plt.show()"
   ]
  },
  {
   "cell_type": "code",
   "execution_count": 17,
   "id": "86b36467",
   "metadata": {},
   "outputs": [
    {
     "name": "stdout",
     "output_type": "stream",
     "text": [
      "P-value is 6.666666666666667e-05\n"
     ]
    }
   ],
   "source": [
    "# Computing the permutation p-value from direct counts\n",
    "num_extreme_values = 0.0\n",
    "for min_diff in mean_diffs:\n",
    "    if abs(min_diff) >= initial_diff:\n",
    "        num_extreme_values += 1\n",
    "        \n",
    "p_value = num_extreme_values / len(mean_diffs)\n",
    "print(f\"P-value is {p_value}\")"
   ]
  },
  {
   "cell_type": "code",
   "execution_count": 18,
   "id": "84094494",
   "metadata": {},
   "outputs": [],
   "source": [
    "# Just have to write a function to run a permutation test on two arrays, which is done in the solution, so I will \n",
    "# just go through the solution, as I know how to run my own permutation test"
   ]
  },
  {
   "cell_type": "markdown",
   "id": "e4106c6b",
   "metadata": {},
   "source": [
    "# Case Study 2 Solution"
   ]
  },
  {
   "cell_type": "code",
   "execution_count": 35,
   "id": "7505220e",
   "metadata": {},
   "outputs": [
    {
     "name": "stdout",
     "output_type": "stream",
     "text": [
      "Table contains 30 rows and 41 columns.\n"
     ]
    }
   ],
   "source": [
    "# 9.1 Processing the ad-click table in Pandas\n",
    "# Loading the ad-click table into Pandas\n",
    "df = pd.read_csv('./CaseStudyFiles/colored_ad_click_table.csv')\n",
    "num_rows, num_cols = df.shape\n",
    "print(f\"Table contains {num_rows} rows and {num_cols} columns.\")"
   ]
  },
  {
   "cell_type": "code",
   "execution_count": 36,
   "id": "45e402ea",
   "metadata": {},
   "outputs": [
    {
     "name": "stdout",
     "output_type": "stream",
     "text": [
      "Index(['Color', 'Click Count: Day 1', 'View Count: Day 1',\n",
      "       'Click Count: Day 2', 'View Count: Day 2', 'Click Count: Day 3',\n",
      "       'View Count: Day 3', 'Click Count: Day 4', 'View Count: Day 4',\n",
      "       'Click Count: Day 5', 'View Count: Day 5', 'Click Count: Day 6',\n",
      "       'View Count: Day 6', 'Click Count: Day 7', 'View Count: Day 7',\n",
      "       'Click Count: Day 8', 'View Count: Day 8', 'Click Count: Day 9',\n",
      "       'View Count: Day 9', 'Click Count: Day 10', 'View Count: Day 10',\n",
      "       'Click Count: Day 11', 'View Count: Day 11', 'Click Count: Day 12',\n",
      "       'View Count: Day 12', 'Click Count: Day 13', 'View Count: Day 13',\n",
      "       'Click Count: Day 14', 'View Count: Day 14', 'Click Count: Day 15',\n",
      "       'View Count: Day 15', 'Click Count: Day 16', 'View Count: Day 16',\n",
      "       'Click Count: Day 17', 'View Count: Day 17', 'Click Count: Day 18',\n",
      "       'View Count: Day 18', 'Click Count: Day 19', 'View Count: Day 19',\n",
      "       'Click Count: Day 20', 'View Count: Day 20'],\n",
      "      dtype='object')\n"
     ]
    }
   ],
   "source": [
    "# Checking the column names\n",
    "print(df.columns)"
   ]
  },
  {
   "cell_type": "code",
   "execution_count": 37,
   "id": "4c4afa87",
   "metadata": {},
   "outputs": [
    {
     "name": "stdout",
     "output_type": "stream",
     "text": [
      "['Pink' 'Gray' 'Sapphire' 'Purple' 'Coral' 'Olive' 'Navy' 'Maroon' 'Teal'\n",
      " 'Cyan' 'Orange' 'Black' 'Tan' 'Red' 'Blue' 'Brown' 'Turquoise' 'Indigo'\n",
      " 'Gold' 'Jade' 'Ultramarine' 'Yellow' 'Virdian' 'Violet' 'Green'\n",
      " 'Aquamarine' 'Magenta' 'Silver' 'Bronze' 'Lime']\n"
     ]
    }
   ],
   "source": [
    "print(df.Color.values)"
   ]
  },
  {
   "cell_type": "code",
   "execution_count": 38,
   "id": "5866045a",
   "metadata": {},
   "outputs": [],
   "source": [
    "# Checking for blue\n",
    "assert 'Blue' in df.Color.values"
   ]
  },
  {
   "cell_type": "code",
   "execution_count": 39,
   "id": "dbc9eaa0",
   "metadata": {},
   "outputs": [
    {
     "name": "stdout",
     "output_type": "stream",
     "text": [
      "       Click Count: Day 1  View Count: Day 1\n",
      "count           30.000000               30.0\n",
      "mean            23.533333              100.0\n",
      "std              7.454382                0.0\n",
      "min             12.000000              100.0\n",
      "25%             19.250000              100.0\n",
      "50%             24.000000              100.0\n",
      "75%             26.750000              100.0\n",
      "max             49.000000              100.0\n"
     ]
    }
   ],
   "source": [
    "# Summarizing day 1 of the experiment\n",
    "selected_columns = ['Color', 'Click Count: Day 1', 'View Count: Day 1']\n",
    "print(df[selected_columns].describe())"
   ]
  },
  {
   "cell_type": "code",
   "execution_count": 40,
   "id": "23728c7e",
   "metadata": {},
   "outputs": [],
   "source": [
    "# Confirming equivalent daily views\n",
    "view_columns = [column for column in df.columns if 'View' in column]\n",
    "assert np.all(df[view_columns].values == 100)"
   ]
  },
  {
   "cell_type": "code",
   "execution_count": 41,
   "id": "87a1bf40",
   "metadata": {},
   "outputs": [
    {
     "name": "stdout",
     "output_type": "stream",
     "text": [
      "Index(['Color', 'Click Count: Day 1', 'Click Count: Day 2',\n",
      "       'Click Count: Day 3', 'Click Count: Day 4', 'Click Count: Day 5',\n",
      "       'Click Count: Day 6', 'Click Count: Day 7', 'Click Count: Day 8',\n",
      "       'Click Count: Day 9', 'Click Count: Day 10', 'Click Count: Day 11',\n",
      "       'Click Count: Day 12', 'Click Count: Day 13', 'Click Count: Day 14',\n",
      "       'Click Count: Day 15', 'Click Count: Day 16', 'Click Count: Day 17',\n",
      "       'Click Count: Day 18', 'Click Count: Day 19', 'Click Count: Day 20'],\n",
      "      dtype='object')\n"
     ]
    }
   ],
   "source": [
    "df.drop(columns=view_columns, inplace=True)\n",
    "print(df.columns)"
   ]
  },
  {
   "cell_type": "code",
   "execution_count": 42,
   "id": "49101ee6",
   "metadata": {},
   "outputs": [
    {
     "name": "stdout",
     "output_type": "stream",
     "text": [
      "count    20.000000\n",
      "mean     28.350000\n",
      "std       5.499043\n",
      "min      18.000000\n",
      "25%      25.750000\n",
      "50%      27.500000\n",
      "75%      30.250000\n",
      "max      42.000000\n",
      "Name: Blue, dtype: float64\n"
     ]
    }
   ],
   "source": [
    "# Summarizing daily blue-click statistics\n",
    "df.set_index('Color', inplace=True)\n",
    "\n",
    "# Set rows to be the color names\n",
    "# .T transposes so now the color names are the columns names rather than row indexes\n",
    "# Select blue\n",
    "# Describe it\n",
    "print(df.T.Blue.describe())"
   ]
  },
  {
   "cell_type": "code",
   "execution_count": 43,
   "id": "c646200c",
   "metadata": {},
   "outputs": [
    {
     "name": "stdout",
     "output_type": "stream",
     "text": [
      "Color               Pink  Gray  Sapphire  Purple  Coral  Olive  Navy  Maroon  \\\n",
      "Click Count: Day 1    21    27        30      26     26     26    38      21   \n",
      "Click Count: Day 2    20    27        32      21     24     19    29      29   \n",
      "\n",
      "Color               Teal  Cyan  ...  Ultramarine  Yellow  Virdian  Violet  \\\n",
      "Click Count: Day 1    25    24  ...           49      14       27      15   \n",
      "Click Count: Day 2    25    22  ...           41      24       23      22   \n",
      "\n",
      "Color               Green  Aquamarine  Magenta  Silver  Bronze  Lime  \n",
      "Click Count: Day 1     14          24       18      26      19    20  \n",
      "Click Count: Day 2     25          28       21      24      19    19  \n",
      "\n",
      "[2 rows x 29 columns]\n"
     ]
    }
   ],
   "source": [
    "# 9.2 Computing p-values from differences in means\n",
    "# Creating a no-blue table\n",
    "df_not_blue = df.T.drop(columns='Blue')\n",
    "print(df_not_blue.head(2))"
   ]
  },
  {
   "cell_type": "code",
   "execution_count": 44,
   "id": "264dda52",
   "metadata": {},
   "outputs": [],
   "source": [
    "# Defining a permutation test function\n",
    "def permutation_test(data_array_a, data_array_b):\n",
    "    data_mean_a = data_array_a.mean()\n",
    "    data_mean_b = data_array_b.mean()\n",
    "    extreme_mean_diff = abs(data_mean_a - data_mean_b)\n",
    "    \n",
    "    total_data = np.hstack([data_array_a, data_array_b])\n",
    "    number_extreme_values = 0.0\n",
    "    for _ in range(30000):\n",
    "        np.random.shuffle(total_data)\n",
    "        sample_a = total_data[:data_array_a.size]\n",
    "        sample_b = total_data[data_array_a.size:]\n",
    "        if abs(sample_a.mean() - sample_b.mean()) >= extreme_mean_diff:\n",
    "            number_extreme_values += 1\n",
    "            \n",
    "    p_value = number_extreme_values / 30000\n",
    "    return p_value"
   ]
  },
  {
   "cell_type": "code",
   "execution_count": 45,
   "id": "b8228e4e",
   "metadata": {},
   "outputs": [
    {
     "data": {
      "image/png": "[encoded data removed]",
      "text/plain": [
       "<Figure size 216x720 with 2 Axes>"
      ]
     },
     "metadata": {
      "needs_background": "light"
     },
     "output_type": "display_data"
    }
   ],
   "source": [
    "# Running a permutation test across colors\n",
    "np.random.seed(0)\n",
    "blue_clicks = df.T.Blue.values\n",
    "color_to_p_value = {}\n",
    "for color, color_clicks in df_not_blue.items():\n",
    "    p_value = permutation_test(blue_clicks, color_clicks)\n",
    "    color_to_p_value[color] = p_value\n",
    "    \n",
    "# Efficient Python code to sort a dictionary and return two lists: a list of sorted vaues and a list of associated keys\n",
    "# Each sorted p-value at position i aligns with the color in sorted_colors[i]\n",
    "sorted_colors, sorted_p_values = zip(*(sorted(color_to_p_value.items(), key=lambda x: x[1])))\n",
    "\n",
    "# Plot the results with a heatmap\n",
    "plt.figure(figsize=(3, 10))\n",
    "sns.heatmap([[p_value] for p_value in sorted_p_values], cmap=\"YlGnBu\", annot=True, \n",
    "            xticklabels=['p-value'], yticklabels=sorted_colors)\n",
    "plt.show()"
   ]
  },
  {
   "cell_type": "code",
   "execution_count": 46,
   "id": "f182e97e",
   "metadata": {},
   "outputs": [
    {
     "name": "stdout",
     "output_type": "stream",
     "text": [
      "Mean click-rate of black is 21.6\n"
     ]
    }
   ],
   "source": [
    "# Finding the mean click rate of black\n",
    "mean_black = df_not_blue.Black.mean()\n",
    "print(f\"Mean click-rate of black is {mean_black}\")"
   ]
  },
  {
   "cell_type": "code",
   "execution_count": 47,
   "id": "3035c615",
   "metadata": {},
   "outputs": [
    {
     "name": "stdout",
     "output_type": "stream",
     "text": [
      "5 colors have on average more clacks than Blue.\n",
      "These colors are:\n",
      "['Sapphire' 'Navy' 'Teal' 'Ultramarine' 'Aquamarine']\n"
     ]
    }
   ],
   "source": [
    "# Filtering colors with inferior click rates\n",
    "# Efficeint one-line code to filter the colors\n",
    "# First, the code creates a Boolean array. The array specifies which colors contain a mean greater than blue.\n",
    "# The Boolean array is fed into df for filtering.\n",
    "# The indices of the filtered result specify the remaining color names\n",
    "remaining_colors = df[df.T.mean().values > blue_clicks.mean()].index\n",
    "size = remaining_colors.size\n",
    "print(f\"{size} colors have on average more clacks than Blue.\")\n",
    "print(\"These colors are:\")\n",
    "print(remaining_colors.values)"
   ]
  },
  {
   "cell_type": "code",
   "execution_count": 48,
   "id": "cc430947",
   "metadata": {},
   "outputs": [
    {
     "name": "stdout",
     "output_type": "stream",
     "text": [
      "Ultramarine has a p-value of 0.0034 and a mean of 34.2\n",
      "Navy has a p-value of 0.5911666666666666 and a mean of 29.3\n",
      "Aquamarine has a p-value of 0.6654666666666667 and a mean of 29.2\n",
      "Sapphire has a p-value of 0.7457666666666667 and a mean of 28.9\n",
      "Teal has a p-value of 0.9745 and a mean of 28.45\n"
     ]
    }
   ],
   "source": [
    "# Printing the five remaining colors\n",
    "for color, p_value in sorted(color_to_p_value.items(), key=lambda x: x[1]):\n",
    "    if color in remaining_colors:\n",
    "        mean = df_not_blue[color].mean()\n",
    "        print(f\"{color} has a p-value of {p_value} and a mean of {mean}\")"
   ]
  },
  {
   "cell_type": "code",
   "execution_count": 49,
   "id": "33bb8541",
   "metadata": {},
   "outputs": [
    {
     "name": "stdout",
     "output_type": "stream",
     "text": [
      "Adjusted significance level is 0.001724137931034483\n",
      "Our p-value is not statistically significant\n"
     ]
    }
   ],
   "source": [
    "# 9.3 Determining statistical significance\n",
    "# Applying the Bonferroni correction\n",
    "significance_level = 0.05 / 29\n",
    "print(f\"Adjusted significance level is {significance_level}\")\n",
    "if color_to_p_value['Ultramarine'] <= significance_level:\n",
    "    print(\"Our p-value is statistically significant\")\n",
    "else:\n",
    "    print(\"Our p-value is not statistically significant\")"
   ]
  },
  {
   "cell_type": "code",
   "execution_count": 50,
   "id": "cf9f58d9",
   "metadata": {},
   "outputs": [
    {
     "name": "stdout",
     "output_type": "stream",
     "text": [
      "Hypothetical significance level is 0.01\n",
      "Our hypothetical p-value would have been statistically significant\n"
     ]
    }
   ],
   "source": [
    "# Exploring a hypothetical significance level\n",
    "hypothetical_sig_level = 0.05 / 5\n",
    "print(f\"Hypothetical significance level is {hypothetical_sig_level}\")\n",
    "if color_to_p_value['Ultramarine'] <= hypothetical_sig_level:\n",
    "    print(f\"Our hypothetical p-value would have been statistically significant\")\n",
    "else:\n",
    "    print(f\"Our hypothetical p-value would not have been statistically significant\")"
   ]
  },
  {
   "cell_type": "code",
   "execution_count": 51,
   "id": "870aa4d9",
   "metadata": {},
   "outputs": [],
   "source": [
    "# 9.4 41 shades of blue: A real-life cautioary tale\n",
    "# More data can sometimes lead to more uncertainty"
   ]
  },
  {
   "cell_type": "code",
   "execution_count": 52,
   "id": "9b8048fa",
   "metadata": {},
   "outputs": [],
   "source": [
    "# Key Words / Notes:\n",
    "# More data isn't always better; running more tests than needed increases the chance of anomalous results\n",
    "# It's worth taking the time to think about a probem before running an analysis\n",
    "#     (some of the 31 colors would have made awful link colors)\n",
    "# Sometimes good insights can still be possible with flawed data"
   ]
  },
  {
   "cell_type": "code",
   "execution_count": null,
   "id": "c43ba5c3",
   "metadata": {},
   "outputs": [],
   "source": []
  }
 ],
 "metadata": {
  "kernelspec": {
   "display_name": "Python 3 (ipykernel)",
   "language": "python",
   "name": "python3"
  },
  "language_info": {
   "codemirror_mode": {
    "name": "ipython",
    "version": 3
   },
   "file_extension": ".py",
   "mimetype": "text/x-python",
   "name": "python",
   "nbconvert_exporter": "python",
   "pygments_lexer": "ipython3",
   "version": "3.9.12"
  }
 },
 "nbformat": 4,
 "nbformat_minor": 5
}
