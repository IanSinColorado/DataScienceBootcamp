{
 "cells": [
  {
   "cell_type": "markdown",
   "id": "5cb1aa61",
   "metadata": {},
   "source": [
    "# Chapter 13: Measuring Text Similarities"
   ]
  },
  {
   "cell_type": "markdown",
   "id": "0a2fadda",
   "metadata": {},
   "source": [
    "## 13.1 Simple Text Comparison"
   ]
  },
  {
   "cell_type": "code",
   "execution_count": 2,
   "id": "d724d2fe",
   "metadata": {},
   "outputs": [],
   "source": [
    "# Assigning texts to variables\n",
    "text1 = 'She sells seashells by the seashore.'\n",
    "text2 = '\"Seashells! The seashells are on sale! By the seashore.\"'\n",
    "text3 = 'She sells 3 seashells to John, who lives by the lake.'"
   ]
  },
  {
   "cell_type": "code",
   "execution_count": 3,
   "id": "932b9475",
   "metadata": {},
   "outputs": [
    {
     "name": "stdout",
     "output_type": "stream",
     "text": [
      "Words in text 1\n",
      "['She', 'sells', 'seashells', 'by', 'the', 'seashore.']\n",
      "\n",
      "Words in text 2\n",
      "['\"Seashells!', 'The', 'seashells', 'are', 'on', 'sale!', 'By', 'the', 'seashore.\"']\n",
      "\n",
      "Words in text 3\n",
      "['She', 'sells', '3', 'seashells', 'to', 'John,', 'who', 'lives', 'by', 'the', 'lake.']\n",
      "\n"
     ]
    }
   ],
   "source": [
    "# Tokenization: Splitting text into individual words\n",
    "# Splitting text into words\n",
    "words_lists = [text.split() for text in [text1, text2, text3]]\n",
    "words1, words2, words3 = words_lists\n",
    "\n",
    "for i, words in enumerate(words_lists, 1):\n",
    "    print(f\"Words in text {i}\")\n",
    "    print(f\"{words}\\n\")"
   ]
  },
  {
   "cell_type": "code",
   "execution_count": 4,
   "id": "c749f411",
   "metadata": {},
   "outputs": [
    {
     "name": "stdout",
     "output_type": "stream",
     "text": [
      "Words in text 1\n",
      "['she', 'sells', 'seashells', 'by', 'the', 'seashore']\n",
      "\n",
      "Words in text 2\n",
      "['seashells', 'the', 'seashells', 'are', 'on', 'sale', 'by', 'the', 'seashore']\n",
      "\n",
      "Words in text 3\n",
      "['she', 'sells', '3', 'seashells', 'to', 'john', 'who', 'lives', 'by', 'the', 'lake']\n",
      "\n"
     ]
    }
   ],
   "source": [
    "# Removing case sensitivity and punctuation\n",
    "def simplify_text(text):\n",
    "    for punctuation in ['.', ',', '!', '?', '\"']:\n",
    "        text = text.replace(punctuation, '')\n",
    "        \n",
    "    return text.lower()\n",
    "\n",
    "for i, words in enumerate(words_lists, 1):\n",
    "    for j, word in enumerate(words):\n",
    "        words[j] = simplify_text(word)\n",
    "    \n",
    "    print(f\"Words in text {i}\")\n",
    "    print(f\"{words}\\n\")"
   ]
  },
  {
   "cell_type": "code",
   "execution_count": 5,
   "id": "0ada2f91",
   "metadata": {},
   "outputs": [
    {
     "name": "stdout",
     "output_type": "stream",
     "text": [
      "Unique Words in text 1\n",
      "{'the', 'seashore', 'sells', 'she', 'by', 'seashells'}\n",
      "\n",
      "Unique Words in text 2\n",
      "{'on', 'the', 'seashore', 'are', 'by', 'sale', 'seashells'}\n",
      "\n",
      "Unique Words in text 3\n",
      "{'3', 'lake', 'the', 'sells', 'john', 'who', 'she', 'by', 'lives', 'seashells', 'to'}\n",
      "\n"
     ]
    }
   ],
   "source": [
    "# Converting word lists to sets (to take out duplicates)\n",
    "words_sets = [set(words) for words in words_lists]\n",
    "for i, unique_words in enumerate(words_sets, 1):\n",
    "    print(f\"Unique Words in text {i}\")\n",
    "    print(f\"{unique_words}\\n\")"
   ]
  },
  {
   "cell_type": "code",
   "execution_count": 6,
   "id": "a3996f97",
   "metadata": {},
   "outputs": [
    {
     "name": "stdout",
     "output_type": "stream",
     "text": [
      "Texts 1 and 2 share these 4 words:\n",
      "{'by', 'the', 'seashells', 'seashore'}\n",
      "\n",
      "Texts 1 and 3 share these 5 words:\n",
      "{'the', 'sells', 'she', 'by', 'seashells'}\n",
      "\n"
     ]
    }
   ],
   "source": [
    "# Extracting overlapping words between two texts\n",
    "words_set1 = words_sets[0]\n",
    "for i, words_set in enumerate(words_sets[1:], 2):\n",
    "    shared_words = words_set1 & words_set\n",
    "    print(f\"Texts 1 and {i} share these {len(shared_words)} words:\")\n",
    "    print(f\"{shared_words}\\n\")"
   ]
  },
  {
   "cell_type": "code",
   "execution_count": 7,
   "id": "1a354c28",
   "metadata": {},
   "outputs": [
    {
     "name": "stdout",
     "output_type": "stream",
     "text": [
      "Texts 1 and 2 don't share these 5 words:\n",
      "{'on', 'sells', 'are', 'she', 'sale'}\n",
      "\n",
      "Texts 1 and 3 don't share these 7 words:\n",
      "{'3', 'lake', 'seashore', 'john', 'who', 'lives', 'to'}\n",
      "\n"
     ]
    }
   ],
   "source": [
    "# Extracting diverging words between two texts\n",
    "for i, words_set in enumerate(words_sets[1:], 2):\n",
    "    diverging_words = words_set1 ^ words_set\n",
    "    print(f\"Texts 1 and {i} don't share these {len(diverging_words)} words:\")\n",
    "    print(f\"{diverging_words}\\n\")"
   ]
  },
  {
   "cell_type": "code",
   "execution_count": 8,
   "id": "9820095e",
   "metadata": {},
   "outputs": [
    {
     "name": "stdout",
     "output_type": "stream",
     "text": [
      "Together, texts 1 and 2 contain 9 unique words. These words are:\n",
      " {'on', 'the', 'seashore', 'sells', 'are', 'she', 'by', 'sale', 'seashells'}\n",
      "\n",
      "Together, texts 1 and 3 contain 12 unique words. These words are:\n",
      " {'lake', 'the', 'sells', 'who', 'by', 'to', '3', 'seashore', 'john', 'she', 'lives', 'seashells'}\n",
      "\n"
     ]
    }
   ],
   "source": [
    "for i, words_set in enumerate(words_sets[1:], 2):\n",
    "    total_words = words_set1 | words_set\n",
    "    print(f\"Together, texts 1 and {i} contain {len(total_words)} \"\n",
    "          f\"unique words. These words are:\\n {total_words}\\n\")\n",
    "    "
   ]
  },
  {
   "cell_type": "code",
   "execution_count": 9,
   "id": "148f9319",
   "metadata": {},
   "outputs": [
    {
     "name": "stdout",
     "output_type": "stream",
     "text": [
      "Together, texts 1 and 2 contain 9 unique words. \n",
      "44.44% of these words are shared. \n",
      "55.56% of these words diverge.\n",
      "\n",
      "Together, texts 1 and 3 contain 12 unique words. \n",
      "41.67% of these words are shared. \n",
      "58.33% of these words diverge.\n",
      "\n"
     ]
    }
   ],
   "source": [
    "# Extracting the percentage of shared words between two texts\n",
    "for i, words_set in enumerate(words_sets[1:], 2):\n",
    "    shared_words = words_set1 & words_set\n",
    "    diverging_words = words_set1 ^ words_set\n",
    "    total_words = words_set1 | words_set\n",
    "    assert len(total_words) == len(shared_words) + len(diverging_words)\n",
    "    percent_shared = 100 * len(shared_words) / len(total_words)\n",
    "    percent_diverging = 100 * len(diverging_words) / len(total_words)\n",
    "    \n",
    "    print(f\"Together, texts 1 and {i} contain {len(total_words)} \"\n",
    "          f\"unique words. \\n{percent_shared:.2f}% of these words are \"\n",
    "          f\"shared. \\n{percent_diverging:.2f}% of these words diverge.\\n\")\n",
    "# What was developed here is the Jaccard similarity or Jaccard index"
   ]
  },
  {
   "cell_type": "markdown",
   "id": "036f7e9b",
   "metadata": {},
   "source": [
    "### 13.1.1 Exploring the Jaccard similarity"
   ]
  },
  {
   "cell_type": "code",
   "execution_count": 10,
   "id": "1f7ae122",
   "metadata": {},
   "outputs": [
    {
     "name": "stdout",
     "output_type": "stream",
     "text": [
      "The Jaccard similarity between 'She sells seashells by the seashore.' and '\"Seashells! The seashells are on sale! By the seashore.\"' equals 0.4444.\n",
      "\n",
      "The Jaccard similarity between 'She sells seashells by the seashore.' and 'She sells 3 seashells to John, who lives by the lake.' equals 0.4167.\n",
      "\n"
     ]
    }
   ],
   "source": [
    "# Computing the Jaccard similarity\n",
    "def jaccard_similarity(text_a, text_b):\n",
    "    word_set_a, word_set_b = [set(simplify_text(text).split()) for text in [text_a, text_b]]\n",
    "    num_shared = len(word_set_a & word_set_b)\n",
    "    num_total = len(word_set_a | word_set_b)\n",
    "    return num_shared / num_total\n",
    "\n",
    "for text in [text2, text3]:\n",
    "    similarity = jaccard_similarity(text1, text)\n",
    "    print(f\"The Jaccard similarity between '{text1}' and '{text}' \"\n",
    "          f\"equals {similarity:.4f}.\" \"\\n\")\n",
    "# Not very efficient"
   ]
  },
  {
   "cell_type": "code",
   "execution_count": 11,
   "id": "3cbd0d1a",
   "metadata": {},
   "outputs": [],
   "source": [
    "# Efficiently computing the Jaccard similarity\n",
    "def jaccard_similarity_efficient(text_a, text_b):\n",
    "    word_set_a, word_set_b = [set(simplify_text(text).split()) for text in [text_a, text_b]]\n",
    "    num_shared = len(word_set_a & word_set_b)\n",
    "    num_total = len(word_set_a) + len(word_set_b) - num_shared\n",
    "    return num_shared / num_total\n",
    "\n",
    "for text in [text2, text3]:\n",
    "    similarity = jaccard_similarity_efficient(text1, text)\n",
    "    assert similarity == jaccard_similarity(text1, text)"
   ]
  },
  {
   "cell_type": "markdown",
   "id": "69e5350b",
   "metadata": {},
   "source": [
    "### 13.1.2 Replacing words with numeric values"
   ]
  },
  {
   "cell_type": "code",
   "execution_count": 12,
   "id": "fd970ae6",
   "metadata": {},
   "outputs": [
    {
     "name": "stdout",
     "output_type": "stream",
     "text": [
      "Our vocabulary conatains 15 words. This vocabulary is:\n",
      "{'on': 0, 'lake': 1, 'the': 2, 'sells': 3, 'are': 4, 'who': 5, 'by': 6, 'to': 7, '3': 8, 'seashore': 9, 'john': 10, 'she': 11, 'sale': 12, 'lives': 13, 'seashells': 14}\n"
     ]
    }
   ],
   "source": [
    "# Vocabulary: Dictionary of words with numbers representing their count in the text\n",
    "# Assigning words to numbers in a vocabulary\n",
    "words_set1, words_set2, words_set3 = words_sets\n",
    "total_words = words_set1 | words_set2 | words_set3\n",
    "vocabulary = {word : i for i, word in enumerate(total_words)}\n",
    "value_to_word = {value : word for word, value in vocabulary.items()}\n",
    "print(f\"Our vocabulary conatains {len(vocabulary)} words. \"\n",
    "      f\"This vocabulary is:\\n{vocabulary}\")"
   ]
  },
  {
   "cell_type": "code",
   "execution_count": 13,
   "id": "d03041ca",
   "metadata": {},
   "outputs": [
    {
     "data": {
      "image/png": "[encoded data removed]",
      "text/plain": [
       "<Figure size 640x480 with 2 Axes>"
      ]
     },
     "metadata": {},
     "output_type": "display_data"
    }
   ],
   "source": [
    "# Text Vectorization: Making text into a 1D array of numbers\n",
    "# Transforming words into binary vectors\n",
    "import matplotlib.pyplot as plt\n",
    "import numpy as np\n",
    "import seaborn as sns\n",
    "\n",
    "vectors = []\n",
    "for i, words_set in enumerate(words_sets, 1):\n",
    "    vector = np.array([0] * len(vocabulary))\n",
    "    # np.zeros(len(vocabulary)) # same as line above\n",
    "    for word in words_set:\n",
    "        vector[vocabulary[word]] = 1\n",
    "    vectors.append(vector)\n",
    "        \n",
    "sns.heatmap(vectors, annot=True, cmap='YlGnBu', xticklabels=vocabulary.keys())\n",
    "yticklabels=['Text 1', 'Text 2', 'Text 3']\n",
    "plt.yticks(rotation=0)\n",
    "plt.show()"
   ]
  },
  {
   "cell_type": "code",
   "execution_count": 14,
   "id": "3aac0e68",
   "metadata": {},
   "outputs": [
    {
     "name": "stdout",
     "output_type": "stream",
     "text": [
      "'the' is present in both texts 1 and 2\n",
      "'by' is present in both texts 1 and 2\n",
      "'seashore' is present in both texts 1 and 2\n",
      "'seashells' is present in both texts 1 and 2\n"
     ]
    }
   ],
   "source": [
    "# Finding shared words using vector arithmetic\n",
    "vector1, vector2 = vectors[:2]\n",
    "for i in range(len(vocabulary)):\n",
    "    if vector1[i] * vector2[i]:\n",
    "        shared_word = value_to_word[i]\n",
    "        print(f\"'{shared_word}' is present in both texts 1 and 2\")"
   ]
  },
  {
   "cell_type": "code",
   "execution_count": 15,
   "id": "241ef21d",
   "metadata": {},
   "outputs": [],
   "source": [
    "# Counting shared words using vector arithmetic\n",
    "shared_word_count = sum(vector1[i] * vector2[i] for i in range(len(vocabulary)))\n",
    "assert shared_word_count == len(words_set1 & words_set2)\n",
    "# Dot Product: Sum of Pairwise products across all vector indices"
   ]
  },
  {
   "cell_type": "code",
   "execution_count": 16,
   "id": "474e2611",
   "metadata": {},
   "outputs": [],
   "source": [
    "# Computing a vector dot product using NumPy\n",
    "assert vector1.dot(vector2) == shared_word_count\n",
    "assert vector1 @ vector2 == shared_word_count"
   ]
  },
  {
   "cell_type": "code",
   "execution_count": 17,
   "id": "6c718403",
   "metadata": {},
   "outputs": [],
   "source": [
    "# Counting total words using vector arithmetic\n",
    "assert vector1 @ vector1 == len(words_set1)\n",
    "assert vector2 @ vector2 == len(words_set2)"
   ]
  },
  {
   "cell_type": "code",
   "execution_count": 18,
   "id": "08b36095",
   "metadata": {},
   "outputs": [],
   "source": [
    "# Tanimoto Similarity: Vectorized implementation of Jaccard similarity\n",
    "# Computing text similarity using vector arithmetic\n",
    "def tanimoto_similarity(vector_a, vector_b):\n",
    "    num_shared = vector_a @ vector_b\n",
    "    num_total = vector_a @ vector_a + vector_b @ vector_b - num_shared\n",
    "    return num_shared / num_total\n",
    "\n",
    "for i, text in enumerate([text2, text3], 1):\n",
    "    similarity = tanimoto_similarity(vector1, vectors[i])\n",
    "    assert similarity == jaccard_similarity(text1, text)"
   ]
  },
  {
   "cell_type": "code",
   "execution_count": 19,
   "id": "dcf54f95",
   "metadata": {},
   "outputs": [
    {
     "name": "stdout",
     "output_type": "stream",
     "text": [
      "The similarity of 2 non-binary vectors is 0.96875\n"
     ]
    }
   ],
   "source": [
    "# Computing the similarity of non-binary vectors\n",
    "non_binary_vector1 = np.array([5, 3])\n",
    "non_binary_vector2 = np.array([5, 2])\n",
    "similarity = tanimoto_similarity(non_binary_vector1, non_binary_vector2)\n",
    "print(f\"The similarity of 2 non-binary vectors is {similarity}\")"
   ]
  },
  {
   "cell_type": "markdown",
   "id": "7014656f",
   "metadata": {},
   "source": [
    "## 13.2 Vectorizing texts using word counts"
   ]
  },
  {
   "cell_type": "code",
   "execution_count": 20,
   "id": "0e870909",
   "metadata": {},
   "outputs": [
    {
     "name": "stdout",
     "output_type": "stream",
     "text": [
      "The similarity between texts is approximately 0.024\n"
     ]
    }
   ],
   "source": [
    "# Computing TF vector similarity\n",
    "similarity = tanimoto_similarity(np.array([61,2]), np.array([1,71]))\n",
    "print(f\"The similarity between texts is approximately {similarity:.3f}\")"
   ]
  },
  {
   "cell_type": "code",
   "execution_count": 21,
   "id": "26ec078a",
   "metadata": {},
   "outputs": [],
   "source": [
    "# Assessing identical vector similarity\n",
    "assert tanimoto_similarity(np.array([1, 1]), np.array([1, 1])) == 1"
   ]
  },
  {
   "cell_type": "code",
   "execution_count": 22,
   "id": "6095b3b9",
   "metadata": {},
   "outputs": [
    {
     "data": {
      "image/png": "[encoded data removed]",
      "text/plain": [
       "<Figure size 640x480 with 2 Axes>"
      ]
     },
     "metadata": {},
     "output_type": "display_data"
    }
   ],
   "source": [
    "# Computing TF vectors from word lists\n",
    "tf_vectors = []\n",
    "for i, words_list in enumerate(words_lists, 1):\n",
    "    tf_vector = np.array([0] * len(vocabulary))\n",
    "    for word in words_list:\n",
    "        word_index = vocabulary[word]\n",
    "        # Updates the word count using the vocabulary index\n",
    "        tf_vector[word_index] += 1\n",
    "        \n",
    "    tf_vectors.append(tf_vector)\n",
    "    \n",
    "sns.heatmap(tf_vectors, cmap='YlGnBu', annot=True, xticklabels=vocabulary.keys(), \n",
    "            yticklabels=['Text 1', 'Text 2', 'Text 3'])\n",
    "plt.yticks(rotation=0)\n",
    "plt.show()"
   ]
  },
  {
   "cell_type": "code",
   "execution_count": 23,
   "id": "57cc7f0c",
   "metadata": {},
   "outputs": [
    {
     "name": "stdout",
     "output_type": "stream",
     "text": [
      "The recomputed Tanimoto similarity between texts 1 and 2 is 0.4615.\n",
      "Previously, that similarity equaled 0.4444 \n",
      "\n",
      "The recomputed Tanimoto similarity between texts 1 and 3 is 0.4167.\n",
      "Previously, that similarity equaled 0.4167 \n",
      "\n"
     ]
    }
   ],
   "source": [
    "# Comparing metrics of vector similarity\n",
    "tf_vector1 = tf_vectors[0]\n",
    "binary_vector1 = vectors[0]\n",
    "\n",
    "for i, tf_vector in enumerate(tf_vectors[1:], 2):\n",
    "    similarity = tanimoto_similarity(tf_vector1, tf_vector)\n",
    "    old_similarity = tanimoto_similarity(binary_vector1, vectors[i-1])\n",
    "    print(f\"The recomputed Tanimoto similarity between texts 1 and {i} is {similarity:.4f}.\")\n",
    "    print(f\"Previously, that similarity equaled {old_similarity:.4f} \" \"\\n\")"
   ]
  },
  {
   "cell_type": "markdown",
   "id": "0a710c2c",
   "metadata": {},
   "source": [
    "### 13.2.1 Using normalization to improve TF vector similarity"
   ]
  },
  {
   "cell_type": "code",
   "execution_count": 24,
   "id": "3380b69b",
   "metadata": {},
   "outputs": [],
   "source": [
    "# Simple search engine vectorization\n",
    "query_vector = np.array([1, 1,])\n",
    "title_a_vector = np.array([3, 3])\n",
    "title_b_vector = np.array([1, 0])"
   ]
  },
  {
   "cell_type": "code",
   "execution_count": 25,
   "id": "4404a272",
   "metadata": {},
   "outputs": [
    {
     "name": "stdout",
     "output_type": "stream",
     "text": [
      "'B: Pepperoni' has a query similarity of 0.5000\n",
      "'A: Pepperoni Pizza! Pepperoni Pizza! Pepperoni Pizza!' has a query similarity of 0.4286\n"
     ]
    }
   ],
   "source": [
    "# Ranking titles by query similarity\n",
    "titles = ['A: Pepperoni Pizza! Pepperoni Pizza! Pepperoni Pizza!', 'B: Pepperoni']\n",
    "title_vectors = [title_a_vector, title_b_vector]\n",
    "similarities = [tanimoto_similarity(query_vector, title_vector) for title_vector in title_vectors]\n",
    "\n",
    "for index in sorted(range(len(titles)), key=lambda i: similarities[i], reverse=True):\n",
    "    title = titles[index]\n",
    "    similarity = similarities[index]\n",
    "    print(f\"'{title}' has a query similarity of {similarity:.4f}\")"
   ]
  },
  {
   "cell_type": "code",
   "execution_count": 26,
   "id": "b35c9390",
   "metadata": {},
   "outputs": [],
   "source": [
    "# Eliminating size differences through division\n",
    "assert np.array_equal(query_vector, title_a_vector / 3)\n",
    "assert tanimoto_similarity(query_vector, title_a_vector / 3) == 1"
   ]
  },
  {
   "cell_type": "code",
   "execution_count": 27,
   "id": "01e37e11",
   "metadata": {},
   "outputs": [
    {
     "data": {
      "image/png": "[encoded data removed]",
      "text/plain": [
       "<Figure size 640x480 with 1 Axes>"
      ]
     },
     "metadata": {},
     "output_type": "display_data"
    }
   ],
   "source": [
    "# Plotting TF vectors in 2D space\n",
    "plt.plot([0, query_vector[0]], [0, query_vector[1]], c='k', linewidth=3, label='Query Vector')\n",
    "plt.plot([0, title_a_vector[0]], [0, title_a_vector[1]], c='b', linestyle='--', label='Title A Vector')\n",
    "plt.plot([0, title_b_vector[0]], [0, title_b_vector[1]], c='g', linewidth=2, linestyle='-.', label='Title B Vector')\n",
    "plt.xlabel('Pepperoni')\n",
    "plt.ylabel('Pizza')\n",
    "plt.legend()\n",
    "plt.show()"
   ]
  },
  {
   "cell_type": "code",
   "execution_count": 28,
   "id": "c4157cc5",
   "metadata": {},
   "outputs": [],
   "source": [
    "# Computing vector magnitude\n",
    "from scipy.spatial.distance import euclidean\n",
    "from numpy.linalg import norm"
   ]
  },
  {
   "cell_type": "code",
   "execution_count": 31,
   "id": "39e337ba",
   "metadata": {},
   "outputs": [
    {
     "name": "stdout",
     "output_type": "stream",
     "text": [
      "Query Vector's magnitude is approximately 1.4142\n",
      "Title A Vector's magnitude is approximately 4.2426\n",
      "Title B Vector's magnitude is approximately 1.0000\n",
      "\n",
      "Vector A is 3x as long as Query Vector\n"
     ]
    }
   ],
   "source": [
    "vector_names = ['Query Vector', 'Title A Vector', 'Title B Vector']\n",
    "tf_search_vectors = [query_vector, title_a_vector, title_b_vector]\n",
    "origin = np.array([0, 0])\n",
    "for name, tf_vector in zip(vector_names, tf_search_vectors):\n",
    "    magnitude = euclidean(tf_vector, origin)\n",
    "    assert magnitude == norm(tf_vector)\n",
    "    assert magnitude == (tf_vector @ tf_vector) ** 0.5\n",
    "    print(f\"{name}'s magnitude is approximately {magnitude:.4f}\")\n",
    "    \n",
    "magnitude_ratio = norm(title_a_vector) / norm(query_vector)\n",
    "print(f\"\\nVector A is {magnitude_ratio:.0f}x as long as Query Vector\")"
   ]
  },
  {
   "cell_type": "code",
   "execution_count": 32,
   "id": "c378fe7f",
   "metadata": {},
   "outputs": [
    {
     "data": {
      "image/png": "[encoded data removed]",
      "text/plain": [
       "<Figure size 640x480 with 1 Axes>"
      ]
     },
     "metadata": {},
     "output_type": "display_data"
    }
   ],
   "source": [
    "# Normalization: dividing all nums by the magnitude; magnitude is also the L2 norm\n",
    "# Normalized Vector: v / norm(v)\n",
    "# Plotting normalized vectors\n",
    "unit_query_vector = query_vector / norm(query_vector)\n",
    "unit_title_a_vector = title_a_vector / norm(title_a_vector)\n",
    "assert np.allclose(unit_query_vector, unit_title_a_vector)\n",
    "unit_title_b_vector = title_b_vector\n",
    "\n",
    "plt.plot([0, unit_query_vector[0]], [0, unit_query_vector[1]], c='k', linewidth=3, label='Normalized Query Vector')\n",
    "plt.plot([0, unit_title_a_vector[0]], [0, unit_title_a_vector[1]], c='b', linestyle='--', label='Normalized Title A Vector')\n",
    "plt.plot([0, unit_title_b_vector[0]], [0, unit_title_b_vector[1]], c='g', linestyle='--', label='Normalized Title B Vector')\n",
    "\n",
    "plt.axis('equal')\n",
    "plt.legend()\n",
    "plt.show()"
   ]
  },
  {
   "cell_type": "code",
   "execution_count": 35,
   "id": "7d95bb68",
   "metadata": {},
   "outputs": [
    {
     "name": "stdout",
     "output_type": "stream",
     "text": [
      "'A: Pepperoni Pizza! Pepperoni Pizza! Pepperoni Pizza!' has a normalized query similarity of 1.0000\n",
      "'B: Pepperoni' has a normalized query similarity of 0.5469\n"
     ]
    }
   ],
   "source": [
    "# Ranking titles by unit vector similarity\n",
    "unit_title_vectors = [unit_title_a_vector, unit_title_b_vector]\n",
    "similarities = [tanimoto_similarity(unit_query_vector, unit_title_vector) for unit_title_vector in unit_title_vectors]\n",
    "\n",
    "for index in sorted(range(len(titles)), key=lambda i: similarities[i], reverse=True):\n",
    "    title = titles[index]\n",
    "    similarity = similarities[index]\n",
    "    print(f\"'{title}' has a normalized query similarity of {similarity:.4f}\")"
   ]
  },
  {
   "cell_type": "code",
   "execution_count": 36,
   "id": "d6a559b9",
   "metadata": {},
   "outputs": [],
   "source": [
    "# Computing a unit vector Tanimoto similarity\n",
    "def normalized_tanimoto(u1, u2):\n",
    "    dot_product = u1 @ u2\n",
    "    return dot_product / (2 - dot_product)\n",
    "\n",
    "for unit_title_vector in unit_title_vectors[1:]:\n",
    "    similarity = normalized_tanimoto(unit_query_vector, unit_title_vector)\n",
    "    assert similarity == tanimoto_similarity(unit_query_vector, unit_title_vector)"
   ]
  },
  {
   "cell_type": "markdown",
   "id": "d299092d",
   "metadata": {},
   "source": [
    "### 13.2.2 Using unit vector dot products to convert between relevance metrics"
   ]
  },
  {
   "cell_type": "code",
   "execution_count": 44,
   "id": "736eede2",
   "metadata": {},
   "outputs": [
    {
     "name": "stdout",
     "output_type": "stream",
     "text": [
      "We are comparing Normalized Query Vector and Normalized Title A Vector\n",
      "The Tanimoto similarity between vectors is 1.0000\n",
      "The cosine similarity between vectors is 1.0000\n",
      "The Euclidean distance between vectors is 0.0000\n",
      "The angle between vectors is 0.0000 degrees\n",
      "\n",
      "We are comparing Normalized Query Vector and Title B Vector\n",
      "The Tanimoto similarity between vectors is 0.5469\n",
      "The cosine similarity between vectors is 0.7071\n",
      "The Euclidean distance between vectors is 0.7654\n",
      "The angle between vectors is 45.0000 degrees\n",
      "\n"
     ]
    }
   ],
   "source": [
    "unit_vector_names = ['Normalized Title A Vector', 'Title B Vector']\n",
    "u1 = unit_query_vector\n",
    "\n",
    "for unit_vector_name, u2 in zip(unit_vector_names, unit_title_vectors):\n",
    "    similarity = normalized_tanimoto(u1, u2)\n",
    "    cosine_similarity = 2 * similarity / (1 + similarity)\n",
    "    assert cosine_similarity == u1 @ u2\n",
    "    angle = np.arccos(cosine_similarity)\n",
    "    euclidean_distance = (2 - 2 * cosine_similarity) ** 0.5\n",
    "    assert round(euclidean_distance, 10) == round(euclidean(u1, u2), 10)\n",
    "    measurements = {'Tanimoto similarity': similarity,\n",
    "                    'cosine similarity': cosine_similarity,\n",
    "                    'Euclidean distance': euclidean_distance,\n",
    "                    'angle': np.degrees(angle)}\n",
    "    \n",
    "    print(f\"We are comparing Normalized Query Vector and {unit_vector_name}\")\n",
    "    for measurement_type, value in measurements.items():\n",
    "        output = f\"The {measurement_type} between vectors is {value:.4f}\"\n",
    "        if measurement_type == 'angle':\n",
    "            output += ' degrees\\n'\n",
    "            \n",
    "        print(output)"
   ]
  },
  {
   "cell_type": "code",
   "execution_count": 45,
   "id": "5b1198b5",
   "metadata": {},
   "outputs": [],
   "source": [
    "# u1 @ u2 - Cosine of the angle between two unit vectors\n",
    "# (u1 @ u2) / (2 - u1 @ u2) - Tanimoto similarity between two unit vectors\n",
    "# (2 - 2 * u1 @ u2) ** 0.5 - Euclidean distance between two unit vectors\n",
    "# Benefits of Normalization:\n",
    "    # Elimination of text length as a differentiating signal\n",
    "    # More efficient Tanimoto similarity computation\n",
    "    # More efficient computation of the similarity between every pair of vectors"
   ]
  },
  {
   "cell_type": "markdown",
   "id": "d4b12208",
   "metadata": {},
   "source": [
    "## 13.3 Matrix Multiplication for efficient similarity calculation"
   ]
  },
  {
   "cell_type": "code",
   "execution_count": 47,
   "id": "49d58964",
   "metadata": {},
   "outputs": [
    {
     "data": {
      "image/png": "[encoded data removed]",
      "text/plain": [
       "<Figure size 640x480 with 2 Axes>"
      ]
     },
     "metadata": {},
     "output_type": "display_data"
    }
   ],
   "source": [
    "# Computing a table of normalized tanimoto similarities\n",
    "num_texts = len(tf_vectors)\n",
    "similarities = np.array([[0.0] * num_texts for _ in range(num_texts)])\n",
    "unit_vectors = np.array([vector / norm(vector) for vector in tf_vectors])\n",
    "for i, vector_a in enumerate(unit_vectors):\n",
    "    for j, vector_b in enumerate(unit_vectors):\n",
    "        similarities[i][j] = normalized_tanimoto(vector_a, vector_b)\n",
    "        \n",
    "labels = ['Text 1', 'Text 2', 'Text 3']\n",
    "sns.heatmap(similarities, cmap='YlGnBu', annot=True, xticklabels=labels, yticklabels=labels)\n",
    "plt.yticks(rotation=0)\n",
    "plt.show()"
   ]
  },
  {
   "cell_type": "markdown",
   "id": "98cd3d2f",
   "metadata": {},
   "source": [
    "### 13.3.1 Basic matrix operations"
   ]
  },
  {
   "cell_type": "code",
   "execution_count": 49,
   "id": "605fbc4c",
   "metadata": {},
   "outputs": [
    {
     "name": "stdout",
     "output_type": "stream",
     "text": [
      "Our 2D NumPy array contains 3 rows and 15 columns\n",
      "Our Pandas DataFrame contains 3 rows and 15 columns\n"
     ]
    }
   ],
   "source": [
    "# Computing Pandas and NumPy matrix attributes\n",
    "import pandas as pd\n",
    "matrices = [unit_vectors, pd.DataFrame(unit_vectors)]\n",
    "matrix_types = ['2D NumPy array', 'Pandas DataFrame']\n",
    "\n",
    "for matrix_type, matrix in zip(matrix_types, matrices):\n",
    "    row_count, column_count = matrix.shape\n",
    "    print(f\"Our {matrix_type} contains {row_count} rows and {column_count} columns\")\n",
    "    assert (column_count, row_count) == matrix.T.shape"
   ]
  },
  {
   "cell_type": "markdown",
   "id": "b707441e",
   "metadata": {},
   "source": [
    "### NumPy Arithmetic Operations"
   ]
  },
  {
   "cell_type": "code",
   "execution_count": 50,
   "id": "d6ea8b0a",
   "metadata": {},
   "outputs": [],
   "source": [
    "# NumPy array addition and subtraction\n",
    "double_similarities = 2 * similarities\n",
    "np.array_equal(double_similarities, similarities + similarities)\n",
    "zero_matrix = similarities - similarities\n",
    "negative_1_matrix = similarities - similarities - 1\n",
    "\n",
    "for i in range(similarities.shape[0]):\n",
    "    for j in range(similarities.shape[1]):\n",
    "        assert double_similarities[i][j] == 2 * similarities[i][j]\n",
    "        assert zero_matrix[i][j] == 0\n",
    "        assert negative_1_matrix[i][j] == -1"
   ]
  },
  {
   "cell_type": "code",
   "execution_count": 51,
   "id": "c3ba899e",
   "metadata": {},
   "outputs": [],
   "source": [
    "# NumPy array miltipication and division\n",
    "squared_similarities = similarities * similarities\n",
    "assert np.array_equal(squared_similarities, similarities ** 2)\n",
    "ones_matrix = similarities / similarities\n",
    "\n",
    "for i in range(similarities.shape[0]):\n",
    "    for j in range(similarities.shape[1]):\n",
    "        assert squared_similarities[i][j] == similarities[i][j] ** 2\n",
    "        assert ones_matrix[i][j] == 1"
   ]
  },
  {
   "cell_type": "code",
   "execution_count": 52,
   "id": "edc3c378",
   "metadata": {},
   "outputs": [],
   "source": [
    "# Converting between matrix similarity-types\n",
    "cosine_similarities = 2 * similarities / (1 + similarities)\n",
    "for i in range(similarities.shape[0]):\n",
    "    for j in range(similarities.shape[1]):\n",
    "        cosine_sim = unit_vectors[i] @ unit_vectors[j]\n",
    "        assert round(cosine_similarities[i][j], 15) == round(cosine_sim, 15)"
   ]
  },
  {
   "cell_type": "markdown",
   "id": "67acbe32",
   "metadata": {},
   "source": [
    "### NumPy Matrix Row and Column Operations"
   ]
  },
  {
   "cell_type": "code",
   "execution_count": 53,
   "id": "3c7453e0",
   "metadata": {},
   "outputs": [
    {
     "name": "stdout",
     "output_type": "stream",
     "text": [
      "Accessing rows and columns in the Similarities Matrix.\n",
      "Row at index 0 is:\n",
      "[1.         0.51442439 0.44452044]\n",
      "\n",
      "Column at index 0 is:\n",
      "[1.         0.51442439 0.44452044]\n",
      "\n",
      "Accessing rows and columns in the Unit Vector Matrix.\n",
      "Row at index 0 is:\n",
      "[0.         0.         0.40824829 0.40824829 0.         0.\n",
      " 0.40824829 0.         0.         0.40824829 0.         0.40824829\n",
      " 0.         0.         0.40824829]\n",
      "\n",
      "Column at index 0 is:\n",
      "[0.        0.2773501 0.       ]\n",
      "\n"
     ]
    }
   ],
   "source": [
    "# Accessing NumPy matrix rows and columns\n",
    "for name, matrix in [('Similarities', similarities), ('Unit Vector', unit_vectors)]:\n",
    "    print(f\"Accessing rows and columns in the {name} Matrix.\")\n",
    "    row, column = matrix[0], matrix[:,0]\n",
    "    print(f\"Row at index 0 is:\\n{row}\")\n",
    "    print(f\"\\nColumn at index 0 is:\\n{column}\\n\")"
   ]
  },
  {
   "cell_type": "code",
   "execution_count": 54,
   "id": "480e0f38",
   "metadata": {},
   "outputs": [
    {
     "name": "stdout",
     "output_type": "stream",
     "text": [
      "The dot product between the row and column is: 0.1427\n"
     ]
    }
   ],
   "source": [
    "# Computing the dot product between a row and column\n",
    "row = similarities[0]\n",
    "column = unit_vectors[:,0]\n",
    "dot_product = row @ column\n",
    "print(f\"The dot product between the row and column is: {dot_product:.4f}\")"
   ]
  },
  {
   "cell_type": "code",
   "execution_count": 55,
   "id": "37a6c218",
   "metadata": {},
   "outputs": [
    {
     "name": "stdout",
     "output_type": "stream",
     "text": [
      "The dot product between row 0 and column 0 is: 0.1427\n",
      "The dot product between row 0 and column 1 is: 0.1340\n",
      "The dot product between row 0 and column 2 is: 0.8276\n",
      "The dot product between row 0 and column 3 is: 0.5423\n",
      "The dot product between row 0 and column 4 is: 0.1427\n",
      "The dot product between row 0 and column 5 is: 0.1340\n",
      "The dot product between row 0 and column 6 is: 0.6850\n",
      "The dot product between row 0 and column 7 is: 0.1340\n",
      "The dot product between row 0 and column 8 is: 0.1340\n",
      "The dot product between row 0 and column 9 is: 0.5509\n",
      "The dot product between row 0 and column 10 is: 0.1340\n",
      "The dot product between row 0 and column 11 is: 0.5423\n",
      "The dot product between row 0 and column 12 is: 0.1427\n",
      "The dot product between row 0 and column 13 is: 0.1340\n",
      "The dot product between row 0 and column 14 is: 0.8276\n",
      "The dot product between row 1 and column 0 is: 0.2774\n",
      "The dot product between row 1 and column 1 is: 0.0797\n",
      "The dot product between row 1 and column 2 is: 0.8444\n",
      "The dot product between row 1 and column 3 is: 0.2897\n",
      "The dot product between row 1 and column 4 is: 0.2774\n",
      "The dot product between row 1 and column 5 is: 0.0797\n",
      "The dot product between row 1 and column 6 is: 0.5671\n",
      "The dot product between row 1 and column 7 is: 0.0797\n",
      "The dot product between row 1 and column 8 is: 0.0797\n",
      "The dot product between row 1 and column 9 is: 0.4874\n",
      "The dot product between row 1 and column 10 is: 0.0797\n",
      "The dot product between row 1 and column 11 is: 0.2897\n",
      "The dot product between row 1 and column 12 is: 0.2774\n",
      "The dot product between row 1 and column 13 is: 0.0797\n",
      "The dot product between row 1 and column 14 is: 0.8444\n",
      "The dot product between row 2 and column 0 is: 0.0733\n",
      "The dot product between row 2 and column 1 is: 0.3015\n",
      "The dot product between row 2 and column 2 is: 0.6296\n",
      "The dot product between row 2 and column 3 is: 0.4830\n",
      "The dot product between row 2 and column 4 is: 0.0733\n",
      "The dot product between row 2 and column 5 is: 0.3015\n",
      "The dot product between row 2 and column 6 is: 0.5563\n",
      "The dot product between row 2 and column 7 is: 0.3015\n",
      "The dot product between row 2 and column 8 is: 0.3015\n",
      "The dot product between row 2 and column 9 is: 0.2548\n",
      "The dot product between row 2 and column 10 is: 0.3015\n",
      "The dot product between row 2 and column 11 is: 0.4830\n",
      "The dot product between row 2 and column 12 is: 0.0733\n",
      "The dot product between row 2 and column 13 is: 0.3015\n",
      "The dot product between row 2 and column 14 is: 0.6296\n"
     ]
    }
   ],
   "source": [
    "# Computing dot products between all rows and columns\n",
    "num_rows = similarities.shape[0]\n",
    "num_columns = unit_vectors.shape[1]\n",
    "for i in range(num_rows):\n",
    "    for j in range(num_columns):\n",
    "        row = similarities[i]\n",
    "        column = unit_vectors[:,j]\n",
    "        dot_product = row @ column\n",
    "        print(f\"The dot product between row {i} and column {j} is: {dot_product:.4f}\")"
   ]
  },
  {
   "cell_type": "code",
   "execution_count": 56,
   "id": "2788ec4b",
   "metadata": {},
   "outputs": [
    {
     "name": "stdout",
     "output_type": "stream",
     "text": [
      "[[0.14267565 0.13402795 0.82762755 0.54227624 0.14267565 0.13402795\n",
      "  0.6849519  0.13402795 0.13402795 0.55092394 0.13402795 0.54227624\n",
      "  0.14267565 0.13402795 0.82762755]\n",
      " [0.2773501  0.07969524 0.84440831 0.28970812 0.2773501  0.07969524\n",
      "  0.56705821 0.07969524 0.07969524 0.48736297 0.07969524 0.28970812\n",
      "  0.2773501  0.07969524 0.84440831]\n",
      " [0.07330896 0.30151134 0.62960397 0.48298605 0.07330896 0.30151134\n",
      "  0.55629501 0.30151134 0.30151134 0.25478367 0.30151134 0.48298605\n",
      "  0.07330896 0.30151134 0.62960397]]\n"
     ]
    }
   ],
   "source": [
    "# Storing all-by-all dot products in a matrix\n",
    "dot_products = np.zeros((num_rows, num_columns))\n",
    "for i in range(num_rows):\n",
    "    for j in range(num_columns):\n",
    "        dot_products[i][j] = similarities[i] @ unit_vectors[:,j]\n",
    "        \n",
    "print(dot_products)"
   ]
  },
  {
   "cell_type": "code",
   "execution_count": 57,
   "id": "189a1962",
   "metadata": {},
   "outputs": [],
   "source": [
    "# Computing a matrix product using NumPy\n",
    "matrix_product = similarities @ unit_vectors\n",
    "assert np.allclose(matrix_product, dot_products)"
   ]
  },
  {
   "cell_type": "code",
   "execution_count": 58,
   "id": "8dc0bfe7",
   "metadata": {},
   "outputs": [
    {
     "name": "stdout",
     "output_type": "stream",
     "text": [
      "We can't comput the matrix product\n"
     ]
    }
   ],
   "source": [
    "# Computing an erronous matrix product\n",
    "try:\n",
    "    matrix_product = unit_vectors @ similarities\n",
    "except:\n",
    "    print(\"We can't comput the matrix product\")"
   ]
  },
  {
   "cell_type": "code",
   "execution_count": 59,
   "id": "4cd947bf",
   "metadata": {},
   "outputs": [],
   "source": [
    "# Running matrix multiplication using matmul\n",
    "matrix_product = np.matmul(similarities, unit_vectors)\n",
    "assert np.array_equal(matrix_product, similarities @ unit_vectors)"
   ]
  },
  {
   "cell_type": "code",
   "execution_count": 60,
   "id": "5586eb39",
   "metadata": {},
   "outputs": [
    {
     "data": {
      "image/png": "[encoded data removed]",
      "text/plain": [
       "<Figure size 640x480 with 1 Axes>"
      ]
     },
     "metadata": {},
     "output_type": "display_data"
    }
   ],
   "source": [
    "# Comparing matrix product running times\n",
    "import time\n",
    "\n",
    "numpy_run_times = []\n",
    "for_loop_run_times = []\n",
    "\n",
    "matrix_sizes = range(1, 100)\n",
    "for size in matrix_sizes:\n",
    "    matrix = np.ones((size, size))\n",
    "    \n",
    "    start_time = time.time()\n",
    "    matrix @ matrix\n",
    "    numpy_run_times.append(time.time() - start_time)\n",
    "    \n",
    "    start_time = time.time()\n",
    "    for i in range(size):\n",
    "        for j in range(size):\n",
    "            matrix[i] @ matrix[:,j]\n",
    "            \n",
    "    for_loop_run_times.append(time.time() - start_time)\n",
    "\n",
    "plt.plot(matrix_sizes, numpy_run_times, label='NumPy Matrix Product', linestyle='--')\n",
    "plt.plot(matrix_sizes, for_loop_run_times, label='For-Loop Matrix Product', color='k')\n",
    "plt.xlabel('Row / Column Size')\n",
    "plt.ylabel('Running Time (Seconds)')\n",
    "plt.legend()\n",
    "plt.show()"
   ]
  },
  {
   "cell_type": "markdown",
   "id": "9e651dcc",
   "metadata": {},
   "source": [
    "### 13.3.2 Computing all-by-all matrix similarities"
   ]
  },
  {
   "cell_type": "code",
   "execution_count": null,
   "id": "bbe3c5a7",
   "metadata": {},
   "outputs": [],
   "source": []
  }
 ],
 "metadata": {
  "kernelspec": {
   "display_name": "base",
   "language": "python",
   "name": "base"
  },
  "language_info": {
   "codemirror_mode": {
    "name": "ipython",
    "version": 3
   },
   "file_extension": ".py",
   "mimetype": "text/x-python",
   "name": "python",
   "nbconvert_exporter": "python",
   "pygments_lexer": "ipython3",
   "version": "3.9.16"
  }
 },
 "nbformat": 4,
 "nbformat_minor": 5
}
