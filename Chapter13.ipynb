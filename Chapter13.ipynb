{
 "cells": [
  {
   "cell_type": "markdown",
   "id": "5cb1aa61",
   "metadata": {},
   "source": [
    "# Chapter 13: Measuring Text Similarities"
   ]
  },
  {
   "cell_type": "markdown",
   "id": "0a2fadda",
   "metadata": {},
   "source": [
    "## 13.1 Simple Text Comparison"
   ]
  },
  {
   "cell_type": "code",
   "execution_count": 1,
   "id": "d724d2fe",
   "metadata": {},
   "outputs": [],
   "source": [
    "# Assigning texts to variables\n",
    "text1 = 'She sells seashells by the seashore.'\n",
    "text2 = '\"Seashells! The seashells are on sale! By the seashore.\"'\n",
    "text3 = 'She sells 3 seashells to John, who lives by the lake.'"
   ]
  },
  {
   "cell_type": "code",
   "execution_count": 3,
   "id": "932b9475",
   "metadata": {},
   "outputs": [
    {
     "name": "stdout",
     "output_type": "stream",
     "text": [
      "Words in text 1\n",
      "['She', 'sells', 'seashells', 'by', 'the', 'seashore.']\n",
      "\n",
      "Words in text 2\n",
      "['\"Seashells!', 'The', 'seashells', 'are', 'on', 'sale!', 'By', 'the', 'seashore.\"']\n",
      "\n",
      "Words in text 3\n",
      "['She', 'sells', '3', 'seashells', 'to', 'John,', 'who', 'lives', 'by', 'the', 'lake.']\n",
      "\n"
     ]
    }
   ],
   "source": [
    "# Tokenization: Splitting text into individual words\n",
    "# Splitting text into words\n",
    "words_lists = [text.split() for text in [text1, text2, text3]]\n",
    "words1, words2, words3 = words_lists\n",
    "\n",
    "for i, words in enumerate(words_lists, 1):\n",
    "    print(f\"Words in text {i}\")\n",
    "    print(f\"{words}\\n\")"
   ]
  },
  {
   "cell_type": "code",
   "execution_count": 5,
   "id": "c749f411",
   "metadata": {},
   "outputs": [
    {
     "name": "stdout",
     "output_type": "stream",
     "text": [
      "Words in text 1\n",
      "['she', 'sells', 'seashells', 'by', 'the', 'seashore']\n",
      "\n",
      "Words in text 2\n",
      "['seashells', 'the', 'seashells', 'are', 'on', 'sale', 'by', 'the', 'seashore']\n",
      "\n",
      "Words in text 3\n",
      "['she', 'sells', '3', 'seashells', 'to', 'john', 'who', 'lives', 'by', 'the', 'lake']\n",
      "\n"
     ]
    }
   ],
   "source": [
    "# Removing case sensitivity and punctuation\n",
    "def simplify_text(text):\n",
    "    for punctuation in ['.', ',', '!', '?', '\"']:\n",
    "        text = text.replace(punctuation, '')\n",
    "        \n",
    "    return text.lower()\n",
    "\n",
    "for i, words in enumerate(words_lists, 1):\n",
    "    for j, word in enumerate(words):\n",
    "        words[j] = simplify_text(word)\n",
    "    \n",
    "    print(f\"Words in text {i}\")\n",
    "    print(f\"{words}\\n\")"
   ]
  },
  {
   "cell_type": "code",
   "execution_count": 6,
   "id": "0ada2f91",
   "metadata": {},
   "outputs": [
    {
     "name": "stdout",
     "output_type": "stream",
     "text": [
      "Unique Words in text 1\n",
      "{'she', 'the', 'sells', 'by', 'seashore', 'seashells'}\n",
      "\n",
      "Unique Words in text 2\n",
      "{'sale', 'are', 'the', 'by', 'on', 'seashore', 'seashells'}\n",
      "\n",
      "Unique Words in text 3\n",
      "{'lives', 'john', 'she', 'the', 'sells', 'by', 'lake', 'who', '3', 'to', 'seashells'}\n",
      "\n"
     ]
    }
   ],
   "source": [
    "# Converting word lists to sets (to take out duplicates)\n",
    "words_sets = [set(words) for words in words_lists]\n",
    "for i, unique_words in enumerate(words_sets, 1):\n",
    "    print(f\"Unique Words in text {i}\")\n",
    "    print(f\"{unique_words}\\n\")"
   ]
  },
  {
   "cell_type": "code",
   "execution_count": 8,
   "id": "a3996f97",
   "metadata": {},
   "outputs": [
    {
     "name": "stdout",
     "output_type": "stream",
     "text": [
      "Texts 1 and 2 share these 4 words:\n",
      "{'seashells', 'by', 'the', 'seashore'}\n",
      "\n",
      "Texts 1 and 3 share these 5 words:\n",
      "{'she', 'the', 'sells', 'by', 'seashells'}\n",
      "\n"
     ]
    }
   ],
   "source": [
    "# Extracting overlapping words between two texts\n",
    "words_set1 = words_sets[0]\n",
    "for i, words_set in enumerate(words_sets[1:], 2):\n",
    "    shared_words = words_set1 & words_set\n",
    "    print(f\"Texts 1 and {i} share these {len(shared_words)} words:\")\n",
    "    print(f\"{shared_words}\\n\")"
   ]
  },
  {
   "cell_type": "code",
   "execution_count": 9,
   "id": "1a354c28",
   "metadata": {},
   "outputs": [
    {
     "name": "stdout",
     "output_type": "stream",
     "text": [
      "Texts 1 and 2 don't share these 5 words:\n",
      "{'are', 'she', 'sells', 'sale', 'on'}\n",
      "\n",
      "Texts 1 and 3 don't share these 7 words:\n",
      "{'lives', 'john', 'lake', 'seashore', 'who', '3', 'to'}\n",
      "\n"
     ]
    }
   ],
   "source": [
    "# Extracting diverging words between two texts\n",
    "for i, words_set in enumerate(words_sets[1:], 2):\n",
    "    diverging_words = words_set1 ^ words_set\n",
    "    print(f\"Texts 1 and {i} don't share these {len(diverging_words)} words:\")\n",
    "    print(f\"{diverging_words}\\n\")"
   ]
  },
  {
   "cell_type": "code",
   "execution_count": 10,
   "id": "9820095e",
   "metadata": {},
   "outputs": [
    {
     "name": "stdout",
     "output_type": "stream",
     "text": [
      "Together, texts 1 and 2 contain 9 unique words. These words are:\n",
      " {'sale', 'are', 'she', 'the', 'sells', 'by', 'on', 'seashore', 'seashells'}\n",
      "\n",
      "Together, texts 1 and 3 contain 12 unique words. These words are:\n",
      " {'lives', 'john', 'she', 'the', 'sells', 'by', 'lake', '3', 'seashells', 'seashore', 'who', 'to'}\n",
      "\n"
     ]
    }
   ],
   "source": [
    "for i, words_set in enumerate(words_sets[1:], 2):\n",
    "    total_words = words_set1 | words_set\n",
    "    print(f\"Together, texts 1 and {i} contain {len(total_words)} \"\n",
    "          f\"unique words. These words are:\\n {total_words}\\n\")\n",
    "    "
   ]
  },
  {
   "cell_type": "code",
   "execution_count": 12,
   "id": "148f9319",
   "metadata": {},
   "outputs": [
    {
     "name": "stdout",
     "output_type": "stream",
     "text": [
      "Together, texts 1 and 2 contain 9 unique words. \n",
      "44.44% of these words are shared. \n",
      "55.56% of these words diverge.\n",
      "\n",
      "Together, texts 1 and 3 contain 12 unique words. \n",
      "41.67% of these words are shared. \n",
      "58.33% of these words diverge.\n",
      "\n"
     ]
    }
   ],
   "source": [
    "# Extracting the percentage of shared words between two texts\n",
    "for i, words_set in enumerate(words_sets[1:], 2):\n",
    "    shared_words = words_set1 & words_set\n",
    "    diverging_words = words_set1 ^ words_set\n",
    "    total_words = words_set1 | words_set\n",
    "    assert len(total_words) == len(shared_words) + len(diverging_words)\n",
    "    percent_shared = 100 * len(shared_words) / len(total_words)\n",
    "    percent_diverging = 100 * len(diverging_words) / len(total_words)\n",
    "    \n",
    "    print(f\"Together, texts 1 and {i} contain {len(total_words)} \"\n",
    "          f\"unique words. \\n{percent_shared:.2f}% of these words are \"\n",
    "          f\"shared. \\n{percent_diverging:.2f}% of these words diverge.\\n\")\n",
    "# What was developed here is the Jaccard similarity or Jaccard index"
   ]
  },
  {
   "cell_type": "markdown",
   "id": "036f7e9b",
   "metadata": {},
   "source": [
    "### 13.1.1 Exploring the Jaccard similarity"
   ]
  },
  {
   "cell_type": "code",
   "execution_count": 14,
   "id": "1f7ae122",
   "metadata": {},
   "outputs": [
    {
     "name": "stdout",
     "output_type": "stream",
     "text": [
      "The Jaccard similarity between 'She sells seashells by the seashore.' and '\"Seashells! The seashells are on sale! By the seashore.\"' equals 0.4444.\n",
      "\n",
      "The Jaccard similarity between 'She sells seashells by the seashore.' and 'She sells 3 seashells to John, who lives by the lake.' equals 0.4167.\n",
      "\n"
     ]
    }
   ],
   "source": [
    "# Computing the Jaccard similarity\n",
    "def jaccard_similarity(text_a, text_b):\n",
    "    word_set_a, word_set_b = [set(simplify_text(text).split()) for text in [text_a, text_b]]\n",
    "    num_shared = len(word_set_a & word_set_b)\n",
    "    num_total = len(word_set_a | word_set_b)\n",
    "    return num_shared / num_total\n",
    "\n",
    "for text in [text2, text3]:\n",
    "    similarity = jaccard_similarity(text1, text)\n",
    "    print(f\"The Jaccard similarity between '{text1}' and '{text}' \"\n",
    "          f\"equals {similarity:.4f}.\" \"\\n\")\n",
    "# Not very efficient"
   ]
  },
  {
   "cell_type": "code",
   "execution_count": 15,
   "id": "3cbd0d1a",
   "metadata": {},
   "outputs": [],
   "source": [
    "# Efficiently computing the Jaccard similarity\n",
    "def jaccard_similarity_efficient(text_a, text_b):\n",
    "    word_set_a, word_set_b = [set(simplify_text(text).split()) for text in [text_a, text_b]]\n",
    "    num_shared = len(word_set_a & word_set_b)\n",
    "    num_total = len(word_set_a) + len(word_set_b) - num_shared\n",
    "    return num_shared / num_total\n",
    "\n",
    "for text in [text2, text3]:\n",
    "    similarity = jaccard_similarity_efficient(text1, text)\n",
    "    assert similarity == jaccard_similarity(text1, text)"
   ]
  },
  {
   "cell_type": "markdown",
   "id": "69e5350b",
   "metadata": {},
   "source": [
    "### 13.1.2 Replacing words with numeric values"
   ]
  },
  {
   "cell_type": "code",
   "execution_count": 20,
   "id": "fd970ae6",
   "metadata": {},
   "outputs": [
    {
     "name": "stdout",
     "output_type": "stream",
     "text": [
      "Our vocabulary conatains 15 words. This vocabulary is:\n",
      "{'lives': 0, 'are': 1, 'john': 2, 'she': 3, 'the': 4, 'sells': 5, 'by': 6, 'lake': 7, '3': 8, 'seashells': 9, 'sale': 10, 'on': 11, 'seashore': 12, 'who': 13, 'to': 14}\n"
     ]
    }
   ],
   "source": [
    "# Vocabulary: Dictionary of words with numbers representing their count in the text\n",
    "# Assigning words to numbers in a vocabulary\n",
    "words_set1, words_set2, words_set3 = words_sets\n",
    "total_words = words_set1 | words_set2 | words_set3\n",
    "vocabulary = {word : i for i, word in enumerate(total_words)}\n",
    "value_to_word = {value : word for word, value in vocabulary.items()}\n",
    "print(f\"Our vocabulary conatains {len(vocabulary)} words. \"\n",
    "      f\"This vocabulary is:\\n{vocabulary}\")"
   ]
  },
  {
   "cell_type": "code",
   "execution_count": 24,
   "id": "d03041ca",
   "metadata": {},
   "outputs": [
    {
     "data": {
      "image/png": "[encoded data removed]",
      "text/plain": [
       "<Figure size 432x288 with 2 Axes>"
      ]
     },
     "metadata": {
      "needs_background": "light"
     },
     "output_type": "display_data"
    }
   ],
   "source": [
    "# Text Vectorization: Making text into a 1D array of numbers\n",
    "# Transforming words into binary vectors\n",
    "import matplotlib.pyplot as plt\n",
    "import numpy as np\n",
    "import seaborn as sns\n",
    "\n",
    "vectors = []\n",
    "for i, words_set in enumerate(words_sets, 1):\n",
    "    vector = np.array([0] * len(vocabulary))\n",
    "    # np.zeros(len(vocabulary)) # same as line above\n",
    "    for word in words_set:\n",
    "        vector[vocabulary[word]] = 1\n",
    "    vectors.append(vector)\n",
    "        \n",
    "sns.heatmap(vectors, annot=True, cmap='YlGnBu', xticklabels=vocabulary.keys())\n",
    "yticklabels=['Text 1', 'Text 2', 'Text 3']\n",
    "plt.yticks(rotation=0)\n",
    "plt.show()"
   ]
  },
  {
   "cell_type": "code",
   "execution_count": 25,
   "id": "3aac0e68",
   "metadata": {},
   "outputs": [
    {
     "name": "stdout",
     "output_type": "stream",
     "text": [
      "'the' is present in both texts 1 and 2\n",
      "'by' is present in both texts 1 and 2\n",
      "'seashells' is present in both texts 1 and 2\n",
      "'seashore' is present in both texts 1 and 2\n"
     ]
    }
   ],
   "source": [
    "# Finding shared words using vector arithmetic\n",
    "vector1, vector2 = vectors[:2]\n",
    "for i in range(len(vocabulary)):\n",
    "    if vector1[i] * vector2[i]:\n",
    "        shared_word = value_to_word[i]\n",
    "        print(f\"'{shared_word}' is present in both texts 1 and 2\")"
   ]
  },
  {
   "cell_type": "code",
   "execution_count": 27,
   "id": "241ef21d",
   "metadata": {},
   "outputs": [],
   "source": [
    "# Counting shared words using vector arithmetic\n",
    "shared_word_count = sum(vector1[i] * vector2[i] for i in range(len(vocabulary)))\n",
    "assert shared_word_count == len(words_set1 & words_set2)\n",
    "# Dot Product: Sum of Pairwise products across all vector indices"
   ]
  },
  {
   "cell_type": "code",
   "execution_count": 28,
   "id": "474e2611",
   "metadata": {},
   "outputs": [],
   "source": [
    "# Computing a vector dot product using NumPy\n",
    "assert vector1.dot(vector2) == shared_word_count\n",
    "assert vector1 @ vector2 == shared_word_count"
   ]
  },
  {
   "cell_type": "code",
   "execution_count": 29,
   "id": "6c718403",
   "metadata": {},
   "outputs": [],
   "source": [
    "# Counting total words using vector arithmetic\n",
    "assert vector1 @ vector1 == len(words_set1)\n",
    "assert vector2 @ vector2 == len(words_set2)"
   ]
  },
  {
   "cell_type": "code",
   "execution_count": 31,
   "id": "08b36095",
   "metadata": {},
   "outputs": [],
   "source": [
    "# Tanimoto Similarity: Vectorized implementation of Jaccard similarity\n",
    "# Computing text similarity using vector arithmetic\n",
    "def tanimoto_similarity(vector_a, vector_b):\n",
    "    num_shared = vector_a @ vector_b\n",
    "    num_total = vector_a @ vector_a + vector_b @ vector_b - num_shared\n",
    "    return num_shared / num_total\n",
    "\n",
    "for i, text in enumerate([text2, text3], 1):\n",
    "    similarity = tanimoto_similarity(vector1, vectors[i])\n",
    "    assert similarity == jaccard_similarity(text1, text)"
   ]
  },
  {
   "cell_type": "code",
   "execution_count": 32,
   "id": "dcf54f95",
   "metadata": {},
   "outputs": [
    {
     "name": "stdout",
     "output_type": "stream",
     "text": [
      "The similarity of 2 non-binary vectors is 0.96875\n"
     ]
    }
   ],
   "source": [
    "# Computing the similarity of non-binary vectors\n",
    "non_binary_vector1 = np.array([5, 3])\n",
    "non_binary_vector2 = np.array([5, 2])\n",
    "similarity = tanimoto_similarity(non_binary_vector1, non_binary_vector2)\n",
    "print(f\"The similarity of 2 non-binary vectors is {similarity}\")"
   ]
  },
  {
   "cell_type": "markdown",
   "id": "7014656f",
   "metadata": {},
   "source": [
    "## 13.2 Vectorizing texts using word counts"
   ]
  },
  {
   "cell_type": "code",
   "execution_count": null,
   "id": "0e870909",
   "metadata": {},
   "outputs": [],
   "source": []
  }
 ],
 "metadata": {
  "kernelspec": {
   "display_name": "base",
   "language": "python",
   "name": "base"
  },
  "language_info": {
   "codemirror_mode": {
    "name": "ipython",
    "version": 3
   },
   "file_extension": ".py",
   "mimetype": "text/x-python",
   "name": "python",
   "nbconvert_exporter": "python",
   "pygments_lexer": "ipython3",
   "version": "3.9.12"
  }
 },
 "nbformat": 4,
 "nbformat_minor": 5
}
