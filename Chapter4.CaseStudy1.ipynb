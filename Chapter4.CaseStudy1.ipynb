{
 "cells": [
  {
   "cell_type": "markdown",
   "id": "98530078",
   "metadata": {},
   "source": [
    "# My attempt at Case Study 1:"
   ]
  },
  {
   "cell_type": "code",
   "execution_count": 1,
   "id": "4986befc",
   "metadata": {},
   "outputs": [],
   "source": [
    "# Play a card game in which the cards are iteratively flipped until we tell the dealer to stop, then one additional card is flipped over\n",
    "# Find a strategy to make the last card flipped over a red card\n",
    "# I have already seen this before, so will try a strategy I think I saw before"
   ]
  },
  {
   "cell_type": "code",
   "execution_count": 4,
   "id": "0d506c09",
   "metadata": {},
   "outputs": [],
   "source": [
    "# Make The Deck:\n",
    "red_cards = 26 * [1]\n",
    "black_cards = 26 * [0]\n",
    "full_deck = red_cards + black_cards"
   ]
  },
  {
   "cell_type": "code",
   "execution_count": 5,
   "id": "893a8149",
   "metadata": {},
   "outputs": [],
   "source": [
    "# Get all permutations with NumPy:\n",
    "import numpy as np\n",
    "np.random.seed(0)\n",
    "shuffled_deck = np.random.permutation(full_deck)"
   ]
  },
  {
   "cell_type": "code",
   "execution_count": 6,
   "id": "0f2cc8b2",
   "metadata": {},
   "outputs": [
    {
     "name": "stdout",
     "output_type": "stream",
     "text": [
      "[0 0 1 0 1 0 0 0 0 1 1 1 0 0 0 0 1 1 0 0 1 0 0 1 1 0 1 0 1 0 1 1 1 1 0 0 1\n",
      " 1 0 1 1 1 0 1 1 1 0 0 1 1 0 0]\n",
      "<class 'numpy.ndarray'>\n"
     ]
    }
   ],
   "source": [
    "print(shuffled_deck)\n",
    "print(type(shuffled_deck))"
   ]
  },
  {
   "cell_type": "code",
   "execution_count": 1,
   "id": "81cb61c7",
   "metadata": {},
   "outputs": [],
   "source": [
    "# Play the game where we will keep track of the number of black and red cards remaining in the deck\n",
    "# and stop the game when the number of red cards outnumbers the number of black cards:\n",
    "# this function will return 1 if the game is won and 0 if the game is lost\n",
    "def play_game(shuffled_deck):  \n",
    "    red_total = 26\n",
    "    black_total = 26\n",
    "    final_card = shuffled_deck[0]\n",
    "    for index, card in np.ndenumerate(shuffled_deck):\n",
    "        if card == 1:\n",
    "            red_total -= 1\n",
    "        else:\n",
    "            black_total -= 1\n",
    "\n",
    "        if red_total > black_total:\n",
    "            # halt the game because there are more red cards than black cards\n",
    "            final_card = shuffled_deck[index[0] + 1]\n",
    "            print(\"Halted\")\n",
    "            break\n",
    "            \n",
    "        # record the last card in case there are never more red cards than black cards\n",
    "        final_card = card\n",
    "    \n",
    "    print(\"Final Check\")\n",
    "    if final_card == 1:\n",
    "        return 1\n",
    "    else:\n",
    "        return 0"
   ]
  },
  {
   "cell_type": "code",
   "execution_count": 6,
   "id": "5020856b",
   "metadata": {},
   "outputs": [
    {
     "name": "stdout",
     "output_type": "stream",
     "text": [
      "0\n"
     ]
    }
   ],
   "source": [
    "print(play_game(shuffled_deck))"
   ]
  },
  {
   "cell_type": "code",
   "execution_count": 20,
   "id": "4e5e71cb",
   "metadata": {},
   "outputs": [],
   "source": [
    "from collections import defaultdict\n"
   ]
  },
  {
   "cell_type": "code",
   "execution_count": 22,
   "id": "a1129306",
   "metadata": {},
   "outputs": [
    {
     "name": "stdout",
     "output_type": "stream",
     "text": [
      "58\n",
      "42\n"
     ]
    }
   ],
   "source": [
    "np.random.seed(0)\n",
    "# counters for the wins and losses\n",
    "num_wins = 0\n",
    "num_losses = 0\n",
    "\n",
    "# play 100 games with a random deck and record it\n",
    "for _ in range(100):\n",
    "    shuffled_deck = np.random.permutation(full_deck)\n",
    "    # print(shuffled_deck)\n",
    "    if play_game(shuffled_deck) == 1:\n",
    "        num_wins += 1\n",
    "    else:\n",
    "        num_losses += 1\n",
    "        \n",
    "print(num_wins)\n",
    "print(num_losses)"
   ]
  },
  {
   "cell_type": "markdown",
   "id": "265b760d",
   "metadata": {},
   "source": [
    "# Case Study 1 Solution"
   ]
  },
  {
   "cell_type": "code",
   "execution_count": 1,
   "id": "9a06fddc",
   "metadata": {},
   "outputs": [],
   "source": [
    "# 4.1 Predicting Red Cards in a Shuffled Deck\n",
    "red_cards = 26 * [1]\n",
    "black_cards = 26\n",
    "total_cards = red_cards + black_cards"
   ]
  },
  {
   "cell_type": "code",
   "execution_count": 5,
   "id": "2a104ca0",
   "metadata": {},
   "outputs": [],
   "source": [
    "import numpy as np\n",
    "# Shuffle the deck\n",
    "np.random.seed(1)\n",
    "shuffled_deck = np.random.permutation(total_cards)"
   ]
  },
  {
   "cell_type": "code",
   "execution_count": 9,
   "id": "86983470",
   "metadata": {},
   "outputs": [
    {
     "name": "stdout",
     "output_type": "stream",
     "text": [
      "Stopping the game at index 50.\n",
      "The next card in the deck is red.\n",
      "We have won!\n"
     ]
    }
   ],
   "source": [
    "# Terminate the game when the number of red cards is greater than the number of black cards\n",
    "remaining_red_cards = 26\n",
    "for i, card in enumerate(shuffled_deck[:-1]):\n",
    "    remaining_red_cards -= card\n",
    "    remaining_total_cards = 52 - i - 1\n",
    "    if (remaining_red_cards / remaining_total_cards) > 0.5:\n",
    "        break\n",
    "        \n",
    "print(f\"Stopping the game at index {i}.\")\n",
    "final_card = shuffled_deck[i + 1]\n",
    "color = 'red' if final_card else 0\n",
    "print(f\"The next card in the deck is {'red' if final_card else 'black'}.\")\n",
    "print(f\"We have {'won' if final_card else 'lost'}!\")"
   ]
  },
  {
   "cell_type": "code",
   "execution_count": 11,
   "id": "66c95d27",
   "metadata": {},
   "outputs": [],
   "source": [
    "# Generalizing the Card Game Strategy\n",
    "np.random.seed(0)\n",
    "total_cards = 52\n",
    "total_red_cards = 26\n",
    "def execute_strategy(min_fraction_red=0.5, shuffled_deck=None, return_index=False):\n",
    "    if shuffled_deck is None:\n",
    "        shuffled_deck = np.random.permutation(unshuffled_deck)\n",
    "        \n",
    "    remaining_red_cards = total_red_cards\n",
    "    \n",
    "    for i, card in enumerate(shuffled_deck[:-1]):\n",
    "        remaining_red_cards -= card\n",
    "        fraction_red_cards = remaining_red_cards / (total_cards - i - 1)\n",
    "        if fraction_red_cards > min_fraction_red:\n",
    "            break\n",
    "        \n",
    "    # returns either the return index and the final card as a tuple: (return_index, final card) or just the final card\n",
    "    # depending on the return_index input parameter\n",
    "    return (i+1, shuffled_deck[i+1]) if return_index else shuffled_deck[i+1]"
   ]
  },
  {
   "cell_type": "code",
   "execution_count": null,
   "id": "b8cc62bc",
   "metadata": {},
   "outputs": [],
   "source": [
    "# 4.1.1 Estimating the probability of strategy success"
   ]
  }
 ],
 "metadata": {
  "kernelspec": {
   "display_name": "Python 3 (ipykernel)",
   "language": "python",
   "name": "python3"
  },
  "language_info": {
   "codemirror_mode": {
    "name": "ipython",
    "version": 3
   },
   "file_extension": ".py",
   "mimetype": "text/x-python",
   "name": "python",
   "nbconvert_exporter": "python",
   "pygments_lexer": "ipython3",
   "version": "3.10.9"
  }
 },
 "nbformat": 4,
 "nbformat_minor": 5
}
