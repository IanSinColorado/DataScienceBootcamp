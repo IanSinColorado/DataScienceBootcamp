{
 "cells": [
  {
   "cell_type": "markdown",
   "metadata": {},
   "source": [
    "# Chapter 20: Network-Driven Supervised Machine Learning"
   ]
  },
  {
   "cell_type": "markdown",
   "metadata": {},
   "source": [
    "## 20.1 The Basics of Supervised Machine Learning"
   ]
  },
  {
   "cell_type": "markdown",
   "metadata": {},
   "source": [
    "* **Feature**: Inputs designed to make *classes*\n",
    "* **Classes**: Classifications of things based on input *features*\n",
    "* **Classifier**: A model that can identify classes based on features\n",
    "* **Regressor**: A model that predicts numeric values; e.g. the price of a car or house"
   ]
  },
  {
   "cell_type": "code",
   "execution_count": 22,
   "metadata": {},
   "outputs": [
    {
     "name": "stdout",
     "output_type": "stream",
     "text": [
      "We have 150 labeled examples across the following 3 classes:\n",
      "{0, 1, 2}\n",
      "\n",
      "First four feature rows:\n",
      "[[5.1 3.5 1.4 0.2]\n",
      " [4.9 3.  1.4 0.2]\n",
      " [4.7 3.2 1.3 0.2]\n",
      " [4.6 3.1 1.5 0.2]]\n",
      "\n",
      "First four labels:\n",
      "[0 0 0 0]\n"
     ]
    }
   ],
   "source": [
    "# Loading iris features and class labels\n",
    "from sklearn.datasets import load_iris\n",
    "X, y = load_iris(return_X_y=True)\n",
    "num_classes = len(set(y))\n",
    "print(f\"We have {y.size} labeled examples across the following {num_classes} classes:\\n{set(y)}\\n\")\n",
    "print(f\"First four feature rows:\\n{X[:4]}\")\n",
    "print(f\"\\nFirst four labels:\\n{y[:4]}\")"
   ]
  },
  {
   "cell_type": "code",
   "execution_count": 23,
   "metadata": {},
   "outputs": [
    {
     "name": "stdout",
     "output_type": "stream",
     "text": [
      "Training set labels:\n",
      "[0 0 0 0 0 0 0 0 0 0 0 0 0 0 0 0 0 0 0 0 0 0 0 0 0 0 0 0 0 0 0 0 0 0 0 0 0]\n"
     ]
    }
   ],
   "source": [
    "# Creating a training set\n",
    "sampling_size = int(y.size / 4)\n",
    "X_train, y_train = X[:sampling_size], y[:sampling_size]\n",
    "print(f\"Training set labels:\\n{y_train}\")"
   ]
  },
  {
   "cell_type": "markdown",
   "metadata": {},
   "source": [
    "**Test Set**: Features and classes outside of our training set; these outputs can be utilized to test the classifier after training"
   ]
  },
  {
   "cell_type": "code",
   "execution_count": 24,
   "metadata": {},
   "outputs": [
    {
     "name": "stdout",
     "output_type": "stream",
     "text": [
      "Training set labels:\n",
      "[0 2 1 2 1 0 2 0 2 0 0 2 0 2 1 1 1 2 2 1 1 0 1 2 2 0 1 1 1 1 0 0 0 2 1 2 0]\n"
     ]
    }
   ],
   "source": [
    "# Creating a training set through random sampling\n",
    "from sklearn.model_selection import train_test_split\n",
    "import numpy as np\n",
    "np.random.seed(0)\n",
    "\n",
    "# train_size=0.25 ensures 25% of our total data winds up in the training data\n",
    "X_train, X_test, y_train, y_test = train_test_split(X, y, train_size=0.25) \n",
    "print(f\"Training set labels:\\n{y_train}\")"
   ]
  },
  {
   "cell_type": "code",
   "execution_count": 25,
   "metadata": {},
   "outputs": [
    {
     "data": {
      "image/png": "[encoded data removed]",
      "text/plain": [
       "<Figure size 640x480 with 1 Axes>"
      ]
     },
     "metadata": {},
     "output_type": "display_data"
    }
   ],
   "source": [
    "# Plotting the training and test sets\n",
    "import matplotlib.pyplot as plt\n",
    "from sklearn.decomposition import PCA\n",
    "\n",
    "pca_model = PCA()\n",
    "transformed_data_2D = pca_model.fit_transform(X_train)\n",
    "\n",
    "unlabeled_data = pca_model.transform(X_test)\n",
    "plt.scatter(unlabeled_data[:,0], unlabeled_data[:,1], color='khaki', marker='^', label='test')\n",
    "\n",
    "for label in range(3):\n",
    "    data_subset = transformed_data_2D[y_train == label]\n",
    "    plt.scatter(data_subset[:,0], data_subset[:,1], color=['r', 'k', 'b'][label], label=f'train: {label}')\n",
    "\n",
    "plt.legend()\n",
    "plt.show()"
   ]
  },
  {
   "cell_type": "code",
   "execution_count": 26,
   "metadata": {},
   "outputs": [
    {
     "name": "stdout",
     "output_type": "stream",
     "text": [
      "Our fist test set feature is [5.8 2.8 5.1 2.4]\n",
      "Our first training set feature is [5.1 3.5 1.4 0.2]\n",
      "The Euclidean distance between the features is 4.18\n"
     ]
    }
   ],
   "source": [
    "# Computing Euclidean distances between points\n",
    "from sklearn.metrics.pairwise import euclidean_distances\n",
    "distance_matrix = euclidean_distances(X_test, X_train)\n",
    "\n",
    "f_train, f_test = X_test[0], X[0]\n",
    "distance = distance_matrix[0][0]\n",
    "print(f\"Our fist test set feature is {f_train}\")\n",
    "print(f\"Our first training set feature is {f_test}\")\n",
    "print(f\"The Euclidean distance between the features is {distance:.2f}\")"
   ]
  },
  {
   "cell_type": "markdown",
   "metadata": {},
   "source": [
    "**K-nearest Neighbors (KNN)**:  \n",
    "1. Sort all data points in the training set based on their distance to the unlabeled points   \n",
    "2. Select the top K-nearest neighbors of the point   \n",
    "3. Pick the most frequently occurring class across the K neighboring points"
   ]
  },
  {
   "cell_type": "code",
   "execution_count": 27,
   "metadata": {},
   "outputs": [
    {
     "name": "stdout",
     "output_type": "stream",
     "text": [
      "The 3 nearest neighbors of Point 10 have the following labels:\n",
      "[2 1 2]\n",
      "\n",
      "The most common class label is 2. It occurs 2 times.\n"
     ]
    }
   ],
   "source": [
    "# Labeling a point based on its nearest neighbors\n",
    "from collections import Counter\n",
    "np.random.seed(6)\n",
    "random_index = np.random.randint(y_test.size)\n",
    "labeled_distances = distance_matrix[random_index]\n",
    "labeled_neighbors = np.argsort(labeled_distances)[:3]\n",
    "labels = y_train[labeled_neighbors]\n",
    "\n",
    "top_label, count = Counter(labels).most_common()[0]\n",
    "print(f\"The 3 nearest neighbors of Point {random_index} have the following labels:\\n{labels}\")\n",
    "print(f\"\\nThe most common class label is {top_label}. It occurs {count} times.\")"
   ]
  },
  {
   "cell_type": "code",
   "execution_count": 28,
   "metadata": {},
   "outputs": [
    {
     "name": "stdout",
     "output_type": "stream",
     "text": [
      "The true class of Point 10 is 2.\n"
     ]
    }
   ],
   "source": [
    "# Checking the true class of a predicted label\n",
    "true_label = y_test[random_index]\n",
    "print(f\"The true class of Point {random_index} is {true_label}.\")"
   ]
  },
  {
   "cell_type": "code",
   "execution_count": 29,
   "metadata": {},
   "outputs": [
    {
     "data": {
      "image/png": "[encoded data removed]",
      "text/plain": [
       "<Figure size 640x480 with 1 Axes>"
      ]
     },
     "metadata": {},
     "output_type": "display_data"
    }
   ],
   "source": [
    "# Visualizing nearest neighbors with NetworkX\n",
    "import networkx as nx\n",
    "np.random.seed(0)\n",
    "\n",
    "def generate_neighbor_graph(unlabeled_index, labeled_neighbors):\n",
    "    G = nx.Graph()\n",
    "    nodes = [(i, {'label': y_train[i]}) for i in labeled_neighbors]\n",
    "    nodes.append((unlabeled_index, {'label': 'U'}))\n",
    "    G.add_nodes_from(nodes)\n",
    "    G.add_edges_from([(i, unlabeled_index) for i in labeled_neighbors])\n",
    "    labels = y_train[labeled_neighbors]\n",
    "    label_colors = ['pink', 'khaki', 'cyan']\n",
    "    colors = [label_colors[y_train[i]] for i in labeled_neighbors] + ['k']\n",
    "    labels = {i: G.nodes[i]['label'] for i in G.nodes}\n",
    "    nx.draw_networkx(G, node_color=colors, labels=labels, with_labels=True)\n",
    "    plt.show()\n",
    "    return G\n",
    "\n",
    "G = generate_neighbor_graph(random_index, labeled_neighbors)"
   ]
  },
  {
   "cell_type": "code",
   "execution_count": 30,
   "metadata": {},
   "outputs": [
    {
     "data": {
      "image/png": "[encoded data removed]",
      "text/plain": [
       "<Figure size 640x480 with 1 Axes>"
      ]
     },
     "metadata": {},
     "output_type": "display_data"
    }
   ],
   "source": [
    "# Increasing the number of nearest neighbors\n",
    "np.random.seed(0)\n",
    "labeled_neighbors = np.argsort(labeled_distances)[:4]\n",
    "G = generate_neighbor_graph(random_index, labeled_neighbors)"
   ]
  },
  {
   "cell_type": "code",
   "execution_count": 31,
   "metadata": {},
   "outputs": [
    {
     "name": "stdout",
     "output_type": "stream",
     "text": [
      "A data point with a label of 2 is 0.54 units away. It recieves 1.86 votes.\n",
      "A data point with a label of 1 is 0.74 units away. It recieves 1.35 votes.\n",
      "A data point with a label of 2 is 0.77 units away. It recieves 1.29 votes.\n",
      "A data point with a label of 1 is 0.98 units away. It recieves 1.02 votes.\n",
      "\n",
      "We counted 3.15 votes for class 2.\n",
      "We counted 2.36 votes for class 1.\n",
      "Class 2 has received the plurality of the votes.\n"
     ]
    }
   ],
   "source": [
    "# Weighing votes of neighbors based on distance\n",
    "from collections import defaultdict\n",
    "class_to_votes = defaultdict(int)\n",
    "for node in G.neighbors(random_index):\n",
    "    label = G.nodes[node]['label']\n",
    "    distance = distance_matrix[random_index][node]\n",
    "    num_votes = 1 / distance\n",
    "    print(f\"A data point with a label of {label} is {distance:.2f} units away. It recieves {num_votes:.2f} votes.\")\n",
    "    class_to_votes[label] += num_votes\n",
    "\n",
    "print()\n",
    "for class_label, votes in class_to_votes.items():\n",
    "    print(f\"We counted {votes:.2f} votes for class {class_label}.\")\n",
    "\n",
    "top_class = max(class_to_votes.items(), key=lambda x: x[1])[0]\n",
    "print(f\"Class {top_class} has received the plurality of the votes.\")"
   ]
  },
  {
   "cell_type": "markdown",
   "metadata": {},
   "source": [
    "## 20.2 Measuring Predicted Label Accuracy"
   ]
  },
  {
   "cell_type": "code",
   "execution_count": 32,
   "metadata": {},
   "outputs": [],
   "source": [
    "# Parameterizing KNN predictions\n",
    "# Predicts the label of a point using its row index in the distance matrix based on its K-nearest neighbors.\n",
    "# The weighted_voting Boolean determines whether voting is weighted by neighbor distance.\n",
    "def predict(index, K=1, weighted_voted=False):\n",
    "    labeled_distances = distance_matrix[index]\n",
    "    labeled_neighbors = np.argsort(labeled_distances)[:K]\n",
    "    class_to_votes = defaultdict(int)\n",
    "    for neighbor in labeled_neighbors:\n",
    "        label = y_train[neighbor]\n",
    "        distance = distance_matrix[index][neighbor]\n",
    "        num_votes = 1 / max(distance, 1e-10) if weighted_voted else 1\n",
    "        class_to_votes[label] += num_votes\n",
    "\n",
    "    return max(class_to_votes, key=lambda x: class_to_votes[x])\n",
    "\n",
    "assert predict(random_index, K=3) == 2\n",
    "assert predict(random_index, K=4, weighted_voted=True) == 2"
   ]
  },
  {
   "cell_type": "code",
   "execution_count": 33,
   "metadata": {},
   "outputs": [],
   "source": [
    "# Predicting all unlabeled flower classes\n",
    "y_pred = np.array([predict(i) for i in range(y_test.size)])"
   ]
  },
  {
   "cell_type": "code",
   "execution_count": 34,
   "metadata": {},
   "outputs": [
    {
     "name": "stdout",
     "output_type": "stream",
     "text": [
      "Predicted Classes:\n",
      "[2 1 0 2 0 2 0 1 1 1 2 1 1 1 2 0 2 1 0 0 2 1 0 0 2 0 0 1 1 0 2 1 0 2 2 1 0\n",
      " 2 1 1 2 0 2 0 0 1 2 2 1 2 1 2 1 1 1 1 1 1 1 2 1 0 2 1 1 1 2 2 0 0 2 1 0 0\n",
      " 1 0 2 1 0 1 2 1 0 2 2 2 2 0 0 2 2 0 2 0 2 2 0 0 2 0 0 0 1 2 2 0 0 0 1 1 0\n",
      " 0 1]\n",
      "\n",
      "Actual Classes:\n",
      "[2 1 0 2 0 2 0 1 1 1 2 1 1 1 1 0 1 1 0 0 2 1 0 0 2 0 0 1 1 0 2 1 0 2 2 1 0\n",
      " 1 1 1 2 0 2 0 0 1 2 2 2 2 1 2 1 1 2 2 2 2 1 2 1 0 2 1 1 1 1 2 0 0 2 1 0 0\n",
      " 1 0 2 1 0 1 2 1 0 2 2 2 2 0 0 2 2 0 2 0 2 2 0 0 2 0 0 0 1 2 2 0 0 0 1 1 0\n",
      " 0 1]\n"
     ]
    }
   ],
   "source": [
    "# Comparing the predicted and actual classes\n",
    "print(f\"Predicted Classes:\\n{y_pred}\")\n",
    "print(f\"\\nActual Classes:\\n{y_test}\")"
   ]
  },
  {
   "cell_type": "markdown",
   "metadata": {},
   "source": [
    "**Confusion/Error Matrix**: Each element M[i][j] counts the co-occurences between predicted Class i and actual Class j"
   ]
  },
  {
   "cell_type": "code",
   "execution_count": 35,
   "metadata": {},
   "outputs": [
    {
     "data": {
      "image/png": "[encoded data removed]",
      "text/plain": [
       "<Figure size 640x480 with 2 Axes>"
      ]
     },
     "metadata": {},
     "output_type": "display_data"
    }
   ],
   "source": [
    "# Computing the confusion matrix\n",
    "import seaborn as sns\n",
    "\n",
    "# Computes the confusion matrix between y_pred and y_test\n",
    "def compute_confusion_matrix(y_pred, y_test):\n",
    "    num_classes = len(set(y_pred) | set(y_test))\n",
    "    confusion_matrix = np.zeros((num_classes, num_classes))\n",
    "    for prediction, actual in zip(y_pred, y_test):\n",
    "        confusion_matrix[prediction][actual] += 1\n",
    "\n",
    "    return confusion_matrix\n",
    "\n",
    "M = compute_confusion_matrix(y_pred, y_test)\n",
    "sns.heatmap(M, annot=True, cmap='YlGnBu', yticklabels=[f\"Predict {i}\" for i in range(3)], xticklabels=[f\"Actual {i}\" for i in range(3)])\n",
    "plt.yticks(rotation=0)\n",
    "plt.show()\n",
    "# Each diagonal element counts the number of accurate precictions, also called true positives"
   ]
  },
  {
   "cell_type": "code",
   "execution_count": 36,
   "metadata": {},
   "outputs": [
    {
     "name": "stdout",
     "output_type": "stream",
     "text": [
      "Our results contain 104 accurate predictions.\n"
     ]
    }
   ],
   "source": [
    "# Counting the number of accurate predictions\n",
    "num_accurate_predictions = M.diagonal().sum()\n",
    "print(f\"Our results contain {int(num_accurate_predictions)} accurate predictions.\")"
   ]
  },
  {
   "cell_type": "markdown",
   "metadata": {},
   "source": [
    "**Accuracy Score**: The fraction of total accurate predictions; Equal to M.diagonal().sum() / M.sum()"
   ]
  },
  {
   "cell_type": "code",
   "execution_count": 37,
   "metadata": {},
   "outputs": [
    {
     "name": "stdout",
     "output_type": "stream",
     "text": [
      "Our predictions are 92% accurate.\n"
     ]
    }
   ],
   "source": [
    "# Measuring the accuracy score\n",
    "accuracy = M.diagonal().sum() / M.sum()\n",
    "assert accuracy == 104 / 113\n",
    "print(f\"Our predictions are {100 * accuracy:.0f}% accurate.\")"
   ]
  },
  {
   "cell_type": "code",
   "execution_count": 38,
   "metadata": {},
   "outputs": [
    {
     "name": "stdout",
     "output_type": "stream",
     "text": [
      "We've predicted that 38 elements belong to Class 1.\n"
     ]
    }
   ],
   "source": [
    "# Counting the predicted Class 1 elements\n",
    "row1_sum = M[1].sum()\n",
    "print(f\"We've predicted that {int(row1_sum)} elements belong to Class 1.\")"
   ]
  },
  {
   "cell_type": "markdown",
   "metadata": {},
   "source": [
    "**Precision**: The true positive count divided by the sum of true positives and false positives; Equal to M[i][i] / M[i].sum()"
   ]
  },
  {
   "cell_type": "code",
   "execution_count": 39,
   "metadata": {},
   "outputs": [
    {
     "name": "stdout",
     "output_type": "stream",
     "text": [
      "Precision of Class 1 is 0.87\n"
     ]
    }
   ],
   "source": [
    "# Computing the precision of Class 1\n",
    "precision = M[1][1] / M[1].sum()\n",
    "assert precision == 33 / 38\n",
    "print(f\"Precision of Class 1 is {precision:.2f}\")"
   ]
  },
  {
   "cell_type": "markdown",
   "metadata": {},
   "source": [
    "**False Negative**: Elements that have been misidentified as belonging to a certain class  \n",
    "**Recall**: The true postitive count divided by the sum of true postiives and false negatives; equal to M[i][i] / M[:,i].sum()"
   ]
  },
  {
   "cell_type": "code",
   "execution_count": 40,
   "metadata": {},
   "outputs": [
    {
     "name": "stdout",
     "output_type": "stream",
     "text": [
      "Recall of Class 1 is 0.89\n"
     ]
    }
   ],
   "source": [
    "# Computing the recall of Class 1\n",
    "recall = M[1][1] / M[:,1].sum()\n",
    "assert recall == 33 / 37\n",
    "print(f\"Recall of Class 1 is {recall:.2f}\")"
   ]
  },
  {
   "cell_type": "code",
   "execution_count": 42,
   "metadata": {},
   "outputs": [
    {
     "name": "stdout",
     "output_type": "stream",
     "text": [
      "Precision at a trivially maximized recall is 0.29\n"
     ]
    }
   ],
   "source": [
    "# hecking precision at a recall of 1.0\n",
    "low_precision = M[1][1] / M.sum()\n",
    "print(f\"Precision at a trivially maximized recall is {low_precision:.2f}\")"
   ]
  },
  {
   "cell_type": "code",
   "execution_count": 43,
   "metadata": {},
   "outputs": [
    {
     "name": "stdout",
     "output_type": "stream",
     "text": [
      "The average of the inverted metrics is 1.14\n"
     ]
    }
   ],
   "source": [
    "# Taking the mean of the inverted metrics\n",
    "inverse_average = (1 / precision + 1 / recall) / 2\n",
    "print(f\"The average of the inverted metrics is {inverse_average:.2f}\")"
   ]
  },
  {
   "cell_type": "code",
   "execution_count": 44,
   "metadata": {},
   "outputs": [
    {
     "name": "stdout",
     "output_type": "stream",
     "text": [
      "The inverse of the average is 0.88\n"
     ]
    }
   ],
   "source": [
    "# Taking the inverse of the inverted mean\n",
    "result = 1 / inverse_average\n",
    "print(f\"The inverse of the average is {result:.2f}\")"
   ]
  },
  {
   "cell_type": "markdown",
   "metadata": {},
   "source": [
    "**F-Measure**: The aggregated metric of precision and recall; can be computed by running 2 * precision * recall / (precision + recall)"
   ]
  },
  {
   "cell_type": "code",
   "execution_count": 45,
   "metadata": {},
   "outputs": [
    {
     "name": "stdout",
     "output_type": "stream",
     "text": [
      "The f-measure of Class 1 is 0.88\n"
     ]
    }
   ],
   "source": [
    "# Computing the f-measure of Class 1\n",
    "f_measure = 2 * precision * recall / (precision + recall)\n",
    "print(f\"The f-measure of Class 1 is {f_measure:.2f}\")"
   ]
  },
  {
   "cell_type": "code",
   "execution_count": 46,
   "metadata": {},
   "outputs": [
    {
     "name": "stdout",
     "output_type": "stream",
     "text": [
      "Precision: 0.5\n",
      "Recall: 1.0\n",
      "Average: 0.75\n",
      "F-measure: 0.67\n"
     ]
    }
   ],
   "source": [
    "# Test case: One true positive, one false positive, zero false negatives; What are precision, recall, and f-measure?\n",
    "# Comparing the f-measure to the average\n",
    "tp, fp, fn = 1, 1, 0\n",
    "precision = tp / (tp + fp)\n",
    "recall = tp / (tp + fn)\n",
    "f_measure = 2 * precision * recall / (precision + recall)\n",
    "average = (precision + recall) / 2\n",
    "print(f\"Precision: {precision}\")\n",
    "print(f\"Recall: {recall}\")\n",
    "print(f\"Average: {average}\")\n",
    "print(f\"F-measure: {f_measure:.2f}\")"
   ]
  },
  {
   "cell_type": "code",
   "execution_count": 47,
   "metadata": {},
   "outputs": [
    {
     "name": "stdout",
     "output_type": "stream",
     "text": [
      "The f-measure for Class 0 is 1.00\n",
      "The f-measure for Class 1 is 0.88\n",
      "The f-measure for Class 2 is 0.88\n"
     ]
    }
   ],
   "source": [
    "# Computing the f-measure for each class\n",
    "def compute_f_measure(M):\n",
    "    precisions = M.diagonal() / M.sum(axis=0)\n",
    "    recalls = M.diagonal() / M.sum(axis=1)\n",
    "    return 2 * precisions * recalls / (precisions + recalls)\n",
    "\n",
    "f_measures = compute_f_measure(M)\n",
    "for class_label, f_measure in enumerate(f_measures):\n",
    "    print(f\"The f-measure for Class {class_label} is {f_measure:.2f}\")"
   ]
  },
  {
   "cell_type": "code",
   "execution_count": 48,
   "metadata": {},
   "outputs": [
    {
     "name": "stdout",
     "output_type": "stream",
     "text": [
      "Our unified f-measure equals 0.92\n"
     ]
    }
   ],
   "source": [
    "# Computing a unified f-measure for all classes\n",
    "avg_f = f_measures.mean()\n",
    "print(f\"Our unified f-measure equals {avg_f:.2f}\")"
   ]
  },
  {
   "cell_type": "markdown",
   "metadata": {},
   "source": [
    "**Imbalance In Data**: There are far more instances of some Class A than some Class B"
   ]
  },
  {
   "cell_type": "code",
   "execution_count": 50,
   "metadata": {},
   "outputs": [
    {
     "name": "stdout",
     "output_type": "stream",
     "text": [
      "The accuracy for our imbalanced dataset is 0.99\n",
      "The f-measure for our imbalanced dataset is 0.83\n"
     ]
    }
   ],
   "source": [
    "# Comparing performance metrics across imbalanced data\n",
    "M_imbalanced = np.array([[99, 0], [1, 1]])\n",
    "accuracy_imb = M_imbalanced.diagonal().sum() / M_imbalanced.sum()\n",
    "f_measure_imb = compute_f_measure(M_imbalanced).mean()\n",
    "print(f\"The accuracy for our imbalanced dataset is {accuracy_imb:.2f}\")\n",
    "print(f\"The f-measure for our imbalanced dataset is {f_measure_imb:.2f}\")\n",
    "# Notice that f_measure is a better metric to show precision as well as accuracy, rather than just accuracy"
   ]
  },
  {
   "cell_type": "markdown",
   "metadata": {},
   "source": [
    "### 20.2.1 Scikit-learn's Prediction Measurement Functions"
   ]
  },
  {
   "cell_type": "code",
   "execution_count": 51,
   "metadata": {},
   "outputs": [
    {
     "name": "stdout",
     "output_type": "stream",
     "text": [
      "[[38  0  0]\n",
      " [ 0 33  5]\n",
      " [ 0  4 33]]\n"
     ]
    }
   ],
   "source": [
    "# Computing the confusion matrix using scikit-learn\n",
    "from sklearn.metrics import confusion_matrix\n",
    "new_M = confusion_matrix(y_pred, y_test)\n",
    "assert np.array_equal(new_M, M)\n",
    "print(new_M)"
   ]
  },
  {
   "cell_type": "code",
   "execution_count": 52,
   "metadata": {},
   "outputs": [],
   "source": [
    "# Computing the accuracy using scikit-learn\n",
    "from sklearn.metrics import accuracy_score\n",
    "assert accuracy_score(y_pred, y_test) == accuracy"
   ]
  },
  {
   "cell_type": "code",
   "execution_count": 53,
   "metadata": {},
   "outputs": [
    {
     "name": "stdout",
     "output_type": "stream",
     "text": [
      "[1.   0.88 0.88]\n"
     ]
    }
   ],
   "source": [
    "# Computing all f-measures using scikit-learn\n",
    "from sklearn.metrics import f1_score\n",
    "new_f_measures = f1_score(y_pred, y_test, average=None)\n",
    "assert np.array_equal(new_f_measures, f_measures)\n",
    "print(new_f_measures)"
   ]
  },
  {
   "cell_type": "code",
   "execution_count": 55,
   "metadata": {},
   "outputs": [],
   "source": [
    "# Comparing a unified f-measure using scikit-learn\n",
    "new_f_measure = f1_score(y_pred, y_test, average='macro')\n",
    "assert new_f_measure == new_f_measures.mean()\n",
    "assert new_f_measure == avg_f"
   ]
  },
  {
   "cell_type": "markdown",
   "metadata": {},
   "source": [
    "## 20.3 Optimizing KNN Performance"
   ]
  },
  {
   "cell_type": "markdown",
   "metadata": {},
   "source": [
    "**Hyperparameters:** Parameters that must be set before training and influence the classifier's performance"
   ]
  },
  {
   "cell_type": "code",
   "execution_count": 56,
   "metadata": {},
   "outputs": [
    {
     "data": {
      "image/png": "[encoded data removed]",
      "text/plain": [
       "<Figure size 640x480 with 1 Axes>"
      ]
     },
     "metadata": {},
     "output_type": "display_data"
    }
   ],
   "source": [
    "# Optimizing KNN hyperparameters\n",
    "k_values = range(1, y_train.size)\n",
    "weighted_voting_bools = [True, False]\n",
    "f_scores = [[], []]\n",
    "\n",
    "params_to_f = {}\n",
    "for k in k_values:\n",
    "    for i, weighted_voting in enumerate(weighted_voting_bools):\n",
    "        y_pred = np.array([predict(i, K=k, weighted_voted=weighted_voting) for i in range(y_test.size)])\n",
    "        f_measure = f1_score(y_pred, y_test, average='macro')\n",
    "        f_scores[i].append(f_measure)\n",
    "        params_to_f[(k, weighted_voting)] = f_measure\n",
    "\n",
    "(best_k, best_weighted), best_f = max(params_to_f.items(), key=lambda x: x[1])\n",
    "plt.plot(k_values, f_scores[0], label='Weighted Voting')\n",
    "plt.plot(k_values, f_scores[1], label='Unweighted Voting')\n",
    "plt.axvline(best_k, c='k')\n",
    "plt.xlabel('K')\n",
    "plt.ylabel('F-measure')\n",
    "plt.legend()\n",
    "plt.show()"
   ]
  },
  {
   "cell_type": "markdown",
   "metadata": {},
   "source": [
    "**Parameter Sweep / Grid Search**: Exhaustively iterating over all the possible input parameters; simple to execute, but can be computationally slow with more parameters; however, can be parallelize  \n",
    "Steps for Grid Search:  \n",
    "1. Select our  hyper parameters  \n",
    "2. Assign a range of values to each hyperparameter  \n",
    "3. Split our input data into a training set and a validation set. The validation set is used to measure the prediction quality  \n",
    "4. Iterate over all possible hyperparameter combinations  \n",
    "5. At each iteration, train a classifier on the training data using the specified hyperparameters  \n",
    "6. Measure the classifier's performance using the validation set  \n",
    "7. Once all iterations are completed, return the hyperparameter combination with the highest metric output"
   ]
  },
  {
   "cell_type": "markdown",
   "metadata": {},
   "source": [
    "## 20.4 Running a Grid Search Using Scikit-Learn"
   ]
  },
  {
   "cell_type": "code",
   "execution_count": 57,
   "metadata": {},
   "outputs": [],
   "source": [
    "# Importing scikit-learn's KNN class\n",
    "from sklearn.neighbors import KNeighborsClassifier"
   ]
  },
  {
   "cell_type": "code",
   "execution_count": null,
   "metadata": {},
   "outputs": [],
   "source": []
  }
 ],
 "metadata": {
  "kernelspec": {
   "display_name": "base",
   "language": "python",
   "name": "python3"
  },
  "language_info": {
   "codemirror_mode": {
    "name": "ipython",
    "version": 3
   },
   "file_extension": ".py",
   "mimetype": "text/x-python",
   "name": "python",
   "nbconvert_exporter": "python",
   "pygments_lexer": "ipython3",
   "version": "3.9.16"
  },
  "orig_nbformat": 4
 },
 "nbformat": 4,
 "nbformat_minor": 2
}
