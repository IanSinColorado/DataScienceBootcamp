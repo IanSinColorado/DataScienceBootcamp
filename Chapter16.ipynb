{
 "cells": [
  {
   "cell_type": "markdown",
   "metadata": {},
   "source": [
    "# Chapter 16: Extracting text from web pages"
   ]
  },
  {
   "cell_type": "markdown",
   "metadata": {},
   "source": [
    "## 16.1 The Structure of HTML Documents"
   ]
  },
  {
   "cell_type": "code",
   "execution_count": 51,
   "metadata": {},
   "outputs": [],
   "source": [
    "# Defining a simple HTML string\n",
    "html_contents = \"<html>Hello</hello>\""
   ]
  },
  {
   "cell_type": "code",
   "execution_count": 52,
   "metadata": {},
   "outputs": [
    {
     "data": {
      "text/html": [
       "<html>Hello</hello>"
      ],
      "text/plain": [
       "<IPython.core.display.HTML object>"
      ]
     },
     "metadata": {},
     "output_type": "display_data"
    }
   ],
   "source": [
    "# Rendering an HTML string\n",
    "from IPython.display import display, HTML\n",
    "def render(html_contents): display(HTML(html_contents))\n",
    "render(html_contents)"
   ]
  },
  {
   "cell_type": "code",
   "execution_count": 53,
   "metadata": {},
   "outputs": [],
   "source": [
    "# Defining a title in HTML\n",
    "title = \"<title>Data Science is Fun</title>\""
   ]
  },
  {
   "cell_type": "code",
   "execution_count": 54,
   "metadata": {},
   "outputs": [
    {
     "data": {
      "text/html": [
       "<html><title>Data Science is Fun</title>Hello</html>"
      ],
      "text/plain": [
       "<IPython.core.display.HTML object>"
      ]
     },
     "metadata": {},
     "output_type": "display_data"
    }
   ],
   "source": [
    "# Adding a title to the HTML string\n",
    "html_contents = f\"<html>{title}Hello</html>\"\n",
    "render(html_contents)"
   ]
  },
  {
   "cell_type": "code",
   "execution_count": 55,
   "metadata": {},
   "outputs": [],
   "source": [
    "# Adding a head and body to the HTML string\n",
    "head = f\"<head>{title}</head>\"\n",
    "body = \"<body>Hello</body>\"\n",
    "html_contents = f\"<html>{title} {body}</html>\""
   ]
  },
  {
   "cell_type": "code",
   "execution_count": 56,
   "metadata": {},
   "outputs": [
    {
     "data": {
      "text/html": [
       "<html><title>Data Science is Fun</title> <body><h1>Data Science is Fun</h1>Hello</body></html>"
      ],
      "text/plain": [
       "<IPython.core.display.HTML object>"
      ]
     },
     "metadata": {},
     "output_type": "display_data"
    }
   ],
   "source": [
    "# Adding a header to the HTML string\n",
    "header = \"<h1>Data Science is Fun</h1>\"\n",
    "body = f\"<body>{header}Hello</body>\"\n",
    "html_contents = f\"<html>{title} {body}</html>\"\n",
    "render(html_contents)"
   ]
  },
  {
   "cell_type": "code",
   "execution_count": 57,
   "metadata": {},
   "outputs": [
    {
     "data": {
      "text/html": [
       "<html><title>Data Science is Fun</title> <body><h1>Data Science is Fun</h1><p>Paragraph 0 Paragraph 0 Paragraph 0 Paragraph 0 Paragraph 0 Paragraph 0 Paragraph 0 Paragraph 0 Paragraph 0 Paragraph 0 Paragraph 0 Paragraph 0 Paragraph 0 Paragraph 0 Paragraph 0 Paragraph 0 Paragraph 0 Paragraph 0 Paragraph 0 Paragraph 0 Paragraph 0 Paragraph 0 Paragraph 0 Paragraph 0 Paragraph 0 Paragraph 0 Paragraph 0 Paragraph 0 Paragraph 0 Paragraph 0 Paragraph 0 Paragraph 0 Paragraph 0 Paragraph 0 Paragraph 0 Paragraph 0 Paragraph 0 Paragraph 0 Paragraph 0 Paragraph 0 </p><p>Paragraph 1 Paragraph 1 Paragraph 1 Paragraph 1 Paragraph 1 Paragraph 1 Paragraph 1 Paragraph 1 Paragraph 1 Paragraph 1 Paragraph 1 Paragraph 1 Paragraph 1 Paragraph 1 Paragraph 1 Paragraph 1 Paragraph 1 Paragraph 1 Paragraph 1 Paragraph 1 Paragraph 1 Paragraph 1 Paragraph 1 Paragraph 1 Paragraph 1 Paragraph 1 Paragraph 1 Paragraph 1 Paragraph 1 Paragraph 1 Paragraph 1 Paragraph 1 Paragraph 1 Paragraph 1 Paragraph 1 Paragraph 1 Paragraph 1 Paragraph 1 Paragraph 1 Paragraph 1 </p></body></html>"
      ],
      "text/plain": [
       "<IPython.core.display.HTML object>"
      ]
     },
     "metadata": {},
     "output_type": "display_data"
    }
   ],
   "source": [
    "# Adding paragraphs to the HTML string\n",
    "paragraphs = ''\n",
    "for i in range(2):\n",
    "    paragraph_string = f\"Paragraph {i} \" * 40\n",
    "    paragraphs += f\"<p>{paragraph_string}</p>\"\n",
    "\n",
    "body = f\"<body>{header}{paragraphs}</body>\"\n",
    "html_contents = f\"<html>{title} {body}</html>\"\n",
    "render(html_contents)"
   ]
  },
  {
   "cell_type": "code",
   "execution_count": 58,
   "metadata": {},
   "outputs": [
    {
     "data": {
      "text/html": [
       "<html><title>Data Science is Fun</title> <body><h1>Data Science is Fun</h1><p id='paragraph 0'>Paragraph 0 Paragraph 0 Paragraph 0 Paragraph 0 Paragraph 0 Paragraph 0 Paragraph 0 Paragraph 0 Paragraph 0 Paragraph 0 Paragraph 0 Paragraph 0 Paragraph 0 Paragraph 0 Paragraph 0 Paragraph 0 Paragraph 0 Paragraph 0 Paragraph 0 Paragraph 0 Paragraph 0 Paragraph 0 Paragraph 0 Paragraph 0 Paragraph 0 Paragraph 0 Paragraph 0 Paragraph 0 Paragraph 0 Paragraph 0 Paragraph 0 Paragraph 0 Paragraph 0 Paragraph 0 Paragraph 0 Paragraph 0 Paragraph 0 Paragraph 0 Paragraph 0 Paragraph 0 </p><p id='paragraph 1'>Paragraph 1 Paragraph 1 Paragraph 1 Paragraph 1 Paragraph 1 Paragraph 1 Paragraph 1 Paragraph 1 Paragraph 1 Paragraph 1 Paragraph 1 Paragraph 1 Paragraph 1 Paragraph 1 Paragraph 1 Paragraph 1 Paragraph 1 Paragraph 1 Paragraph 1 Paragraph 1 Paragraph 1 Paragraph 1 Paragraph 1 Paragraph 1 Paragraph 1 Paragraph 1 Paragraph 1 Paragraph 1 Paragraph 1 Paragraph 1 Paragraph 1 Paragraph 1 Paragraph 1 Paragraph 1 Paragraph 1 Paragraph 1 Paragraph 1 Paragraph 1 Paragraph 1 Paragraph 1 </p></body></html>"
      ],
      "text/plain": [
       "<IPython.core.display.HTML object>"
      ]
     },
     "metadata": {},
     "output_type": "display_data"
    }
   ],
   "source": [
    "# Adding id attributes to teh paragraphs\n",
    "paragraphs = ''\n",
    "for i in range(2):\n",
    "    paragraph_string = f\"Paragraph {i} \" * 40\n",
    "    attribute = f\"id='paragraph {i}'\"\n",
    "    paragraphs += f\"<p {attribute}>{paragraph_string}</p>\"\n",
    "\n",
    "body = f\"<body>{header}{paragraphs}</body>\"\n",
    "html_contents = f\"<html>{title} {body}</html>\"\n",
    "render(html_contents)"
   ]
  },
  {
   "cell_type": "code",
   "execution_count": 59,
   "metadata": {},
   "outputs": [
    {
     "data": {
      "text/html": [
       "<html><title>Data Science is Fun</title> <body><h1>Data Science is Fun</h1><p id='paragraph 0'>Paragraph 0 Paragraph 0 Paragraph 0 Paragraph 0 Paragraph 0 Paragraph 0 Paragraph 0 Paragraph 0 Paragraph 0 Paragraph 0 Paragraph 0 Paragraph 0 Paragraph 0 Paragraph 0 Paragraph 0 Paragraph 0 Paragraph 0 Paragraph 0 Paragraph 0 Paragraph 0 Paragraph 0 Paragraph 0 Paragraph 0 Paragraph 0 Paragraph 0 Paragraph 0 Paragraph 0 Paragraph 0 Paragraph 0 Paragraph 0 Paragraph 0 Paragraph 0 Paragraph 0 Paragraph 0 Paragraph 0 Paragraph 0 Paragraph 0 Paragraph 0 Paragraph 0 Paragraph 0 </p><p id='paragraph 1'>Paragraph 1 Paragraph 1 Paragraph 1 Paragraph 1 Paragraph 1 Paragraph 1 Paragraph 1 Paragraph 1 Paragraph 1 Paragraph 1 Paragraph 1 Paragraph 1 Paragraph 1 Paragraph 1 Paragraph 1 Paragraph 1 Paragraph 1 Paragraph 1 Paragraph 1 Paragraph 1 Paragraph 1 Paragraph 1 Paragraph 1 Paragraph 1 Paragraph 1 Paragraph 1 Paragraph 1 Paragraph 1 Paragraph 1 Paragraph 1 Paragraph 1 Paragraph 1 Paragraph 1 Paragraph 1 Paragraph 1 Paragraph 1 Paragraph 1 Paragraph 1 Paragraph 1 Paragraph 1 </p><p id='paragraph 2'>Here is a link to <a href='https://www.manning.com/books/data-science-bookcamp'>Data Science Bootcamp</a></p></body></html>"
      ],
      "text/plain": [
       "<IPython.core.display.HTML object>"
      ]
     },
     "metadata": {},
     "output_type": "display_data"
    }
   ],
   "source": [
    "# Adding a hyperlink to the HTML string\n",
    "link_text = \"Data Science Bootcamp\"\n",
    "url = \"https://www.manning.com/books/data-science-bookcamp\"\n",
    "hyperlink = f\"<a href='{url}'>{link_text}</a>\"\n",
    "new_paragraph = f\"<p id='paragraph 2'>Here is a link to {hyperlink}</p>\"\n",
    "paragraphs += new_paragraph\n",
    "body = f\"<body>{header}{paragraphs}</body>\"\n",
    "html_contents = f\"<html>{title} {body}</html>\"\n",
    "render(html_contents)"
   ]
  },
  {
   "cell_type": "code",
   "execution_count": 60,
   "metadata": {},
   "outputs": [],
   "source": [
    "# Defining a list of data science libraries\n",
    "libraries = ['NumPy', 'SciPy', 'Pandas', 'Scikit-Learn']"
   ]
  },
  {
   "cell_type": "code",
   "execution_count": 61,
   "metadata": {},
   "outputs": [],
   "source": [
    "# Demarcating list items with an <li> tag\n",
    "items = ''\n",
    "for library in libraries:\n",
    "    items += f\"<li>{library}</li>\""
   ]
  },
  {
   "cell_type": "code",
   "execution_count": 62,
   "metadata": {},
   "outputs": [
    {
     "data": {
      "text/html": [
       "<html><title>Data Science is Fun</title> <body><h1>Data Science is Fun</h1><p id='paragraph 0'>Paragraph 0 Paragraph 0 Paragraph 0 Paragraph 0 Paragraph 0 Paragraph 0 Paragraph 0 Paragraph 0 Paragraph 0 Paragraph 0 Paragraph 0 Paragraph 0 Paragraph 0 Paragraph 0 Paragraph 0 Paragraph 0 Paragraph 0 Paragraph 0 Paragraph 0 Paragraph 0 Paragraph 0 Paragraph 0 Paragraph 0 Paragraph 0 Paragraph 0 Paragraph 0 Paragraph 0 Paragraph 0 Paragraph 0 Paragraph 0 Paragraph 0 Paragraph 0 Paragraph 0 Paragraph 0 Paragraph 0 Paragraph 0 Paragraph 0 Paragraph 0 Paragraph 0 Paragraph 0 </p><p id='paragraph 1'>Paragraph 1 Paragraph 1 Paragraph 1 Paragraph 1 Paragraph 1 Paragraph 1 Paragraph 1 Paragraph 1 Paragraph 1 Paragraph 1 Paragraph 1 Paragraph 1 Paragraph 1 Paragraph 1 Paragraph 1 Paragraph 1 Paragraph 1 Paragraph 1 Paragraph 1 Paragraph 1 Paragraph 1 Paragraph 1 Paragraph 1 Paragraph 1 Paragraph 1 Paragraph 1 Paragraph 1 Paragraph 1 Paragraph 1 Paragraph 1 Paragraph 1 Paragraph 1 Paragraph 1 Paragraph 1 Paragraph 1 Paragraph 1 Paragraph 1 Paragraph 1 Paragraph 1 Paragraph 1 </p><p id='paragraph 2'>Here is a link to <a href='https://www.manning.com/books/data-science-bookcamp'>Data Science Bootcamp</a></p><h2>Common Data Science Libraries</h2><ul><li>NumPy</li><li>SciPy</li><li>Pandas</li><li>Scikit-Learn</li></ul></body></html>"
      ],
      "text/plain": [
       "<IPython.core.display.HTML object>"
      ]
     },
     "metadata": {},
     "output_type": "display_data"
    }
   ],
   "source": [
    "# Adding an unstructured list to the HTML string\n",
    "unstructured_list = f\"<ul>{items}</ul>\"\n",
    "header2 = '<h2>Common Data Science Libraries</h2>'\n",
    "body = f\"<body>{header}{paragraphs}{header2}{unstructured_list}</body>\"\n",
    "html_contents = f\"<html>{title} {body}</html>\"\n",
    "render(html_contents)"
   ]
  },
  {
   "cell_type": "code",
   "execution_count": 63,
   "metadata": {},
   "outputs": [
    {
     "data": {
      "text/html": [
       "<html><title>Data Science is Fun</title> <body><h1>Data Science is Fun</h1><div id='paragraphs' class='text'><p id='paragraph 0'>Paragraph 0 Paragraph 0 Paragraph 0 Paragraph 0 Paragraph 0 Paragraph 0 Paragraph 0 Paragraph 0 Paragraph 0 Paragraph 0 Paragraph 0 Paragraph 0 Paragraph 0 Paragraph 0 Paragraph 0 Paragraph 0 Paragraph 0 Paragraph 0 Paragraph 0 Paragraph 0 Paragraph 0 Paragraph 0 Paragraph 0 Paragraph 0 Paragraph 0 Paragraph 0 Paragraph 0 Paragraph 0 Paragraph 0 Paragraph 0 Paragraph 0 Paragraph 0 Paragraph 0 Paragraph 0 Paragraph 0 Paragraph 0 Paragraph 0 Paragraph 0 Paragraph 0 Paragraph 0 </p><p id='paragraph 1'>Paragraph 1 Paragraph 1 Paragraph 1 Paragraph 1 Paragraph 1 Paragraph 1 Paragraph 1 Paragraph 1 Paragraph 1 Paragraph 1 Paragraph 1 Paragraph 1 Paragraph 1 Paragraph 1 Paragraph 1 Paragraph 1 Paragraph 1 Paragraph 1 Paragraph 1 Paragraph 1 Paragraph 1 Paragraph 1 Paragraph 1 Paragraph 1 Paragraph 1 Paragraph 1 Paragraph 1 Paragraph 1 Paragraph 1 Paragraph 1 Paragraph 1 Paragraph 1 Paragraph 1 Paragraph 1 Paragraph 1 Paragraph 1 Paragraph 1 Paragraph 1 Paragraph 1 Paragraph 1 </p><p id='paragraph 2'>Here is a link to <a href='https://www.manning.com/books/data-science-bookcamp'>Data Science Bootcamp</a></p></div><div id='list' class='text'><h2>Common Data Science Libraries</h2><ul><li>NumPy</li><li>SciPy</li><li>Pandas</li><li>Scikit-Learn</li></ul></div><div id='empty' class='empty'></div></body></html>"
      ],
      "text/plain": [
       "<IPython.core.display.HTML object>"
      ]
     },
     "metadata": {},
     "output_type": "display_data"
    }
   ],
   "source": [
    "# Adding divisions to the HTML string\n",
    "div1 = f\"<div id='paragraphs' class='text'>{paragraphs}</div>\"\n",
    "div2 = f\"<div id='list' class='text'>{header2}{unstructured_list}</div>\"\n",
    "div3 = f\"<div id='empty' class='empty'></div>\"\n",
    "body = f\"<body>{header}{div1}{div2}{div3}</body>\"\n",
    "html_contents = f\"<html>{title} {body}</html>\"\n",
    "render(html_contents)"
   ]
  },
  {
   "cell_type": "code",
   "execution_count": 64,
   "metadata": {},
   "outputs": [
    {
     "name": "stdout",
     "output_type": "stream",
     "text": [
      "<html><title>Data Science is Fun</title> <body><h1>Data Science is Fun</h1><div id='paragraphs' class='text'><p id='paragraph 0'>Paragraph 0 Paragraph 0 Paragraph 0 Paragraph 0 Paragraph 0 Paragraph 0 Paragraph 0 Paragraph 0 Paragraph 0 Paragraph 0 Paragraph 0 Paragraph 0 Paragraph 0 Paragraph 0 Paragraph 0 Paragraph 0 Paragraph 0 Paragraph 0 Paragraph 0 Paragraph 0 Paragraph 0 Paragraph 0 Paragraph 0 Paragraph 0 Paragraph 0 Paragraph 0 Paragraph 0 Paragraph 0 Paragraph 0 Paragraph 0 Paragraph 0 Paragraph 0 Paragraph 0 Paragraph 0 Paragraph 0 Paragraph 0 Paragraph 0 Paragraph 0 Paragraph 0 Paragraph 0 </p><p id='paragraph 1'>Paragraph 1 Paragraph 1 Paragraph 1 Paragraph 1 Paragraph 1 Paragraph 1 Paragraph 1 Paragraph 1 Paragraph 1 Paragraph 1 Paragraph 1 Paragraph 1 Paragraph 1 Paragraph 1 Paragraph 1 Paragraph 1 Paragraph 1 Paragraph 1 Paragraph 1 Paragraph 1 Paragraph 1 Paragraph 1 Paragraph 1 Paragraph 1 Paragraph 1 Paragraph 1 Paragraph 1 Paragraph 1 Paragraph 1 Paragraph 1 Paragraph 1 Paragraph 1 Paragraph 1 Paragraph 1 Paragraph 1 Paragraph 1 Paragraph 1 Paragraph 1 Paragraph 1 Paragraph 1 </p><p id='paragraph 2'>Here is a link to <a href='https://www.manning.com/books/data-science-bookcamp'>Data Science Bootcamp</a></p></div><div id='list' class='text'><h2>Common Data Science Libraries</h2><ul><li>NumPy</li><li>SciPy</li><li>Pandas</li><li>Scikit-Learn</li></ul></div><div id='empty' class='empty'></div></body></html>\n"
     ]
    }
   ],
   "source": [
    "# Printing the altered HTML string\n",
    "print(html_contents)"
   ]
  },
  {
   "cell_type": "code",
   "execution_count": 65,
   "metadata": {},
   "outputs": [
    {
     "name": "stdout",
     "output_type": "stream",
     "text": [
      "Data Science is Fun\n"
     ]
    }
   ],
   "source": [
    "# Extracting the HTML title using basic Python\n",
    "split_contents = html_contents.split('>')\n",
    "for i, substring in enumerate(split_contents):\n",
    "    if substring.endswith('<title'):\n",
    "        next_string = split_contents[i + 1]\n",
    "        title = next_string.split('<')[0]\n",
    "        print(title)\n",
    "        break"
   ]
  },
  {
   "cell_type": "markdown",
   "metadata": {},
   "source": [
    "## 16.2 Parsing HTML using Beautiful Soup"
   ]
  },
  {
   "cell_type": "code",
   "execution_count": 66,
   "metadata": {},
   "outputs": [],
   "source": [
    "# Importing the BeautifulSoup as bs\n",
    "from bs4 import BeautifulSoup as bs"
   ]
  },
  {
   "cell_type": "code",
   "execution_count": 67,
   "metadata": {},
   "outputs": [],
   "source": [
    "# Initializing BeautifulSoup using an HTML string\n",
    "soup = bs(html_contents)"
   ]
  },
  {
   "cell_type": "code",
   "execution_count": 68,
   "metadata": {},
   "outputs": [
    {
     "name": "stdout",
     "output_type": "stream",
     "text": [
      "<html>\n",
      " <head>\n",
      "  <title>\n",
      "   Data Science is Fun\n",
      "  </title>\n",
      " </head>\n",
      " <body>\n",
      "  <h1>\n",
      "   Data Science is Fun\n",
      "  </h1>\n",
      "  <div class=\"text\" id=\"paragraphs\">\n",
      "   <p id=\"paragraph 0\">\n",
      "    Paragraph 0 Paragraph 0 Paragraph 0 Paragraph 0 Paragraph 0 Paragraph 0 Paragraph 0 Paragraph 0 Paragraph 0 Paragraph 0 Paragraph 0 Paragraph 0 Paragraph 0 Paragraph 0 Paragraph 0 Paragraph 0 Paragraph 0 Paragraph 0 Paragraph 0 Paragraph 0 Paragraph 0 Paragraph 0 Paragraph 0 Paragraph 0 Paragraph 0 Paragraph 0 Paragraph 0 Paragraph 0 Paragraph 0 Paragraph 0 Paragraph 0 Paragraph 0 Paragraph 0 Paragraph 0 Paragraph 0 Paragraph 0 Paragraph 0 Paragraph 0 Paragraph 0 Paragraph 0\n",
      "   </p>\n",
      "   <p id=\"paragraph 1\">\n",
      "    Paragraph 1 Paragraph 1 Paragraph 1 Paragraph 1 Paragraph 1 Paragraph 1 Paragraph 1 Paragraph 1 Paragraph 1 Paragraph 1 Paragraph 1 Paragraph 1 Paragraph 1 Paragraph 1 Paragraph 1 Paragraph 1 Paragraph 1 Paragraph 1 Paragraph 1 Paragraph 1 Paragraph 1 Paragraph 1 Paragraph 1 Paragraph 1 Paragraph 1 Paragraph 1 Paragraph 1 Paragraph 1 Paragraph 1 Paragraph 1 Paragraph 1 Paragraph 1 Paragraph 1 Paragraph 1 Paragraph 1 Paragraph 1 Paragraph 1 Paragraph 1 Paragraph 1 Paragraph 1\n",
      "   </p>\n",
      "   <p id=\"paragraph 2\">\n",
      "    Here is a link to\n",
      "    <a href=\"https://www.manning.com/books/data-science-bookcamp\">\n",
      "     Data Science Bootcamp\n",
      "    </a>\n",
      "   </p>\n",
      "  </div>\n",
      "  <div class=\"text\" id=\"list\">\n",
      "   <h2>\n",
      "    Common Data Science Libraries\n",
      "   </h2>\n",
      "   <ul>\n",
      "    <li>\n",
      "     NumPy\n",
      "    </li>\n",
      "    <li>\n",
      "     SciPy\n",
      "    </li>\n",
      "    <li>\n",
      "     Pandas\n",
      "    </li>\n",
      "    <li>\n",
      "     Scikit-Learn\n",
      "    </li>\n",
      "   </ul>\n",
      "  </div>\n",
      "  <div class=\"empty\" id=\"empty\">\n",
      "  </div>\n",
      " </body>\n",
      "</html>\n",
      "\n"
     ]
    }
   ],
   "source": [
    "# Printing readable HTML with Beautiful Soup\n",
    "print(soup.prettify())"
   ]
  },
  {
   "cell_type": "code",
   "execution_count": 69,
   "metadata": {},
   "outputs": [
    {
     "name": "stdout",
     "output_type": "stream",
     "text": [
      "<title>Data Science is Fun</title>\n"
     ]
    }
   ],
   "source": [
    "# Extracting the title with Beautiful Soup\n",
    "title = soup.find('title')\n",
    "print(title)"
   ]
  },
  {
   "cell_type": "code",
   "execution_count": 70,
   "metadata": {},
   "outputs": [
    {
     "name": "stdout",
     "output_type": "stream",
     "text": [
      "<class 'bs4.element.Tag'>\n"
     ]
    }
   ],
   "source": [
    "# Outputting the title's data type\n",
    "print(type(title))"
   ]
  },
  {
   "cell_type": "code",
   "execution_count": 71,
   "metadata": {},
   "outputs": [
    {
     "name": "stdout",
     "output_type": "stream",
     "text": [
      "Data Science is Fun\n"
     ]
    }
   ],
   "source": [
    "# Outputting the title's text attribute\n",
    "print(title.text)"
   ]
  },
  {
   "cell_type": "code",
   "execution_count": 72,
   "metadata": {},
   "outputs": [],
   "source": [
    "# Accessing the title's text attribute from soup\n",
    "assert soup.title.text == title.text"
   ]
  },
  {
   "cell_type": "code",
   "execution_count": 73,
   "metadata": {},
   "outputs": [
    {
     "name": "stdout",
     "output_type": "stream",
     "text": [
      "Data Science is FunParagraph 0 Paragraph 0 Paragraph 0 Paragraph 0 Paragraph 0 Paragraph 0 Paragraph 0 Paragraph 0 Paragraph 0 Paragraph 0 Paragraph 0 Paragraph 0 Paragraph 0 Paragraph 0 Paragraph 0 Paragraph 0 Paragraph 0 Paragraph 0 Paragraph 0 Paragraph 0 Paragraph 0 Paragraph 0 Paragraph 0 Paragraph 0 Paragraph 0 Paragraph 0 Paragraph 0 Paragraph 0 Paragraph 0 Paragraph 0 Paragraph 0 Paragraph 0 Paragraph 0 Paragraph 0 Paragraph 0 Paragraph 0 Paragraph 0 Paragraph 0 Paragraph 0 Paragraph 0 Paragraph 1 Paragraph 1 Paragraph 1 Paragraph 1 Paragraph 1 Paragraph 1 Paragraph 1 Paragraph 1 Paragraph 1 Paragraph 1 Paragraph 1 Paragraph 1 Paragraph 1 Paragraph 1 Paragraph 1 Paragraph 1 Paragraph 1 Paragraph 1 Paragraph 1 Paragraph 1 Paragraph 1 Paragraph 1 Paragraph 1 Paragraph 1 Paragraph 1 Paragraph 1 Paragraph 1 Paragraph 1 Paragraph 1 Paragraph 1 Paragraph 1 Paragraph 1 Paragraph 1 Paragraph 1 Paragraph 1 Paragraph 1 Paragraph 1 Paragraph 1 Paragraph 1 Paragraph 1 Here is a link to Data Science BootcampCommon Data Science LibrariesNumPySciPyPandasScikit-Learn\n"
     ]
    }
   ],
   "source": [
    "# Accessing the body's text attribute from soup\n",
    "body = soup.body\n",
    "print(body.text)"
   ]
  },
  {
   "cell_type": "code",
   "execution_count": 74,
   "metadata": {},
   "outputs": [
    {
     "name": "stdout",
     "output_type": "stream",
     "text": [
      "Paragraph 0 Paragraph 0 Paragraph 0 Paragraph 0 Paragraph 0 Paragraph 0 Paragraph 0 Paragraph 0 Paragraph 0 Paragraph 0 Paragraph 0 Paragraph 0 Paragraph 0 Paragraph 0 Paragraph 0 Paragraph 0 Paragraph 0 Paragraph 0 Paragraph 0 Paragraph 0 Paragraph 0 Paragraph 0 Paragraph 0 Paragraph 0 Paragraph 0 Paragraph 0 Paragraph 0 Paragraph 0 Paragraph 0 Paragraph 0 Paragraph 0 Paragraph 0 Paragraph 0 Paragraph 0 Paragraph 0 Paragraph 0 Paragraph 0 Paragraph 0 Paragraph 0 Paragraph 0 \n"
     ]
    }
   ],
   "source": [
    "# Accessing the text of the first paragraph\n",
    "assert body.p.text == soup.p.text\n",
    "print(soup.p.text)"
   ]
  },
  {
   "cell_type": "code",
   "execution_count": 75,
   "metadata": {},
   "outputs": [
    {
     "name": "stdout",
     "output_type": "stream",
     "text": [
      "\n",
      "PARAGRAPH 0:\n",
      "Paragraph 0 Paragraph 0 Paragraph 0 Paragraph 0 Paragraph 0 Paragraph 0 Paragraph 0 Paragraph 0 Paragraph 0 Paragraph 0 Paragraph 0 Paragraph 0 Paragraph 0 Paragraph 0 Paragraph 0 Paragraph 0 Paragraph 0 Paragraph 0 Paragraph 0 Paragraph 0 Paragraph 0 Paragraph 0 Paragraph 0 Paragraph 0 Paragraph 0 Paragraph 0 Paragraph 0 Paragraph 0 Paragraph 0 Paragraph 0 Paragraph 0 Paragraph 0 Paragraph 0 Paragraph 0 Paragraph 0 Paragraph 0 Paragraph 0 Paragraph 0 Paragraph 0 Paragraph 0 \n",
      "\n",
      "PARAGRAPH 1:\n",
      "Paragraph 1 Paragraph 1 Paragraph 1 Paragraph 1 Paragraph 1 Paragraph 1 Paragraph 1 Paragraph 1 Paragraph 1 Paragraph 1 Paragraph 1 Paragraph 1 Paragraph 1 Paragraph 1 Paragraph 1 Paragraph 1 Paragraph 1 Paragraph 1 Paragraph 1 Paragraph 1 Paragraph 1 Paragraph 1 Paragraph 1 Paragraph 1 Paragraph 1 Paragraph 1 Paragraph 1 Paragraph 1 Paragraph 1 Paragraph 1 Paragraph 1 Paragraph 1 Paragraph 1 Paragraph 1 Paragraph 1 Paragraph 1 Paragraph 1 Paragraph 1 Paragraph 1 Paragraph 1 \n",
      "\n",
      "PARAGRAPH 2:\n",
      "Here is a link to Data Science Bootcamp\n"
     ]
    }
   ],
   "source": [
    "# Accessing all paragraphs in the body\n",
    "paragraphs = body.find_all('p')\n",
    "for i, paragraph in enumerate(paragraphs):\n",
    "    print(f\"\\nPARAGRAPH {i}:\")\n",
    "    print(paragraph.text)"
   ]
  },
  {
   "cell_type": "code",
   "execution_count": 76,
   "metadata": {},
   "outputs": [
    {
     "name": "stdout",
     "output_type": "stream",
     "text": [
      "['NumPy', 'SciPy', 'Pandas', 'Scikit-Learn']\n"
     ]
    }
   ],
   "source": [
    "# Accessing tall bullet points in the body\n",
    "print([bullet.text for bullet in body.find_all('li')])"
   ]
  },
  {
   "cell_type": "code",
   "execution_count": 77,
   "metadata": {},
   "outputs": [
    {
     "name": "stdout",
     "output_type": "stream",
     "text": [
      "Here is a link to Data Science Bootcamp\n"
     ]
    }
   ],
   "source": [
    "# Accessing a paragraph by ID\n",
    "paragraph_2 = soup.find(id='paragraph 2')\n",
    "print(paragraph_2.text)"
   ]
  },
  {
   "cell_type": "code",
   "execution_count": 78,
   "metadata": {},
   "outputs": [
    {
     "name": "stdout",
     "output_type": "stream",
     "text": [
      "https://www.manning.com/books/data-science-bookcamp\n"
     ]
    }
   ],
   "source": [
    "# Accessing an attribute in a tag\n",
    "assert paragraph_2.get('id') == 'paragraph 2'\n",
    "print(paragraph_2.a.get('href'))"
   ]
  },
  {
   "cell_type": "code",
   "execution_count": 79,
   "metadata": {},
   "outputs": [
    {
     "name": "stdout",
     "output_type": "stream",
     "text": [
      "\n",
      "Division with id 'paragraphs'\n",
      "Paragraph 0 Paragraph 0 Paragraph 0 Paragraph 0 Paragraph 0 Paragraph 0 Paragraph 0 Paragraph 0 Paragraph 0 Paragraph 0 Paragraph 0 Paragraph 0 Paragraph 0 Paragraph 0 Paragraph 0 Paragraph 0 Paragraph 0 Paragraph 0 Paragraph 0 Paragraph 0 Paragraph 0 Paragraph 0 Paragraph 0 Paragraph 0 Paragraph 0 Paragraph 0 Paragraph 0 Paragraph 0 Paragraph 0 Paragraph 0 Paragraph 0 Paragraph 0 Paragraph 0 Paragraph 0 Paragraph 0 Paragraph 0 Paragraph 0 Paragraph 0 Paragraph 0 Paragraph 0 Paragraph 1 Paragraph 1 Paragraph 1 Paragraph 1 Paragraph 1 Paragraph 1 Paragraph 1 Paragraph 1 Paragraph 1 Paragraph 1 Paragraph 1 Paragraph 1 Paragraph 1 Paragraph 1 Paragraph 1 Paragraph 1 Paragraph 1 Paragraph 1 Paragraph 1 Paragraph 1 Paragraph 1 Paragraph 1 Paragraph 1 Paragraph 1 Paragraph 1 Paragraph 1 Paragraph 1 Paragraph 1 Paragraph 1 Paragraph 1 Paragraph 1 Paragraph 1 Paragraph 1 Paragraph 1 Paragraph 1 Paragraph 1 Paragraph 1 Paragraph 1 Paragraph 1 Paragraph 1 Here is a link to Data Science Bootcamp\n",
      "\n",
      "Division with id 'list'\n",
      "Common Data Science LibrariesNumPySciPyPandasScikit-Learn\n"
     ]
    }
   ],
   "source": [
    "# Accessing divisions by their shared class attribute\n",
    "for division in soup.find_all('div', class_='text'):\n",
    "    id_ = division.get('id')\n",
    "    print(f\"\\nDivision with id '{id_}'\")\n",
    "    print(division.text)"
   ]
  },
  {
   "cell_type": "code",
   "execution_count": 80,
   "metadata": {},
   "outputs": [
    {
     "name": "stdout",
     "output_type": "stream",
     "text": [
      "Here is a link to Data Science Bootcamp\n"
     ]
    }
   ],
   "source": [
    "# Paragraph deletion with Beautiful Soup\n",
    "body.find(id='paragraph 0').decompose()\n",
    "soup.find(id='paragraph 1').decompose()\n",
    "print(body.find(id='paragraphs').text)"
   ]
  },
  {
   "cell_type": "code",
   "execution_count": 81,
   "metadata": {},
   "outputs": [
    {
     "name": "stdout",
     "output_type": "stream",
     "text": [
      "<p></p>\n"
     ]
    }
   ],
   "source": [
    "# Initializing an empty paragraph Tag\n",
    "new_paragraph = soup.new_tag('p')\n",
    "print(new_paragraph)"
   ]
  },
  {
   "cell_type": "code",
   "execution_count": 82,
   "metadata": {},
   "outputs": [
    {
     "name": "stdout",
     "output_type": "stream",
     "text": [
      "<p>This paragraph is new</p>\n"
     ]
    }
   ],
   "source": [
    "# Updating the text of an empty paragraph\n",
    "new_paragraph.string = \"This paragraph is new\"\n",
    "print(new_paragraph)"
   ]
  },
  {
   "cell_type": "code",
   "execution_count": 83,
   "metadata": {},
   "outputs": [
    {
     "data": {
      "text/html": [
       "<html>\n",
       " <head>\n",
       "  <title>\n",
       "   Data Science is Fun\n",
       "  </title>\n",
       " </head>\n",
       " <body>\n",
       "  <h1>\n",
       "   Data Science is Fun\n",
       "  </h1>\n",
       "  <div class=\"text\" id=\"paragraphs\">\n",
       "   <p id=\"paragraph 2\">\n",
       "    Here is a link to\n",
       "    <a href=\"https://www.manning.com/books/data-science-bookcamp\">\n",
       "     Data Science Bootcamp\n",
       "    </a>\n",
       "   </p>\n",
       "  </div>\n",
       "  <div class=\"text\" id=\"list\">\n",
       "   <h2>\n",
       "    Common Data Science Libraries\n",
       "   </h2>\n",
       "   <ul>\n",
       "    <li>\n",
       "     NumPy\n",
       "    </li>\n",
       "    <li>\n",
       "     SciPy\n",
       "    </li>\n",
       "    <li>\n",
       "     Pandas\n",
       "    </li>\n",
       "    <li>\n",
       "     Scikit-Learn\n",
       "    </li>\n",
       "   </ul>\n",
       "  </div>\n",
       "  <div class=\"empty\" id=\"empty\">\n",
       "   <p>\n",
       "    This paragraph is new\n",
       "   </p>\n",
       "  </div>\n",
       " </body>\n",
       "</html>\n"
      ],
      "text/plain": [
       "<IPython.core.display.HTML object>"
      ]
     },
     "metadata": {},
     "output_type": "display_data"
    }
   ],
   "source": [
    "# Paragraph insertion with Beautiful Soup\n",
    "soup.find(id='empty').append(new_paragraph)\n",
    "render(soup.prettify())"
   ]
  },
  {
   "cell_type": "markdown",
   "metadata": {},
   "source": [
    "## 16.3 Downloading and Parsing Online Data"
   ]
  },
  {
   "cell_type": "code",
   "execution_count": 84,
   "metadata": {},
   "outputs": [],
   "source": [
    "# Importing the urlopen function\n",
    "from urllib.request import urlopen"
   ]
  },
  {
   "cell_type": "code",
   "execution_count": 85,
   "metadata": {},
   "outputs": [
    {
     "name": "stdout",
     "output_type": "stream",
     "text": [
      "b'\\n<!DOCTYPE html>\\n<!--[if lt IE 7 ]> <html lang=\"en\" class=\"no-js ie6 ie\"> <![endif]-->\\n<!--[if IE 7 ]>    <html lang=\"en\" class=\"no-js ie7 ie\"> <![endif]-->\\n<!--[if IE 8 ]>    <html lang=\"en\" class=\"no-js ie8 ie\"> <![endif]-->\\n<!--[if IE 9 ]>    <html lang=\"en\" class=\"no-js ie9 ie\"> <![endif]-->\\n<!--[if (gt IE 9)|!(IE)]><!--> <html lang=\"en\" class=\"no-js\"><!--<![endif]-->\\n\\n<head>\\n    <meta name=\"theme-color\" content=\"#333333\">\\n    <title>Data Science Bookcamp</title>\\n\\n\\n\\n<meta http-equiv=\"Content-Type\" content=\"text/html; charset=UTF-8\">\\n<meta http-equiv=\"X-UA-Compatible\" content=\"IE=edge\">\\n<meta name=\"viewport\" content=\"width=device-width, initial-scale=1, maximum-scale=1, user-scalable=0\">\\n<meta name=\"application-name\" content=\"Data Science Bookcamp\"/>\\n<meta name=\"apple-mobile-web-app-title\" content=\"Data Science Bookcamp\"/>\\n\\n<meta property=\"og:title\" content=\"Data Science Bookcamp\"/>\\n<meta name=\"twitter:title\" content=\"Data Science Bookcamp\"/>\\n\\n<meta name=\"twitter:site\" content=\"&#64'\n"
     ]
    }
   ],
   "source": [
    "# Downloading an HTML document\n",
    "url = \"https://www.manning.com/books/data-science-bookcamp\"\n",
    "html_contents = urlopen(url).read()\n",
    "print(html_contents[:1000])"
   ]
  },
  {
   "cell_type": "code",
   "execution_count": 86,
   "metadata": {},
   "outputs": [
    {
     "name": "stdout",
     "output_type": "stream",
     "text": [
      "Data Science Bookcamp\n"
     ]
    }
   ],
   "source": [
    "# Accesssing the title with Beautiful Soup\n",
    "soup = bs(html_contents)\n",
    "print(soup.title.text)"
   ]
  },
  {
   "cell_type": "code",
   "execution_count": 87,
   "metadata": {},
   "outputs": [
    {
     "name": "stdout",
     "output_type": "stream",
     "text": [
      "\n",
      "about the book\n",
      "\n",
      "Data Science Bookcamp doesn’t stop with surface-level theory and toy examples. As you work through each project, you’ll learn how to troubleshoot common problems like missing data, messy data, and algorithms that don’t quite fit the model you’re building. You’ll appreciate the detailed setup instructions and the fully explained solutions that highlight common failure points. In the end, you’ll be confident in your skills because you can see the results.\n",
      "    \n"
     ]
    }
   ],
   "source": [
    "# Accessing a description of this book\n",
    "for division in soup.find_all('div'):\n",
    "    header = division.h2\n",
    "    if header is None:\n",
    "        continue\n",
    "\n",
    "    if header.text.lower() == 'about the book':\n",
    "        print(division.text)"
   ]
  },
  {
   "cell_type": "markdown",
   "metadata": {},
   "source": [
    "# Key Words / Notes:\n",
    "* Use `find()` to find the first instance of a tag\n",
    "* Use `find_all()` to return an iterable result set of all instances of a tag\n",
    "* Can use the `tag.decompose()` function to remove tags from a soup object\n",
    "* Can use the `new_tag()` function to add tags to make tags to add to soup objects"
   ]
  }
 ],
 "metadata": {
  "kernelspec": {
   "display_name": "base",
   "language": "python",
   "name": "python3"
  },
  "language_info": {
   "codemirror_mode": {
    "name": "ipython",
    "version": 3
   },
   "file_extension": ".py",
   "mimetype": "text/x-python",
   "name": "python",
   "nbconvert_exporter": "python",
   "pygments_lexer": "ipython3",
   "version": "3.9.16"
  },
  "orig_nbformat": 4
 },
 "nbformat": 4,
 "nbformat_minor": 2
}
