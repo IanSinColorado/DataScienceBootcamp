{
 "cells": [
  {
   "cell_type": "markdown",
   "id": "98530078",
   "metadata": {},
   "source": [
    "# My attempt at Case Study 1:"
   ]
  },
  {
   "cell_type": "code",
   "execution_count": 1,
   "id": "4986befc",
   "metadata": {},
   "outputs": [],
   "source": [
    "# Play a card game in which the cards are iteratively flipped until we tell the dealer to stop, then one additional card is flipped over\n",
    "# Find a strategy to make the last card flipped over a red card# Find a strategy to make the last card flipped over a red card\n",
    "# I have already seen this before, so will try a strategy I think I saw before"
   ]
  },
  {
   "cell_type": "code",
   "execution_count": 2,
   "id": "0d506c09",
   "metadata": {},
   "outputs": [],
   "source": [
    "# Make The Deck:\n",
    "red_cards = 26 * [1]\n",
    "black_cards = 26 * [0]\n",
    "full_deck = red_cards + black_cards"
   ]
  },
  {
   "cell_type": "code",
   "execution_count": 3,
   "id": "893a8149",
   "metadata": {},
   "outputs": [],
   "source": [
    "# Get all permutations with NumPy:\n",
    "import numpy as np\n",
    "np.random.seed(0)\n",
    "shuffled_deck = np.random.permutation(full_deck)"
   ]
  },
  {
   "cell_type": "code",
   "execution_count": 4,
   "id": "0f2cc8b2",
   "metadata": {},
   "outputs": [
    {
     "name": "stdout",
     "output_type": "stream",
     "text": [
      "[0 0 1 0 1 0 0 0 0 1 1 1 0 0 0 0 1 1 0 0 1 0 0 1 1 0 1 0 1 0 1 1 1 1 0 0 1\n",
      " 1 0 1 1 1 0 1 1 1 0 0 1 1 0 0]\n",
      "<class 'numpy.ndarray'>\n"
     ]
    }
   ],
   "source": [
    "print(shuffled_deck)\n",
    "print(type(shuffled_deck))"
   ]
  },
  {
   "cell_type": "code",
   "execution_count": 5,
   "id": "81cb61c7",
   "metadata": {},
   "outputs": [],
   "source": [
    "# Play the game where we will keep track of the number of black and red cards remaining in the deck\n",
    "# and stop the game when the number of red cards outnumbers the number of black cards:\n",
    "# this function will return 1 if the game is won and 0 if the game is lost\n",
    "def play_game(shuffled_deck):  \n",
    "    red_total = 26\n",
    "    black_total = 26\n",
    "    final_card = shuffled_deck[0]\n",
    "    for index, card in np.ndenumerate(shuffled_deck):\n",
    "        if card == 1:\n",
    "            red_total -= 1\n",
    "        else:\n",
    "            black_total -= 1\n",
    "\n",
    "        if red_total > black_total:\n",
    "            # halt the game because there are more red cards than black cards\n",
    "            final_card = shuffled_deck[index[0] + 1]\n",
    "            print(\"Halted\")\n",
    "            break\n",
    "            \n",
    "        # record the last card in case there are never more red cards than black cards\n",
    "        final_card = card\n",
    "    \n",
    "    print(\"Final Check\")\n",
    "    if final_card == 1:\n",
    "        return 1\n",
    "    else:\n",
    "        return 0"
   ]
  },
  {
   "cell_type": "code",
   "execution_count": 6,
   "id": "5020856b",
   "metadata": {},
   "outputs": [
    {
     "name": "stdout",
     "output_type": "stream",
     "text": [
      "Halted\n",
      "Final Check\n",
      "0\n"
     ]
    }
   ],
   "source": [
    "print(play_game(shuffled_deck))"
   ]
  },
  {
   "cell_type": "code",
   "execution_count": 7,
   "id": "4e5e71cb",
   "metadata": {},
   "outputs": [],
   "source": [
    "from collections import defaultdict\n"
   ]
  },
  {
   "cell_type": "code",
   "execution_count": 8,
   "id": "a1129306",
   "metadata": {},
   "outputs": [
    {
     "name": "stdout",
     "output_type": "stream",
     "text": [
      "Halted\n",
      "Final Check\n",
      "Halted\n",
      "Final Check\n",
      "Halted\n",
      "Final Check\n",
      "Halted\n",
      "Final Check\n",
      "Halted\n",
      "Final Check\n",
      "Halted\n",
      "Final Check\n",
      "Halted\n",
      "Final Check\n",
      "Halted\n",
      "Final Check\n",
      "Halted\n",
      "Final Check\n",
      "Halted\n",
      "Final Check\n",
      "Halted\n",
      "Final Check\n",
      "Halted\n",
      "Final Check\n",
      "Halted\n",
      "Final Check\n",
      "Halted\n",
      "Final Check\n",
      "Halted\n",
      "Final Check\n",
      "Halted\n",
      "Final Check\n",
      "Halted\n",
      "Final Check\n",
      "Halted\n",
      "Final Check\n",
      "Halted\n",
      "Final Check\n",
      "Halted\n",
      "Final Check\n",
      "Halted\n",
      "Final Check\n",
      "Halted\n",
      "Final Check\n",
      "Halted\n",
      "Final Check\n",
      "Halted\n",
      "Final Check\n",
      "Final Check\n",
      "Halted\n",
      "Final Check\n",
      "Halted\n",
      "Final Check\n",
      "Halted\n",
      "Final Check\n",
      "Halted\n",
      "Final Check\n",
      "Halted\n",
      "Final Check\n",
      "Halted\n",
      "Final Check\n",
      "Halted\n",
      "Final Check\n",
      "Halted\n",
      "Final Check\n",
      "Halted\n",
      "Final Check\n",
      "Halted\n",
      "Final Check\n",
      "Halted\n",
      "Final Check\n",
      "Halted\n",
      "Final Check\n",
      "Halted\n",
      "Final Check\n",
      "Halted\n",
      "Final Check\n",
      "Halted\n",
      "Final Check\n",
      "Halted\n",
      "Final Check\n",
      "Halted\n",
      "Final Check\n",
      "Halted\n",
      "Final Check\n",
      "Halted\n",
      "Final Check\n",
      "Halted\n",
      "Final Check\n",
      "Halted\n",
      "Final Check\n",
      "Halted\n",
      "Final Check\n",
      "Halted\n",
      "Final Check\n",
      "Halted\n",
      "Final Check\n",
      "Halted\n",
      "Final Check\n",
      "Halted\n",
      "Final Check\n",
      "Halted\n",
      "Final Check\n",
      "Halted\n",
      "Final Check\n",
      "Halted\n",
      "Final Check\n",
      "Halted\n",
      "Final Check\n",
      "Halted\n",
      "Final Check\n",
      "Halted\n",
      "Final Check\n",
      "Halted\n",
      "Final Check\n",
      "Halted\n",
      "Final Check\n",
      "Halted\n",
      "Final Check\n",
      "Halted\n",
      "Final Check\n",
      "Halted\n",
      "Final Check\n",
      "Halted\n",
      "Final Check\n",
      "Halted\n",
      "Final Check\n",
      "Halted\n",
      "Final Check\n",
      "Halted\n",
      "Final Check\n",
      "Halted\n",
      "Final Check\n",
      "Halted\n",
      "Final Check\n",
      "Halted\n",
      "Final Check\n",
      "Halted\n",
      "Final Check\n",
      "Halted\n",
      "Final Check\n",
      "Halted\n",
      "Final Check\n",
      "Halted\n",
      "Final Check\n",
      "Halted\n",
      "Final Check\n",
      "Halted\n",
      "Final Check\n",
      "Halted\n",
      "Final Check\n",
      "Halted\n",
      "Final Check\n",
      "Halted\n",
      "Final Check\n",
      "Halted\n",
      "Final Check\n",
      "Halted\n",
      "Final Check\n",
      "Halted\n",
      "Final Check\n",
      "Halted\n",
      "Final Check\n",
      "Halted\n",
      "Final Check\n",
      "Halted\n",
      "Final Check\n",
      "Halted\n",
      "Final Check\n",
      "Halted\n",
      "Final Check\n",
      "Halted\n",
      "Final Check\n",
      "Halted\n",
      "Final Check\n",
      "Halted\n",
      "Final Check\n",
      "Final Check\n",
      "Halted\n",
      "Final Check\n",
      "Halted\n",
      "Final Check\n",
      "Halted\n",
      "Final Check\n",
      "Halted\n",
      "Final Check\n",
      "Halted\n",
      "Final Check\n",
      "Halted\n",
      "Final Check\n",
      "Halted\n",
      "Final Check\n",
      "Halted\n",
      "Final Check\n",
      "Halted\n",
      "Final Check\n",
      "Halted\n",
      "Final Check\n",
      "58\n",
      "42\n"
     ]
    }
   ],
   "source": [
    "np.random.seed(0)\n",
    "# counters for the wins and losses\n",
    "num_wins = 0\n",
    "num_losses = 0\n",
    "\n",
    "# play 100 games with a random deck and record it\n",
    "for _ in range(100):\n",
    "    shuffled_deck = np.random.permutation(full_deck)\n",
    "    # print(shuffled_deck)\n",
    "    if play_game(shuffled_deck) == 1:\n",
    "        num_wins += 1\n",
    "    else:\n",
    "        num_losses += 1\n",
    "        \n",
    "print(num_wins)\n",
    "print(num_losses)"
   ]
  },
  {
   "cell_type": "markdown",
   "id": "265b760d",
   "metadata": {},
   "source": [
    "# Case Study 1 Solution"
   ]
  },
  {
   "cell_type": "code",
   "execution_count": 9,
   "id": "9a06fddc",
   "metadata": {},
   "outputs": [],
   "source": [
    "# 4.1 Predicting Red Cards in a Shuffled Deck\n",
    "red_cards = 26 * [1]\n",
    "black_cards = 26 * [0]\n",
    "total_cards = red_cards + black_cards"
   ]
  },
  {
   "cell_type": "code",
   "execution_count": 10,
   "id": "2a104ca0",
   "metadata": {},
   "outputs": [],
   "source": [
    "import numpy as np\n",
    "# Shuffle the deck\n",
    "np.random.seed(1)\n",
    "shuffled_deck = np.random.permutation(total_cards)"
   ]
  },
  {
   "cell_type": "code",
   "execution_count": 11,
   "id": "86983470",
   "metadata": {},
   "outputs": [
    {
     "name": "stdout",
     "output_type": "stream",
     "text": [
      "Stopping the game at index 0.\n",
      "The next card in the deck is red.\n",
      "We have won!\n"
     ]
    }
   ],
   "source": [
    "# Terminate the game when the number of red cards is greater than the number of black cards\n",
    "remaining_red_cards = 26\n",
    "for i, card in enumerate(shuffled_deck[:-1]):\n",
    "    remaining_red_cards -= card\n",
    "    remaining_total_cards = 52 - i - 1\n",
    "    if (remaining_red_cards / remaining_total_cards) > 0.5:\n",
    "        break\n",
    "        \n",
    "print(f\"Stopping the game at index {i}.\")\n",
    "final_card = shuffled_deck[i + 1]\n",
    "color = 'red' if final_card else 0\n",
    "print(f\"The next card in the deck is {'red' if final_card else 'black'}.\")\n",
    "print(f\"We have {'won' if final_card else 'lost'}!\")"
   ]
  },
  {
   "cell_type": "code",
   "execution_count": 12,
   "id": "66c95d27",
   "metadata": {},
   "outputs": [],
   "source": [
    "# Generalizing the Card Game Strategy\n",
    "np.random.seed(0)\n",
    "total_cards = 52\n",
    "total_red_cards = 26\n",
    "def execute_strategy(min_fraction_red=0.5, shuffled_deck=None, return_index=False):\n",
    "    if shuffled_deck is None:\n",
    "        unshuffled_deck = (26 * [1]) + (26 * [0])\n",
    "        shuffled_deck = np.random.permutation(unshuffled_deck)\n",
    "        \n",
    "    remaining_red_cards = total_red_cards\n",
    "    \n",
    "    for i, card in enumerate(shuffled_deck[:-1]):\n",
    "        remaining_red_cards -= card\n",
    "        fraction_red_cards = remaining_red_cards / (total_cards - i - 1)\n",
    "        if fraction_red_cards > min_fraction_red:\n",
    "            break\n",
    "        \n",
    "    # returns either the return index and the final card as a tuple: (return_index, final card) or just the final card\n",
    "    # depending on the return_index input parameter\n",
    "    return (i+1, shuffled_deck[i+1]) if return_index else shuffled_deck[i+1]"
   ]
  },
  {
   "cell_type": "code",
   "execution_count": 13,
   "id": "b8cc62bc",
   "metadata": {},
   "outputs": [],
   "source": [
    "# 4.1.1 Estimating the probability of strategy success\n",
    "# Apply the strategy to 1000 random shuffles\n",
    "observations = np.array([execute_strategy() for _ in range(1000)])"
   ]
  },
  {
   "cell_type": "code",
   "execution_count": 14,
   "id": "d5a73f94",
   "metadata": {},
   "outputs": [
    {
     "name": "stdout",
     "output_type": "stream",
     "text": [
      "The frequency of wins is 0.511\n"
     ]
    }
   ],
   "source": [
    "# Compute the frequency of wins\n",
    "frequency_wins = observations.sum() / 1000\n",
    "assert frequency_wins == observations.mean()\n",
    "print(f\"The frequency of wins is {frequency_wins}\")"
   ]
  },
  {
   "cell_type": "code",
   "execution_count": 15,
   "id": "6ff80c87",
   "metadata": {},
   "outputs": [
    {
     "name": "stdout",
     "output_type": "stream",
     "text": [
      "Total profit is $22.00\n"
     ]
    }
   ],
   "source": [
    "# Computing total profit\n",
    "dollars_won = frequency_wins * 1000\n",
    "dollars_lost = (1 - frequency_wins) * 1000\n",
    "total_profit = dollars_won - dollars_lost\n",
    "print(f\"Total profit is ${total_profit:.2f}\")"
   ]
  },
  {
   "cell_type": "code",
   "execution_count": 16,
   "id": "48b1afa2",
   "metadata": {},
   "outputs": [
    {
     "data": {
      "image/png": "[encoded data removed]",
      "text/plain": [
       "<Figure size 432x288 with 1 Axes>"
      ]
     },
     "metadata": {
      "needs_background": "light"
     },
     "output_type": "display_data"
    },
    {
     "name": "stdout",
     "output_type": "stream",
     "text": [
      "The win-frequency for 10,000 shuffles is 0.5035035035035035\n"
     ]
    }
   ],
   "source": [
    "import matplotlib.pyplot as plt\n",
    "# Plotting over a series of sample sizes ranging from 1 through 10000\n",
    "np.random.seed(0)\n",
    "def repeat_game(number_repeats):\n",
    "    observations = np.array([execute_strategy() for _ in range(number_repeats)])\n",
    "    return observations.mean()\n",
    "\n",
    "frequencies = []\n",
    "for i in range(1, 1000):\n",
    "    frequencies.append(repeat_game(i))\n",
    "    \n",
    "plt.plot(list(range(1, 1000)), frequencies)\n",
    "plt.axhline(0.5, color='k')\n",
    "plt.xlabel('Number of Card Shuffles')\n",
    "plt.ylabel('Win-Frequency')\n",
    "plt.show()\n",
    "print(f\"The win-frequency for 10,000 shuffles is {frequencies[-1]}\")"
   ]
  },
  {
   "cell_type": "code",
   "execution_count": 17,
   "id": "e22927d1",
   "metadata": {},
   "outputs": [],
   "source": [
    "def compute_high_confidence_interval(likelihoods, bin_width):\n",
    "    peak_index = likelihoods.argmax()\n",
    "    area = likelihoods[peak_index] * bin_width\n",
    "    start_index, end_index = peak_index, peak_index + 1\n",
    "    while area < 0.95:\n",
    "        if start_index > 0:\n",
    "            start_index -= 1\n",
    "        if end_index < (likelihoods.size - 1):\n",
    "            end_index += 1\n",
    "            \n",
    "        area = likelihoods[start_index : end_index + 1].sum() * bin_width\n",
    "\n",
    "    range_start, range_end = bin_edges[start_index], bin_edges[end_index]\n",
    "    range_string = f\"{range_start} - {range_end}\"\n",
    "    print(f\"The frequency range {range_string} represents a {100 * area:.2f}% confidence interval\")\n",
    "    return start_index, end_index"
   ]
  },
  {
   "cell_type": "code",
   "execution_count": 18,
   "id": "945e4641",
   "metadata": {},
   "outputs": [
    {
     "name": "stdout",
     "output_type": "stream",
     "text": [
      "The frequency range 0.46475 - 0.5335000000000001 represents a 97.00% confidence interval\n"
     ]
    },
    {
     "data": {
      "image/png": "[encoded data removed]",
      "text/plain": [
       "<Figure size 432x288 with 1 Axes>"
      ]
     },
     "metadata": {
      "needs_background": "light"
     },
     "output_type": "display_data"
    }
   ],
   "source": [
    "# Compute a confidence interval for 3 million shuffles\n",
    "np.random.seed(0)\n",
    "frequency_array = np.array([repeat_game(1000) for _ in range(300)])\n",
    "\n",
    "likelihoods, bin_edges, patches = plt.hist(frequency_array, bins='auto', edgecolor='k', density=True)\n",
    "bin_width = bin_edges[1] - bin_edges[0]\n",
    "start_index, end_index = compute_high_confidence_interval(likelihoods, bin_width)\n",
    "\n",
    "for i in range(start_index, end_index):\n",
    "    patches[i].set_facecolor('yellow')\n",
    "plt.xlabel('Binned Frequency')\n",
    "plt.ylabel('Relative Likelihood')\n",
    "\n",
    "plt.show()"
   ]
  },
  {
   "cell_type": "code",
   "execution_count": 19,
   "id": "eaa1e3c1",
   "metadata": {},
   "outputs": [
    {
     "ename": "KeyboardInterrupt",
     "evalue": "",
     "output_type": "error",
     "traceback": [
      "\u001b[1;31m---------------------------------------------------------------------------\u001b[0m",
      "\u001b[1;31mKeyboardInterrupt\u001b[0m                         Traceback (most recent call last)",
      "Input \u001b[1;32mIn [19]\u001b[0m, in \u001b[0;36m<cell line: 6>\u001b[1;34m()\u001b[0m\n\u001b[0;32m      1\u001b[0m \u001b[38;5;66;03m# ***********************************\u001b[39;00m\n\u001b[0;32m      2\u001b[0m \u001b[38;5;66;03m# This code will take an hour to run\u001b[39;00m\n\u001b[0;32m      3\u001b[0m \u001b[38;5;66;03m# ***********************************\u001b[39;00m\n\u001b[0;32m      4\u001b[0m \u001b[38;5;66;03m# Compute a confidence interval for 150 million shuffles\u001b[39;00m\n\u001b[0;32m      5\u001b[0m np\u001b[38;5;241m.\u001b[39mrandom\u001b[38;5;241m.\u001b[39mseed(\u001b[38;5;241m0\u001b[39m)\n\u001b[1;32m----> 6\u001b[0m frequency_array \u001b[38;5;241m=\u001b[39m np\u001b[38;5;241m.\u001b[39marray([repeat_game(\u001b[38;5;241m50000\u001b[39m) \u001b[38;5;28;01mfor\u001b[39;00m _ \u001b[38;5;129;01min\u001b[39;00m \u001b[38;5;28mrange\u001b[39m(\u001b[38;5;241m3000\u001b[39m)])\n\u001b[0;32m      8\u001b[0m likelihoods, bin_edges, patches \u001b[38;5;241m=\u001b[39m plt\u001b[38;5;241m.\u001b[39mhist(frequency_array, bins\u001b[38;5;241m=\u001b[39m\u001b[38;5;124m'\u001b[39m\u001b[38;5;124mauto\u001b[39m\u001b[38;5;124m'\u001b[39m, edgecolor\u001b[38;5;241m=\u001b[39m\u001b[38;5;124m'\u001b[39m\u001b[38;5;124mk\u001b[39m\u001b[38;5;124m'\u001b[39m, density\u001b[38;5;241m=\u001b[39m\u001b[38;5;28;01mTrue\u001b[39;00m)\n\u001b[0;32m      9\u001b[0m bin_width \u001b[38;5;241m=\u001b[39m bin_edges[\u001b[38;5;241m1\u001b[39m] \u001b[38;5;241m-\u001b[39m bin_edges[\u001b[38;5;241m0\u001b[39m]\n",
      "Input \u001b[1;32mIn [19]\u001b[0m, in \u001b[0;36m<listcomp>\u001b[1;34m(.0)\u001b[0m\n\u001b[0;32m      1\u001b[0m \u001b[38;5;66;03m# ***********************************\u001b[39;00m\n\u001b[0;32m      2\u001b[0m \u001b[38;5;66;03m# This code will take an hour to run\u001b[39;00m\n\u001b[0;32m      3\u001b[0m \u001b[38;5;66;03m# ***********************************\u001b[39;00m\n\u001b[0;32m      4\u001b[0m \u001b[38;5;66;03m# Compute a confidence interval for 150 million shuffles\u001b[39;00m\n\u001b[0;32m      5\u001b[0m np\u001b[38;5;241m.\u001b[39mrandom\u001b[38;5;241m.\u001b[39mseed(\u001b[38;5;241m0\u001b[39m)\n\u001b[1;32m----> 6\u001b[0m frequency_array \u001b[38;5;241m=\u001b[39m np\u001b[38;5;241m.\u001b[39marray([\u001b[43mrepeat_game\u001b[49m\u001b[43m(\u001b[49m\u001b[38;5;241;43m50000\u001b[39;49m\u001b[43m)\u001b[49m \u001b[38;5;28;01mfor\u001b[39;00m _ \u001b[38;5;129;01min\u001b[39;00m \u001b[38;5;28mrange\u001b[39m(\u001b[38;5;241m3000\u001b[39m)])\n\u001b[0;32m      8\u001b[0m likelihoods, bin_edges, patches \u001b[38;5;241m=\u001b[39m plt\u001b[38;5;241m.\u001b[39mhist(frequency_array, bins\u001b[38;5;241m=\u001b[39m\u001b[38;5;124m'\u001b[39m\u001b[38;5;124mauto\u001b[39m\u001b[38;5;124m'\u001b[39m, edgecolor\u001b[38;5;241m=\u001b[39m\u001b[38;5;124m'\u001b[39m\u001b[38;5;124mk\u001b[39m\u001b[38;5;124m'\u001b[39m, density\u001b[38;5;241m=\u001b[39m\u001b[38;5;28;01mTrue\u001b[39;00m)\n\u001b[0;32m      9\u001b[0m bin_width \u001b[38;5;241m=\u001b[39m bin_edges[\u001b[38;5;241m1\u001b[39m] \u001b[38;5;241m-\u001b[39m bin_edges[\u001b[38;5;241m0\u001b[39m]\n",
      "Input \u001b[1;32mIn [16]\u001b[0m, in \u001b[0;36mrepeat_game\u001b[1;34m(number_repeats)\u001b[0m\n\u001b[0;32m      4\u001b[0m \u001b[38;5;28;01mdef\u001b[39;00m \u001b[38;5;21mrepeat_game\u001b[39m(number_repeats):\n\u001b[1;32m----> 5\u001b[0m     observations \u001b[38;5;241m=\u001b[39m np\u001b[38;5;241m.\u001b[39marray([execute_strategy() \u001b[38;5;28;01mfor\u001b[39;00m _ \u001b[38;5;129;01min\u001b[39;00m \u001b[38;5;28mrange\u001b[39m(number_repeats)])\n\u001b[0;32m      6\u001b[0m     \u001b[38;5;28;01mreturn\u001b[39;00m observations\u001b[38;5;241m.\u001b[39mmean()\n",
      "Input \u001b[1;32mIn [16]\u001b[0m, in \u001b[0;36m<listcomp>\u001b[1;34m(.0)\u001b[0m\n\u001b[0;32m      4\u001b[0m \u001b[38;5;28;01mdef\u001b[39;00m \u001b[38;5;21mrepeat_game\u001b[39m(number_repeats):\n\u001b[1;32m----> 5\u001b[0m     observations \u001b[38;5;241m=\u001b[39m np\u001b[38;5;241m.\u001b[39marray([\u001b[43mexecute_strategy\u001b[49m\u001b[43m(\u001b[49m\u001b[43m)\u001b[49m \u001b[38;5;28;01mfor\u001b[39;00m _ \u001b[38;5;129;01min\u001b[39;00m \u001b[38;5;28mrange\u001b[39m(number_repeats)])\n\u001b[0;32m      6\u001b[0m     \u001b[38;5;28;01mreturn\u001b[39;00m observations\u001b[38;5;241m.\u001b[39mmean()\n",
      "Input \u001b[1;32mIn [12]\u001b[0m, in \u001b[0;36mexecute_strategy\u001b[1;34m(min_fraction_red, shuffled_deck, return_index)\u001b[0m\n\u001b[0;32m      6\u001b[0m \u001b[38;5;28;01mif\u001b[39;00m shuffled_deck \u001b[38;5;129;01mis\u001b[39;00m \u001b[38;5;28;01mNone\u001b[39;00m:\n\u001b[0;32m      7\u001b[0m     unshuffled_deck \u001b[38;5;241m=\u001b[39m (\u001b[38;5;241m26\u001b[39m \u001b[38;5;241m*\u001b[39m [\u001b[38;5;241m1\u001b[39m]) \u001b[38;5;241m+\u001b[39m (\u001b[38;5;241m26\u001b[39m \u001b[38;5;241m*\u001b[39m [\u001b[38;5;241m0\u001b[39m])\n\u001b[1;32m----> 8\u001b[0m     shuffled_deck \u001b[38;5;241m=\u001b[39m \u001b[43mnp\u001b[49m\u001b[38;5;241;43m.\u001b[39;49m\u001b[43mrandom\u001b[49m\u001b[38;5;241;43m.\u001b[39;49m\u001b[43mpermutation\u001b[49m\u001b[43m(\u001b[49m\u001b[43munshuffled_deck\u001b[49m\u001b[43m)\u001b[49m\n\u001b[0;32m     10\u001b[0m remaining_red_cards \u001b[38;5;241m=\u001b[39m total_red_cards\n\u001b[0;32m     12\u001b[0m \u001b[38;5;28;01mfor\u001b[39;00m i, card \u001b[38;5;129;01min\u001b[39;00m \u001b[38;5;28menumerate\u001b[39m(shuffled_deck[:\u001b[38;5;241m-\u001b[39m\u001b[38;5;241m1\u001b[39m]):\n",
      "File \u001b[1;32mmtrand.pyx:4600\u001b[0m, in \u001b[0;36mnumpy.random.mtrand.RandomState.permutation\u001b[1;34m()\u001b[0m\n",
      "File \u001b[1;32m<__array_function__ internals>:5\u001b[0m, in \u001b[0;36mmay_share_memory\u001b[1;34m(*args, **kwargs)\u001b[0m\n",
      "\u001b[1;31mKeyboardInterrupt\u001b[0m: "
     ]
    }
   ],
   "source": [
    "# ***********************************\n",
    "# This code will take an hour to run\n",
    "# ***********************************\n",
    "# Compute a confidence interval for 150 million shuffles\n",
    "np.random.seed(0)\n",
    "frequency_array = np.array([repeat_game(50000) for _ in range(3000)])\n",
    "\n",
    "likelihoods, bin_edges, patches = plt.hist(frequency_array, bins='auto', edgecolor='k', density=True)\n",
    "bin_width = bin_edges[1] - bin_edges[0]\n",
    "start_index, end_index = compute_high_confidence_interval(likelihoods, bin_width)\n",
    "\n",
    "for i in range(start_index, end_index):\n",
    "    patches[i].set_facecolor('yellow')\n",
    "plt.xlabel('Binned Frequency')\n",
    "plt.ylabel('Relative Likelihood')\n",
    "\n",
    "plt.show()"
   ]
  },
  {
   "cell_type": "code",
   "execution_count": null,
   "id": "2437ad06",
   "metadata": {},
   "outputs": [],
   "source": [
    "# ***********************************\n",
    "# This code will take an hour to run\n",
    "# ***********************************\n",
    "# Compute a confidence interval for 150 million shuffles with a min_red_fraction >0.75\n",
    "np.random.seed(0)\n",
    "def repeat_game(number_repeats, min_red_fraction):\n",
    "    observations = np.array([execute_strategy(min_red_fraction) for _ in range(number_repeats)])\n",
    "    return observations.mean()\n",
    "\n",
    "np.random.seed(0)\n",
    "frequency_array = np.array([repeat_game(50000, 0.75) for _ in range(3000)])\n",
    "\n",
    "likelihoods, bin_edges, = np.histogram(frequency_array, bins='auto', density=True)\n",
    "bin_width = bin_edges[1] - bin_edges[0]\n",
    "start_index, end_index = compute_high_confidence_interval(likelihoods, bin_width)"
   ]
  },
  {
   "cell_type": "code",
   "execution_count": 20,
   "id": "44ebc204",
   "metadata": {},
   "outputs": [],
   "source": [
    "def get_matching_event(event_condition, sample_space):\n",
    "    return set([outcome for outcome in sample_space if event_condition(outcome)])\n",
    "\n",
    "\n",
    "\n",
    "def compute_event_probability(event_condition, generic_sample_space):\n",
    "    event = get_matching_event(event_condition, generic_sample_space)\n",
    "    \n",
    "    # check to see if its a generic set and not a dictionary\n",
    "    if type(generic_sample_space) == type(set()):\n",
    "        return len(event) / len(generic_sample_space)\n",
    "    \n",
    "    # otherwise, deal with the weights of the in the sample space dictionary\n",
    "    event_size = sum(generic_sample_space[outcome] for outcome in event)\n",
    "    \n",
    "    return event_size / sum(generic_sample_space.values())\n",
    "\n",
    "import itertools"
   ]
  },
  {
   "cell_type": "code",
   "execution_count": 21,
   "id": "cf2af717",
   "metadata": {},
   "outputs": [
    {
     "name": "stdout",
     "output_type": "stream",
     "text": [
      "Probability of a win is 0.5\n"
     ]
    }
   ],
   "source": [
    "# 4.2 Optimizing strategies using the sample space for a 10-card deck\n",
    "total_cards = 10\n",
    "total_red_cards = int(total_cards / 2)\n",
    "total_black_cards = total_red_cards\n",
    "unshuffled_deck = [1] * total_red_cards + [0] * total_black_cards\n",
    "sample_space = set(itertools.permutations(unshuffled_deck))\n",
    "win_condition = lambda x: execute_strategy(shuffled_deck = np.array(x))\n",
    "prob_win = compute_event_probability(win_condition, sample_space)\n",
    "print(f\"Probability of a win is {prob_win}\")"
   ]
  },
  {
   "cell_type": "code",
   "execution_count": 22,
   "id": "859cd9c9",
   "metadata": {},
   "outputs": [
    {
     "name": "stdout",
     "output_type": "stream",
     "text": [
      "Lowest probability of win is 0.5\n",
      "Highest probability of win is 0.5\n"
     ]
    }
   ],
   "source": [
    "# Trying out different min_red_fractions from 0.5 to 1.0\n",
    "def scan_strategies():\n",
    "    fractions = [value for value in range(50, 100)]\n",
    "    probabilities = []\n",
    "    for frac in fractions:\n",
    "        win_condition = lambda x: execute_strategy(frac, shuffled_deck = np.array(x))\n",
    "        probabilities.append(compute_event_probability(win_condition, sample_space))\n",
    "        \n",
    "    return probabilities\n",
    "\n",
    "probabilities = scan_strategies()\n",
    "print(f\"Lowest probability of win is {min(probabilities)}\")\n",
    "print(f\"Highest probability of win is {max(probabilities)}\")\n",
    "# The different strategies do not affect the outcome"
   ]
  },
  {
   "cell_type": "code",
   "execution_count": 23,
   "id": "abaa9504",
   "metadata": {},
   "outputs": [
    {
     "name": "stdout",
     "output_type": "stream",
     "text": [
      "No winning strategy found for deck of size 2\n",
      "No winning strategy found for deck of size 4\n",
      "No winning strategy found for deck of size 6\n",
      "No winning strategy found for deck of size 8\n"
     ]
    }
   ],
   "source": [
    "# Trying out different deck sizes\n",
    "for total_cards in [2, 4, 6, 8]:\n",
    "    total_red_cards = int(total_cards / 2)\n",
    "    total_black_cards = total_red_cards\n",
    "    unshuffled_deck = [1] * total_red_cards + [0] * total_black_cards\n",
    "    \n",
    "    sample_space = set(itertools.permutations(unshuffled_deck))\n",
    "    probabilities = scan_strategies()\n",
    "    if all(prob == 0.5 for prob in probabilities):\n",
    "        print(f\"No winning strategy found for deck of size {total_cards}\")\n",
    "    else:\n",
    "        print(f\"Winning strategy found for deck of size {total_cards}\")"
   ]
  },
  {
   "cell_type": "code",
   "execution_count": 24,
   "id": "99226157",
   "metadata": {},
   "outputs": [
    {
     "data": {
      "image/png": "[encoded data removed]",
      "text/plain": [
       "<Figure size 432x288 with 1 Axes>"
      ]
     },
     "metadata": {
      "needs_background": "light"
     },
     "output_type": "display_data"
    }
   ],
   "source": [
    "# min_red_fraction plotted against sampled frequencies for all four possible scenarios:\n",
    "np.random.seed(0)\n",
    "total_cards = 52\n",
    "total_red_cards = 26\n",
    "unshuffled_deck = red_cards + black_cards\n",
    "\n",
    "def repeat_game_detailed(number_repeats, min_red_fraction):\n",
    "    observations = [execute_strategy(min_red_fraction, return_index=True) for _ in range(number_repeats)]\n",
    "    successes = [index for index, card, in observations if card == 1]\n",
    "    halt_success = len([index for index in successes if index != 51])\n",
    "    no_halt_success = len(successes) - halt_success\n",
    "    \n",
    "    failures = [index for index, card, in observations if card == 0]\n",
    "    halt_failure = len([index for index in failures if index != 51])\n",
    "    no_halt_failure = len(failures) - halt_failure\n",
    "    result = [halt_success, halt_failure, no_halt_success, no_halt_failure]\n",
    "    return [r / number_repeats for r in result]\n",
    "\n",
    "fractions = [value / 100 for value in range(50, 100)]\n",
    "num_repeats = 50000\n",
    "result_types = [[], [], [], []]\n",
    "\n",
    "for fraction in fractions:\n",
    "    result = repeat_game_detailed(num_repeats, fraction)\n",
    "    for i in range(4):\n",
    "        result_types[i].append(result[i])\n",
    "        \n",
    "plt.plot(fractions, result_types[0], label='A) Strategy Halts. We Win.')\n",
    "plt.plot(fractions, result_types[1], linestyle='--', label='B) Strategy Halts. We Lose.')\n",
    "plt.plot(fractions, result_types[2], linestyle=':', label='C) No Halt. We Win.')\n",
    "plt.plot(fractions, result_types[3], linestyle='-.', label='B) No Halt. We Lose.')\n",
    "plt.xlabel('min_red_fraction')\n",
    "plt.ylabel('Frequency')\n",
    "plt.legend(bbox_to_anchor=(1.0, 0.5))\n",
    "plt.show()"
   ]
  },
  {
   "cell_type": "code",
   "execution_count": 25,
   "id": "c5355438",
   "metadata": {},
   "outputs": [],
   "source": [
    "# The probabilities even out to be 0.5 win/loss no matter what strategy we choose\n",
    "# This is because of the random shuffles every time we play\n",
    "\n",
    "# Therefore the optimal strategy is just to pick the first card as it is the fastes way to see\n",
    "# if we won or lost the 50/50 flip"
   ]
  },
  {
   "cell_type": "code",
   "execution_count": 26,
   "id": "ce53a46c",
   "metadata": {},
   "outputs": [],
   "source": [
    "# Optimal Winning Strategy:\n",
    "def optimal_strategy(shuffled_deck):\n",
    "    return shuffled_deck[0]"
   ]
  },
  {
   "cell_type": "code",
   "execution_count": null,
   "id": "fe1eff48",
   "metadata": {},
   "outputs": [],
   "source": []
  }
 ],
 "metadata": {
  "kernelspec": {
   "display_name": "Python 3 (ipykernel)",
   "language": "python",
   "name": "python3"
  },
  "language_info": {
   "codemirror_mode": {
    "name": "ipython",
    "version": 3
   },
   "file_extension": ".py",
   "mimetype": "text/x-python",
   "name": "python",
   "nbconvert_exporter": "python",
   "pygments_lexer": "ipython3",
   "version": "3.9.16"
  }
 },
 "nbformat": 4,
 "nbformat_minor": 5
}
