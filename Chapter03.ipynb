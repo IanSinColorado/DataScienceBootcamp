{
 "cells": [
  {
   "cell_type": "code",
   "execution_count": 1,
   "id": "5f51b6e3",
   "metadata": {},
   "outputs": [],
   "source": [
    " # 3.1 Simulating Random Coin Flips and Die Rolls using NumPy\n",
    "import numpy as np\n",
    "die_roll = np.random.randint(1, 7)\n",
    "assert 1 <= die_roll <= 6"
   ]
  },
  {
   "cell_type": "code",
   "execution_count": 2,
   "id": "a2bef979",
   "metadata": {},
   "outputs": [],
   "source": [
    "np.random.seed(0)\n",
    "die_rolls = [np.random.randint(1, 7) for _ in range(3)]\n",
    "assert die_rolls == [5,6,1]"
   ]
  },
  {
   "cell_type": "code",
   "execution_count": 3,
   "id": "711092ea",
   "metadata": {},
   "outputs": [
    {
     "name": "stdout",
     "output_type": "stream",
     "text": [
      "Coin landed on tails\n"
     ]
    }
   ],
   "source": [
    "# Generating a random coin flip\n",
    "np.random.seed(0)\n",
    "coin_flip = np.random.randint(0, 2)\n",
    "print(f\"Coin landed on {'heads' if coin_flip == 1 else 'tails'}\")"
   ]
  },
  {
   "cell_type": "code",
   "execution_count": 4,
   "id": "e35aa7e7",
   "metadata": {},
   "outputs": [
    {
     "name": "stdout",
     "output_type": "stream",
     "text": [
      "Frequency of Heads is 0.8\n"
     ]
    }
   ],
   "source": [
    "# Sequence of 10 coins\n",
    "np.random.seed(0)\n",
    "\n",
    "# Function to count the frequency of heads in a sequence of coins\n",
    "def frequency_heads(coin_flip_sequence):\n",
    "    total_heads = len([head for head in coin_flip_sequence if head == 1])\n",
    "    # total_heads = sum(coin_flip_sequence)\n",
    "    return total_heads / len(coin_flip_sequence)\n",
    "\n",
    "coin_flips = [np.random.randint(0, 2) for _ in range(10)]\n",
    "freq_heads = frequency_heads(coin_flips)\n",
    "print(f\"Frequency of Heads is {freq_heads}\")"
   ]
  },
  {
   "cell_type": "code",
   "execution_count": 6,
   "id": "df93ef01",
   "metadata": {},
   "outputs": [
    {
     "data": {
      "image/png": "[encoded data removed]",
      "text/plain": [
       "<Figure size 640x480 with 1 Axes>"
      ]
     },
     "metadata": {},
     "output_type": "display_data"
    }
   ],
   "source": [
    "import matplotlib.pyplot as plt\n",
    "# Flip the coin 1000 times\n",
    "np.random.seed(0)\n",
    "coin_flips = []\n",
    "frequencies = []\n",
    "for _ in range(1000):\n",
    "    coin_flips.append(np.random.randint(0, 2))\n",
    "    frequencies.append(frequency_heads(coin_flips))\n",
    "\n",
    "# Plotting the frequency against the coin_flip number along with the 0.5 frequency line\n",
    "plt.plot(list(range(1000)), frequencies)\n",
    "plt.axhline(0.5, color='k')\n",
    "plt.xlabel('Number of Coin Flips')\n",
    "plt.ylabel('Head-Frequency')\n",
    "plt.show()\n",
    "# The more coins we flip, the closer the plotted line becomes the horizontal line"
   ]
  },
  {
   "cell_type": "code",
   "execution_count": 7,
   "id": "39ef8066",
   "metadata": {},
   "outputs": [
    {
     "name": "stdout",
     "output_type": "stream",
     "text": [
      "Let's flip the biased coin once.\n",
      "Biased coin landed on heads.\n",
      "\n",
      "Let's flips the biased coin 10 times.\n",
      "6 heads were observed out of 10 biased coin flips.\n"
     ]
    }
   ],
   "source": [
    "# 3.1.1 Analyzing Biased Coin Flips\n",
    "np.random.seed(0)\n",
    "print(f\"Let's flip the biased coin once.\")\n",
    "coin_flip = np.random.binomial(1, 0.7)\n",
    "print(f\"Biased coin landed on {'heads' if coin_flip == 1 else 'tails'}.\")\n",
    "\n",
    "print(f\"\\nLet's flips the biased coin 10 times.\")\n",
    "number_coin_flips = 10\n",
    "head_count = np.random.binomial(number_coin_flips, .7)\n",
    "print((f\"{head_count} heads were observed out of {number_coin_flips} biased coin flips.\"))"
   ]
  },
  {
   "cell_type": "code",
   "execution_count": 8,
   "id": "332ee509",
   "metadata": {},
   "outputs": [
    {
     "name": "stdout",
     "output_type": "stream",
     "text": [
      "Frequency of Heads is 0.697\n"
     ]
    }
   ],
   "source": [
    "# Flipping the biased coin 1000 times\n",
    "np.random.seed(0)\n",
    "head_count = np.random.binomial(1000, 0.7)\n",
    "frequency = head_count / 1000\n",
    "print(f\"Frequency of Heads is {frequency}\")"
   ]
  },
  {
   "cell_type": "code",
   "execution_count": 9,
   "id": "1f2bbef9",
   "metadata": {},
   "outputs": [
    {
     "name": "stdout",
     "output_type": "stream",
     "text": [
      "Frequency at iteration 1 is 0.69\n",
      "Frequency at iteration 2 is 0.7\n",
      "Frequency equals the probability!\n",
      "\n",
      "Frequency at iteration 3 is 0.707\n",
      "Frequency at iteration 4 is 0.702\n",
      "Frequency at iteration 5 is 0.699\n"
     ]
    }
   ],
   "source": [
    "np.random.seed(0)\n",
    "assert np.random.binomial(1000, 0.7) / 1000 == 0.697\n",
    "for i in range(1, 6):\n",
    "    head_count = np.random.binomial(1000, 0.7)\n",
    "    frequency = head_count / 1000\n",
    "    print(f\"Frequency at iteration {i} is {frequency}\")\n",
    "    if frequency == 0.7:\n",
    "        print(f\"Frequency equals the probability!\\n\")"
   ]
  },
  {
   "cell_type": "code",
   "execution_count": 10,
   "id": "b06384e5",
   "metadata": {},
   "outputs": [],
   "source": [
    "# 3.2 Computing confidence intervals using histograms and NumPy arrays\n",
    "# flipping the biased coin 1000 * 500 times\n",
    "np.random.seed(0)\n",
    "head_count_list = [np.random.binomial(1000, 0.7) for _ in range(500)]"
   ]
  },
  {
   "cell_type": "code",
   "execution_count": 12,
   "id": "8b442077",
   "metadata": {},
   "outputs": [],
   "source": [
    "# More efficient with NumPy optomization\n",
    "np.random.seed(0)\n",
    "head_count_array = np.random.binomial(1000, 0.7, 500)"
   ]
  },
  {
   "cell_type": "code",
   "execution_count": 13,
   "id": "c6948508",
   "metadata": {},
   "outputs": [],
   "source": [
    "assert head_count_array.tolist() == head_count_list"
   ]
  },
  {
   "cell_type": "code",
   "execution_count": 14,
   "id": "57467997",
   "metadata": {},
   "outputs": [],
   "source": [
    "new_array = np.array(head_count_list)\n",
    "assert np.array_equal(new_array, head_count_array) == True"
   ]
  },
  {
   "cell_type": "code",
   "execution_count": 16,
   "id": "7de56bdf",
   "metadata": {},
   "outputs": [],
   "source": [
    "# Easily divide a whole array of numbers\n",
    "frequency_array = head_count_array / 1000\n",
    "assert frequency_array.tolist() == [head_count / 1000 for head_count in head_count_list]\n",
    "assert frequency_array.tolist() == list(map(lambda x: x / 1000, head_count_list))"
   ]
  },
  {
   "cell_type": "code",
   "execution_count": 17,
   "id": "436740bb",
   "metadata": {},
   "outputs": [
    {
     "name": "stdout",
     "output_type": "stream",
     "text": [
      "[0.697 0.69  0.7   0.707 0.702 0.699 0.723 0.67  0.702 0.713 0.721 0.689\n",
      " 0.711 0.697 0.717 0.691 0.731 0.697 0.722 0.728]\n"
     ]
    }
   ],
   "source": [
    "# Printing a NumPy frequency array\n",
    "print(frequency_array[:20])"
   ]
  },
  {
   "cell_type": "code",
   "execution_count": 19,
   "id": "c8f1b5f4",
   "metadata": {},
   "outputs": [
    {
     "name": "stdout",
     "output_type": "stream",
     "text": [
      "Minimum frequency observed: 0.656\n",
      "Maximum frequency observed: 0.733\n",
      "Difference accross frequency range: 0.07699999999999996\n"
     ]
    }
   ],
   "source": [
    "# Seeing the differences in the head frequency in 500 1000 sequence flips\n",
    "min_freq = frequency_array.min()\n",
    "max_freq = frequency_array.max()\n",
    "print(f\"Minimum frequency observed: {min_freq}\")\n",
    "print(f\"Maximum frequency observed: {max_freq}\")\n",
    "print(f\"Difference accross frequency range: {max_freq - min_freq}\")"
   ]
  },
  {
   "cell_type": "code",
   "execution_count": 21,
   "id": "dc69d4fb",
   "metadata": {},
   "outputs": [
    {
     "data": {
      "image/png": "[encoded data removed]",
      "text/plain": [
       "<Figure size 640x480 with 1 Axes>"
      ]
     },
     "metadata": {},
     "output_type": "display_data"
    }
   ],
   "source": [
    "from collections import defaultdict\n",
    "from itertools import product\n",
    "frequency_counts = defaultdict(int)\n",
    "for frequency in frequency_array:\n",
    "    frequency_counts[frequency] += 1\n",
    "    \n",
    "frequencies = list(frequency_counts.keys())\n",
    "counts = [frequency_counts[freq] for freq in frequencies]\n",
    "\n",
    "plt.scatter(frequencies, counts)\n",
    "plt.xlabel('Frequency')\n",
    "plt.ylabel('Count')\n",
    "plt.show()"
   ]
  },
  {
   "cell_type": "code",
   "execution_count": 24,
   "id": "9362fdd3",
   "metadata": {},
   "outputs": [
    {
     "data": {
      "image/png": "[encoded data removed]",
      "text/plain": [
       "<Figure size 640x480 with 1 Axes>"
      ]
     },
     "metadata": {},
     "output_type": "display_data"
    }
   ],
   "source": [
    "# 3.2.1 Binning similar points in histogram plots\n",
    "plt.hist(frequency_array, bins='auto', edgecolor='black')\n",
    "plt.xlabel('Binned Frequency')\n",
    "plt.ylabel('Count')\n",
    "plt.show()"
   ]
  },
  {
   "cell_type": "code",
   "execution_count": 25,
   "id": "5d8e539e",
   "metadata": {},
   "outputs": [
    {
     "name": "stdout",
     "output_type": "stream",
     "text": [
      "Number of Bins: 16\n"
     ]
    },
    {
     "data": {
      "image/png": "[encoded data removed]",
      "text/plain": [
       "<Figure size 640x480 with 1 Axes>"
      ]
     },
     "metadata": {},
     "output_type": "display_data"
    }
   ],
   "source": [
    "# The first variable returned by plt.hist() is the total counts of each bin\n",
    "counts, _, _ = plt.hist(frequency_array, bins='auto', edgecolor='black')\n",
    "\n",
    "print(f\"Number of Bins: {counts.size}\")"
   ]
  },
  {
   "cell_type": "code",
   "execution_count": 33,
   "id": "ae8dabcf",
   "metadata": {},
   "outputs": [
    {
     "name": "stdout",
     "output_type": "stream",
     "text": [
      "Bin width: 0.004812499999999997\n"
     ]
    },
    {
     "data": {
      "image/png": "[encoded data removed]",
      "text/plain": [
       "<Figure size 640x480 with 1 Axes>"
      ]
     },
     "metadata": {},
     "output_type": "display_data"
    }
   ],
   "source": [
    "# Then second variable returned by plt.hist() is the bin edges on the x axis\n",
    "counts, bin_edges, _ = plt.hist(frequency_array, bins='auto', edgecolor='black')\n",
    "\n",
    "bin_width = bin_edges[1] - bin_edges[0]\n",
    "assert bin_width == (max_freq - min_freq) / counts.size\n",
    "print(f\"Bin width: {bin_width}\")"
   ]
  },
  {
   "cell_type": "code",
   "execution_count": 39,
   "id": "95c99d2f",
   "metadata": {},
   "outputs": [
    {
     "name": "stdout",
     "output_type": "stream",
     "text": [
      "The bin for frequency range 0.656 - 0.6608125 contains 1 element\n",
      "The bin for frequency range 0.6800625 - 0.684875 contains 20 elements\n"
     ]
    }
   ],
   "source": [
    "# Getting a bin's frequency and size\n",
    "def output_bin_coverage(i):\n",
    "    count = int(counts[i])\n",
    "    range_start, range_end = bin_edges[i], bin_edges[i+1]\n",
    "    range_string = f\"{range_start} - {range_end}\"\n",
    "    print(f\"The bin for frequency range {range_string} contains {count} element{'' if count == 1 else 's'}\")\n",
    "    \n",
    "output_bin_coverage(0)\n",
    "output_bin_coverage(5)"
   ]
  },
  {
   "cell_type": "code",
   "execution_count": 40,
   "id": "82d2bf8d",
   "metadata": {},
   "outputs": [],
   "source": [
    "assert counts[counts.argmax()] == counts.max()"
   ]
  },
  {
   "cell_type": "code",
   "execution_count": 41,
   "id": "79d4309c",
   "metadata": {},
   "outputs": [
    {
     "name": "stdout",
     "output_type": "stream",
     "text": [
      "The bin for frequency range 0.6945 - 0.6993125 contains 72 elements\n"
     ]
    }
   ],
   "source": [
    "# Using argmax() to return histogram's peak\n",
    "output_bin_coverage(counts.argmax())"
   ]
  },
  {
   "cell_type": "code",
   "execution_count": 42,
   "id": "7c03db41",
   "metadata": {},
   "outputs": [
    {
     "data": {
      "image/png": "[encoded data removed]",
      "text/plain": [
       "<Figure size 640x480 with 1 Axes>"
      ]
     },
     "metadata": {},
     "output_type": "display_data"
    }
   ],
   "source": [
    "# 3.2.2 Deriving probabilities from histograms\n",
    "# Plotting a histogram's relative likelihoods\n",
    "likelihoods, bin_edges, _ = plt.hist(frequency_array, bins='auto', edgecolor='black', density=True)\n",
    "plt.xlabel('Binned Frequency')\n",
    "plt.ylabel('Relative Likelihood')\n",
    "plt.show()"
   ]
  },
  {
   "cell_type": "code",
   "execution_count": 43,
   "id": "d8518dad",
   "metadata": {},
   "outputs": [],
   "source": [
    "# Computing the total area under a histogram\n",
    "assert likelihoods.sum() * bin_width == 1.0"
   ]
  },
  {
   "cell_type": "code",
   "execution_count": 44,
   "id": "4382e16d",
   "metadata": {},
   "outputs": [
    {
     "name": "stdout",
     "output_type": "stream",
     "text": [
      "Sampled frequency falls within interval 0.6945 - 0.6993125 with probability 0.144\n"
     ]
    }
   ],
   "source": [
    "# Computing the probability of the peak frequencies\n",
    "index = likelihoods.argmax()\n",
    "area = likelihoods[index] * bin_width\n",
    "range_start, range_end = bin_edges[index], bin_edges[index+1]\n",
    "range_string = f\"{range_start} - {range_end}\"\n",
    "print(f\"Sampled frequency falls within interval {range_string} with probability {area}\")"
   ]
  },
  {
   "cell_type": "code",
   "execution_count": 45,
   "id": "c4baec7f",
   "metadata": {},
   "outputs": [
    {
     "name": "stdout",
     "output_type": "stream",
     "text": [
      "Sampled frequency falls within interval 0.6896875 - 0.704125 with probability 0.464\n"
     ]
    }
   ],
   "source": [
    "# Increasing the probability of a frequency range (expand the range lol)\n",
    "peak_index = likelihoods.argmax()\n",
    "start_index, end_index = (peak_index - 1, peak_index + 2)\n",
    "area = likelihoods[start_index: end_index + 1].sum() * bin_width\n",
    "range_start, range_end = bin_edges[start_index], bin_edges[end_index]\n",
    "range_string = f\"{range_start} - {range_end}\"\n",
    "print(f\"Sampled frequency falls within interval {range_string} with probability {area}\")"
   ]
  },
  {
   "cell_type": "code",
   "execution_count": 46,
   "id": "871241b1",
   "metadata": {},
   "outputs": [
    {
     "name": "stdout",
     "output_type": "stream",
     "text": [
      "The frequency range 0.6704375 - 0.723375 represents a 95.40% confidence interval\n"
     ]
    },
    {
     "data": {
      "text/plain": [
       "(3, 14)"
      ]
     },
     "execution_count": 46,
     "metadata": {},
     "output_type": "execute_result"
    }
   ],
   "source": [
    "# Computing a high confidence interval (>= 95%)\n",
    "def compute_high_confidence_interval(likelihoods, bin_width):\n",
    "    peak_index = likelihoods.argmax()\n",
    "    area = likelihoods[peak_index] * bin_width\n",
    "    start_index, end_index = peak_index, peak_index + 1\n",
    "    while area < 0.95:\n",
    "        if start_index > 0:\n",
    "            start_index -= 1\n",
    "        if end_index < (likelihoods.size - 1):\n",
    "            end_index += 1\n",
    "            \n",
    "        area = likelihoods[start_index : end_index + 1].sum() * bin_width\n",
    "\n",
    "    range_start, range_end = bin_edges[start_index], bin_edges[end_index]\n",
    "    range_string = f\"{range_start} - {range_end}\"\n",
    "    print(f\"The frequency range {range_string} represents a {100 * area:.2f}% confidence interval\")\n",
    "    return start_index, end_index\n",
    "\n",
    "compute_high_confidence_interval(likelihoods, bin_width)"
   ]
  },
  {
   "cell_type": "code",
   "execution_count": 50,
   "id": "898766ee",
   "metadata": {},
   "outputs": [],
   "source": [
    "# 3.2.3 Shrinking the range of a high confidence interval\n",
    "# Sample 100,000 cases instead of 500\n",
    "np.random.seed(0)\n",
    "head_count_array = np.random.binomial(1000, 0.7, 100000)\n",
    "frequency_array = head_count_array / 1000\n",
    "assert frequency_array.size == 100000"
   ]
  },
  {
   "cell_type": "code",
   "execution_count": 51,
   "id": "1d9b55d0",
   "metadata": {},
   "outputs": [
    {
     "name": "stdout",
     "output_type": "stream",
     "text": [
      "The frequency range 0.6704285714285715 - 0.7278571428571429 represents a 95.42% confidence interval\n"
     ]
    },
    {
     "data": {
      "image/png": "[encoded data removed]",
      "text/plain": [
       "<Figure size 640x480 with 1 Axes>"
      ]
     },
     "metadata": {},
     "output_type": "display_data"
    }
   ],
   "source": [
    "# Coloring histogram bars over an interval\n",
    "likelihoods, bin_edges, patches = plt.hist(frequency_array, bins='auto', edgecolor='black', density=True)\n",
    "bin_width = bin_edges[1] - bin_edges[0]\n",
    "start_index, end_index = compute_high_confidence_interval(likelihoods, bin_width)\n",
    "\n",
    "for i in range(start_index, end_index):\n",
    "    patches[i].set_facecolor('yellow')\n",
    "plt.xlabel('Binned Frequency')\n",
    "plt.ylabel('Relative Likelihood')\n",
    "plt.show()"
   ]
  },
  {
   "cell_type": "code",
   "execution_count": 52,
   "id": "6d4f03fa",
   "metadata": {},
   "outputs": [
    {
     "name": "stdout",
     "output_type": "stream",
     "text": [
      "The frequency range 0.6957690566037736 - 0.7037079245283019 represents a 95.06% confidence interval\n"
     ]
    },
    {
     "data": {
      "image/png": "[encoded data removed]",
      "text/plain": [
       "<Figure size 640x480 with 1 Axes>"
      ]
     },
     "metadata": {},
     "output_type": "display_data"
    }
   ],
   "source": [
    "# Sampling 5 billion flipped coins\n",
    "np.random.seed(0)\n",
    "head_count_array = np.random.binomial(50000, 0.7, 100000)\n",
    "frequency_array = head_count_array / 50000\n",
    "\n",
    "likelihoods, bin_edges, patches = plt.hist(frequency_array, bins='auto', edgecolor='black', density=True)\n",
    "bin_width = bin_edges[1] - bin_edges[0]\n",
    "start_index, end_index = compute_high_confidence_interval(likelihoods, bin_width)\n",
    "\n",
    "for i in range(start_index, end_index):\n",
    "    patches[i].set_facecolor('yellow')\n",
    "plt.xlabel('Binned Frequency')\n",
    "plt.ylabel('Relative Likelihood')\n",
    "plt.show()"
   ]
  },
  {
   "cell_type": "code",
   "execution_count": 53,
   "id": "2483562d",
   "metadata": {},
   "outputs": [
    {
     "name": "stdout",
     "output_type": "stream",
     "text": [
      "The frequency range 0.6957690566037736 - 0.7037079245283019 represents a 95.06% confidence interval\n"
     ]
    },
    {
     "data": {
      "text/plain": [
       "(47, 114)"
      ]
     },
     "execution_count": 53,
     "metadata": {},
     "output_type": "execute_result"
    }
   ],
   "source": [
    "# 3.2.4 Computing histograms in NumPy\n",
    "# Don't need to call plt.hist() because it already calls np.histogram()\n",
    "# Try just using the np.histogram() without any visualization:\n",
    "np.random.seed(0)\n",
    "likelihoods, bin_edges = np.histogram(frequency_array, bins='auto', density=True)\n",
    "bin_width = bin_edges[1] - bin_edges[0]\n",
    "compute_high_confidence_interval(likelihoods, bin_width)"
   ]
  },
  {
   "cell_type": "code",
   "execution_count": 55,
   "id": "5fbe1978",
   "metadata": {},
   "outputs": [],
   "source": [
    "# 3.3 Using Confidence intervals to analyze a biased deck of cards\n",
    "# Generate a 52 card deck with an uneven amount of black and red cards|\n",
    "np.random.seed(0)\n",
    "total_cards = 52\n",
    "red_card_count = np.random.randint(0, total_cards + 1)\n",
    "black_card_count = total_cards - red_card_count\n",
    "assert black_card_count != red_card_count"
   ]
  },
  {
   "cell_type": "code",
   "execution_count": 58,
   "id": "6d0087ef",
   "metadata": {},
   "outputs": [],
   "source": [
    "def compute_event_probability(event_condition, generic_sample_space):\n",
    "    event = get_matching_event(event_condition, generic_sample_space)\n",
    "    \n",
    "    # check to see if its a generic set and not a dictionary\n",
    "    if type(generic_sample_space) == type(set()):\n",
    "        return len(event) / len(generic_sample_space)\n",
    "    \n",
    "    # otherwise, deal with the weights of the in the sample space dictionary\n",
    "    event_size = sum(generic_sample_space[outcome] for outcome in event)\n",
    "    \n",
    "    return event_size / sum(generic_sample_space.values())\n",
    "\n",
    "def get_matching_event(event_condition, sample_space):\n",
    "    return set([outcome for outcome in sample_space if event_condition(outcome)])"
   ]
  },
  {
   "cell_type": "code",
   "execution_count": 59,
   "id": "8fede3e8",
   "metadata": {},
   "outputs": [],
   "source": [
    "weighted_sample_space = {'red_card': red_card_count, 'black_card': black_card_count}\n",
    "prob_red = compute_event_probability(lambda x: x == 'red_card', weighted_sample_space)"
   ]
  },
  {
   "cell_type": "code",
   "execution_count": 60,
   "id": "2766fad5",
   "metadata": {},
   "outputs": [],
   "source": [
    "assert prob_red == red_card_count / total_cards"
   ]
  },
  {
   "cell_type": "code",
   "execution_count": 61,
   "id": "7f8b8457",
   "metadata": {},
   "outputs": [
    {
     "name": "stdout",
     "output_type": "stream",
     "text": [
      "The first card in the shuffled deck is red\n"
     ]
    }
   ],
   "source": [
    "np.random.seed(0)\n",
    "color = 'red' if np.random.binomial(1, prob_red) else 'black'\n",
    "print(f\"The first card in the shuffled deck is {color}\")"
   ]
  },
  {
   "cell_type": "code",
   "execution_count": 62,
   "id": "87319e73",
   "metadata": {},
   "outputs": [
    {
     "name": "stdout",
     "output_type": "stream",
     "text": [
      "In 8 of out 10 shuffles, a red card came up first.\n"
     ]
    }
   ],
   "source": [
    "# shuffle the deck 10 times and see how many times a red is drawn\n",
    "np.random.seed(0)\n",
    "red_count = np.random.binomial(10, prob_red)\n",
    "print(f\"In {red_count} of out 10 shuffles, a red card came up first.\")"
   ]
  },
  {
   "cell_type": "code",
   "execution_count": 63,
   "id": "5d3cf636",
   "metadata": {},
   "outputs": [
    {
     "name": "stdout",
     "output_type": "stream",
     "text": [
      "The frequency range 0.842865 - 0.8491394594594595 represents a 95.16% confidence interval\n"
     ]
    }
   ],
   "source": [
    "# shuffling the deck 50000 times and redo the shuffle procedure 100000 times\n",
    "np.random.seed(0)\n",
    "red_card_count_array = np.random.binomial(50000, prob_red, 100000)\n",
    "frequency_array = red_card_count_array / 50000\n",
    "\n",
    "likelihoods, bin_edges = np.histogram(frequency_array, bins='auto', density=True)\n",
    "\n",
    "bin_width = bin_edges[1] - bin_edges[0]\n",
    "start_index, end_index = compute_high_confidence_interval(likelihoods, bin_width)"
   ]
  },
  {
   "cell_type": "code",
   "execution_count": 64,
   "id": "4e7856a0",
   "metadata": {},
   "outputs": [
    {
     "name": "stdout",
     "output_type": "stream",
     "text": [
      "The number of red cards in the deck is between 44 and 44\n"
     ]
    }
   ],
   "source": [
    "# Ranging out how many cards are in the deck\n",
    "range_start = round(0.842865 * total_cards)\n",
    "range_end = round(0.849139 * total_cards)\n",
    "print(f\"The number of red cards in the deck is between {range_start} and {range_end}\")"
   ]
  },
  {
   "cell_type": "code",
   "execution_count": 65,
   "id": "85dc8b30",
   "metadata": {},
   "outputs": [
    {
     "name": "stdout",
     "output_type": "stream",
     "text": [
      "We are correct! There are 44 red cards in the deck\n"
     ]
    }
   ],
   "source": [
    "# Check solution \n",
    "if red_card_count == 44:\n",
    "    print(f\"We are correct! There are 44 red cards in the deck\")\n",
    "else:\n",
    "    print(f\"Oops! Our sampling estimation was wrong.\")"
   ]
  },
  {
   "cell_type": "code",
   "execution_count": 66,
   "id": "6d63e61a",
   "metadata": {},
   "outputs": [
    {
     "name": "stdout",
     "output_type": "stream",
     "text": [
      "[0, 0, 1, 1]\n"
     ]
    }
   ],
   "source": [
    "# 3.4 Using Permutations to Shuffle Cards\n",
    "np.random.seed(0)\n",
    "card_deck = [1, 1, 0, 0]\n",
    "np.random.shuffle(card_deck)\n",
    "print(card_deck)"
   ]
  },
  {
   "cell_type": "code",
   "execution_count": null,
   "id": "975784a9",
   "metadata": {},
   "outputs": [],
   "source": [
    "import itertools"
   ]
  },
  {
   "cell_type": "code",
   "execution_count": 67,
   "id": "da9e474e",
   "metadata": {},
   "outputs": [
    {
     "name": "stdout",
     "output_type": "stream",
     "text": [
      "[0 0 1 1]\n"
     ]
    }
   ],
   "source": [
    "np.random.seed(0)\n",
    "unshuffled_deck = [1, 1, 0, 0]\n",
    "shuffled_deck = np.random.permutation(unshuffled_deck)\n",
    "assert unshuffled_deck == [1, 1, 0, 0]\n",
    "print(shuffled_deck)"
   ]
  },
  {
   "cell_type": "code",
   "execution_count": 68,
   "id": "c86cb1f5",
   "metadata": {},
   "outputs": [
    {
     "name": "stdout",
     "output_type": "stream",
     "text": [
      "<class 'numpy.ndarray'>\n"
     ]
    }
   ],
   "source": [
    "print(type(shuffled_deck))"
   ]
  },
  {
   "cell_type": "code",
   "execution_count": 69,
   "id": "a88fdd33",
   "metadata": {},
   "outputs": [
    {
     "name": "stdout",
     "output_type": "stream",
     "text": [
      "(1, 1, 0, 0)\n",
      "(1, 1, 0, 0)\n",
      "(1, 0, 1, 0)\n"
     ]
    }
   ],
   "source": [
    "import itertools\n",
    "for permutation in list(itertools.permutations(unshuffled_deck))[:3]:\n",
    "    print(permutation)"
   ]
  },
  {
   "cell_type": "code",
   "execution_count": 71,
   "id": "6adfe55f",
   "metadata": {},
   "outputs": [
    {
     "name": "stdout",
     "output_type": "stream",
     "text": [
      "(0, 1, 2, 3)\n",
      "(0, 1, 3, 2)\n",
      "(0, 2, 1, 3)\n"
     ]
    }
   ],
   "source": [
    "# Seeing if it actually made a permutations\n",
    "for permutation in list(itertools.permutations([0, 1, 2, 3]))[:3]:\n",
    "    print(permutation)"
   ]
  },
  {
   "cell_type": "code",
   "execution_count": 72,
   "id": "98b09541",
   "metadata": {},
   "outputs": [
    {
     "name": "stdout",
     "output_type": "stream",
     "text": [
      "Permutation (1, 1, 0, 0) occurs 4 times\n",
      "Permutation (1, 0, 1, 0) occurs 4 times\n",
      "Permutation (1, 0, 0, 1) occurs 4 times\n",
      "Permutation (0, 1, 1, 0) occurs 4 times\n",
      "Permutation (0, 1, 0, 1) occurs 4 times\n",
      "Permutation (0, 0, 1, 1) occurs 4 times\n"
     ]
    }
   ],
   "source": [
    "# Checking if more permutations occur than others with a weighted sample space\n",
    "weighted_sample_space = defaultdict(int)\n",
    "for permutation in itertools.permutations(unshuffled_deck):\n",
    "    weighted_sample_space[permutation] += 1\n",
    "    \n",
    "for permutation, count in weighted_sample_space.items():\n",
    "    print(f\"Permutation {permutation} occurs {count} times\")"
   ]
  },
  {
   "cell_type": "code",
   "execution_count": 73,
   "id": "5aac7c29",
   "metadata": {},
   "outputs": [
    {
     "name": "stdout",
     "output_type": "stream",
     "text": [
      "Probability that a shuffle does not alter the deck is 0.16666666666666666\n"
     ]
    }
   ],
   "source": [
    "sample_space = set(itertools.permutations(unshuffled_deck))\n",
    "event_condition = lambda x: list(x) == unshuffled_deck\n",
    "prob = compute_event_probability(event_condition, sample_space)\n",
    "assert prob == 1 / len(sample_space)\n",
    "print(f\"Probability that a shuffle does not alter the deck is {prob}\")"
   ]
  },
  {
   "cell_type": "code",
   "execution_count": 74,
   "id": "07d85bc5",
   "metadata": {},
   "outputs": [
    {
     "name": "stdout",
     "output_type": "stream",
     "text": [
      "Sample space for a 10-card deck contains 252 elements\n"
     ]
    }
   ],
   "source": [
    "red_cards = 5 * [1]\n",
    "black_cards = 5 * [0]\n",
    "unshuffled_deck = red_cards + black_cards\n",
    "sample_space = set(itertools.permutations(unshuffled_deck))\n",
    "print(f\"Sample space for a 10-card deck contains {len(sample_space)} elements\")"
   ]
  },
  {
   "cell_type": "code",
   "execution_count": null,
   "id": "6a62138d",
   "metadata": {},
   "outputs": [],
   "source": [
    "# Key Words / Notes:\n",
    "# Binomial Distribution: A generic distribution that captures coin-flip probabilities\n",
    "# When a coin is flipped repeadly, its frequency of heads converges toward the actual probability of heads\n",
    "#     However, the final frequency might differ a little from the actual probability\n",
    "# Histogram: Binned counts of observed numeric values\n",
    "# Confidence Interval: The likelihood that an unknown probability falls within a certain frequency rangr (prefer 95%+)\n",
    "# Gaussian/Normal Distribution: A bell-shaped curve that is seen throughout math and statistics\n",
    "# Permutation: A random ordering of a collection of elements"
   ]
  }
 ],
 "metadata": {
  "kernelspec": {
   "display_name": "Python 3 (ipykernel)",
   "language": "python",
   "name": "python3"
  },
  "language_info": {
   "codemirror_mode": {
    "name": "ipython",
    "version": 3
   },
   "file_extension": ".py",
   "mimetype": "text/x-python",
   "name": "python",
   "nbconvert_exporter": "python",
   "pygments_lexer": "ipython3",
   "version": "3.9.16"
  }
 },
 "nbformat": 4,
 "nbformat_minor": 5
}
