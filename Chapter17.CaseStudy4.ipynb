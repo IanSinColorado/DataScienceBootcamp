{
 "cells": [
  {
   "attachments": {},
   "cell_type": "markdown",
   "metadata": {},
   "source": [
    "# Case Study 4"
   ]
  },
  {
   "cell_type": "code",
   "execution_count": 42,
   "metadata": {},
   "outputs": [],
   "source": [
    "# Getting all imports out of the way first\n",
    "import matplotlib.pyplot as plt\n",
    "import numpy as np\n",
    "import seaborn as sns\n",
    "import pandas as pd\n",
    "import time \n",
    "from bs4 import BeautifulSoup as bs\n",
    "import glob\n",
    "from IPython.display import display, HTML\n",
    "from sklearn.feature_extraction.text import TfidfVectorizer\n",
    "import re"
   ]
  },
  {
   "cell_type": "markdown",
   "metadata": {},
   "source": [
    "## 17.1 Extracting Skill Requirements from Job Postings"
   ]
  },
  {
   "cell_type": "code",
   "execution_count": 16,
   "metadata": {},
   "outputs": [
    {
     "name": "stdout",
     "output_type": "stream",
     "text": [
      "We've loaded 1458 HTML files.\n"
     ]
    }
   ],
   "source": [
    "# Loading HTML files\n",
    "html_contents = []\n",
    "\n",
    "for file_name in sorted(glob.glob('./CaseStudyFiles/job_postings/*.html')):\n",
    "    with open(file_name, 'r') as f:\n",
    "        html_contents.append(f.read())\n",
    "\n",
    "print(f\"We've loaded {len(html_contents)} HTML files.\")"
   ]
  },
  {
   "cell_type": "code",
   "execution_count": 17,
   "metadata": {},
   "outputs": [],
   "source": [
    "# Parsing HTML files\n",
    "soup_objects = []\n",
    "for html in html_contents:\n",
    "    soup = bs(html)\n",
    "    assert soup.title is not None\n",
    "    assert soup.body is not None\n",
    "    soup_objects.append(soup)"
   ]
  },
  {
   "cell_type": "code",
   "execution_count": 18,
   "metadata": {},
   "outputs": [
    {
     "name": "stdout",
     "output_type": "stream",
     "text": [
      "                                Title  \\\n",
      "count                            1458   \n",
      "unique                           1364   \n",
      "top     Data Scientist - New York, NY   \n",
      "freq                               13   \n",
      "\n",
      "                                                     Body  \n",
      "count                                                1458  \n",
      "unique                                               1458  \n",
      "top     Data Scientist - Beavercreek, OH\\nData Scienti...  \n",
      "freq                                                    1  \n"
     ]
    }
   ],
   "source": [
    "# Checking title and body texts for duplicates\n",
    "html_dict = {'Title': [], 'Body': []}\n",
    "\n",
    "for soup in soup_objects:\n",
    "    title = soup.find('title').text\n",
    "    body = soup.find('body').text\n",
    "    html_dict['Title'].append(title)\n",
    "    html_dict['Body'].append(body)\n",
    "\n",
    "df_jobs = pd.DataFrame(html_dict)\n",
    "summary = df_jobs.describe()\n",
    "print(summary)\n"
   ]
  },
  {
   "cell_type": "markdown",
   "metadata": {},
   "source": [
    "### 17.1.1 Exploring the HTML for Skill Descriptions"
   ]
  },
  {
   "cell_type": "code",
   "execution_count": 19,
   "metadata": {},
   "outputs": [
    {
     "data": {
      "text/html": [
       "<html><head><title>Data Scientist - Beavercreek, OH</title></head>\n",
       "<body><h2>Data Scientist - Beavercreek, OH</h2>\n",
       "<p><b>Data Scientist</b></p>\n",
       "<p><b>Position Overview:</b></p>\n",
       "<p>Centauri is looking for a detail oriented, motivated, and organized Data Scientist to work as part of a team to clean, analyze, and produce insightful reporting on government data. The ideal candidate is adept at using large data sets to find trends for intelligence reporting and will be proficient in process optimization and using models to test the effectiveness of different courses of action. They must have strong experience using a variety of data mining/data analysis methods, using a variety of data tools, building and implementing models, using/creating algorithms and producing easily understood visuals to represent findings. Candidate will work closely with Data Managers and stakeholders to tailor their analysis to answer key questions. The candidate must have a strong understanding of Geographic Information Systems (GIS) and statistical analysis.</p>\n",
       "<p><b>Responsibilities:</b></p>\n",
       "<ul><li>Use statistical research methods to analyze datasets produced through multiple sources of intelligence production</li><li>Mine and analyze data from databases to answer key intelligence questions</li><li>Assess the effectiveness and accuracy of new data sources and data gathering techniques</li><li>Develop custom data models and algorithms to apply to data sets</li><li>Use predictive modeling to produce reporting about future trends based on historical data</li><li>Spatially analyze geographic data using GIS tools</li><li>Visualize findings in easily understood graphics and aesthetically appealing finished reports</li></ul><p><b>Qualifications for Data Scientist:</b></p>\n",
       "<ul><li>Experience using statistical computer languages (R, Python, SLQ, etc.) to manipulate data and draw insights from large data sets</li><li>Experience in basic visualization methods, especially using tools such as Tableau, ggplot, and matplotlib</li><li>Knowledge of a variety of machine learning techniques (clustering, decision tree learning, artificial neural networks, etc.) and their real-world advantages/drawbacks</li><li>Knowledge of advanced statistical techniques and concepts (regression, properties of distributions, statistical tests and proper usage, etc.) and experience with applications</li></ul></body>\n",
       "</html>"
      ],
      "text/plain": [
       "<IPython.core.display.HTML object>"
      ]
     },
     "metadata": {},
     "output_type": "display_data"
    }
   ],
   "source": [
    "# Rendering the HTML of the first job posting\n",
    "assert len(set(html_contents)) == len(html_contents)\n",
    "display(HTML(html_contents[0]))"
   ]
  },
  {
   "cell_type": "code",
   "execution_count": 20,
   "metadata": {},
   "outputs": [
    {
     "data": {
      "text/html": [
       "<html><head><title>Data Scientist - Seattle, WA 98101</title></head>\n",
       "<body><h2>Data Scientist - Seattle, WA 98101</h2>\n",
       "<div>Are you interested in being a part of an Artificial Intelligence Marketing (AIM) company that is transforming how B2C enterprises engage with their customers; improving customer experience, marketing throughput and for the first time directly optimizing key business KPIs? Do you want to join a startup company backed by the top firms in the venture capital and SaaS industries? Would you like to be part of a company that prides itself on being a meritocracy, where passion, innovation, integrity, and our customers are at the heart of all that we do?\n",
       "Then, consider joining us at Amplero, an Artificial Intelligence Marketing company that leverages machine learning and multi-armed bandit experimentation to dynamically test thousands of permutations to adaptively optimize every customer interaction and maximize customer lifetime value and loyalty.\n",
       "We are growing our customer base and are looking for Data Scientists to join our innovative and energetic team! This is a unique opportunity to both drive innovations for our technology and to realize their impact as you work closely with our client engagement teams to best leverage our scientific capabilities within the Amplero product for marketing optimization and customer insights.</div></br>\n",
       "As an Amplero Data Scientist you would:</div><ul><li>Interface with our internal engagement teams and clients to understand business questions, and perform analytical \"deep dives\" to develop relevant and interpretive insights in support of our client engagements</li><li>Smartly leverage appropriate technologies to answer tough questions or understand root causes of unexpected outcomes and statistical anomalies</li><li>Develop analysis tools which will influence both our products and clients; including python pipelines focused on the productization of data science and insights tools for marketing performance and optimization</li><li>Feature generation and selection from a wide variety of raw data types including time series and graphs</li><li>Work with the Amplero Product Team to provide ongoing feedback to the features and priorities most aligned with our clients' current and future needs to inform the product roadmap, test product hypotheses as well as to help plan the product lifecycle</li></ul><div>\n",
       "We'd love to hear from you if:</div><ul><li>You're an expert with data analysis and visualization tools including Python (including NumPy, SciPy, Pandas, scikit-learn) and other packages that enable data mining and machine learning</li><li>You have a proven track record of applying data science to solve difficult real-world business problems</li><li>You're familiar with areas of marketing data science where beyond-human scale, advanced experimentation and machine learning capabilities are used for achieving marketing performance, for example, DMP's in display advertising, Multivariate Testing, Statistical Significance Evaluation</li><li>You've got excellent written and verbal communication skills for team and customer interactions - specifically, you're a genius at communicating results and the value of complex technical solutions to a non-technical audience</li><div>\n",
       "</p></body>\n",
       "</html>"
      ],
      "text/plain": [
       "<IPython.core.display.HTML object>"
      ]
     },
     "metadata": {},
     "output_type": "display_data"
    }
   ],
   "source": [
    "# Rendering the HTML of the second job posting\n",
    "display(HTML(html_contents[1]))"
   ]
  },
  {
   "cell_type": "code",
   "execution_count": 21,
   "metadata": {},
   "outputs": [],
   "source": [
    "# Extracting bullets from the HTML\n",
    "df_jobs['Bullets'] = [[bullet.text.strip() for bullet in soup.find_all('li')] for soup in soup_objects]"
   ]
  },
  {
   "cell_type": "code",
   "execution_count": 22,
   "metadata": {},
   "outputs": [
    {
     "name": "stdout",
     "output_type": "stream",
     "text": [
      "90.53% of the postings contain bullets\n"
     ]
    }
   ],
   "source": [
    "# Measuring the percent of bulleted postings\n",
    "bulleted_post_count = 0 \n",
    "for bullet_list in df_jobs.Bullets:\n",
    "    if bullet_list:\n",
    "        bulleted_post_count += 1\n",
    "\n",
    "percent_bulleted = 100 * bulleted_post_count / df_jobs.shape[0]\n",
    "print(f\"{percent_bulleted:.2f}% of the postings contain bullets\")"
   ]
  },
  {
   "cell_type": "code",
   "execution_count": 24,
   "metadata": {},
   "outputs": [
    {
     "name": "stdout",
     "output_type": "stream",
     "text": [
      "     Words  Summed TFIDF\n",
      "experience    878.030398\n",
      "      data    842.978780\n",
      "    skills    440.780236\n",
      "      work    371.684232\n",
      "   ability    370.969638\n"
     ]
    }
   ],
   "source": [
    "# Examining the top-ranked words in the HTML bullets\n",
    "def rank_words(text_list):\n",
    "    vectorizer = TfidfVectorizer(stop_words='english')\n",
    "    tfidf_matrix = vectorizer.fit_transform(text_list).toarray()\n",
    "    df = pd.DataFrame({'Words': vectorizer.get_feature_names_out(), 'Summed TFIDF': tfidf_matrix.sum(axis=0)})\n",
    "    sorted_df = df.sort_values('Summed TFIDF', ascending=False)\n",
    "    return sorted_df\n",
    "\n",
    "all_bullets = []\n",
    "for bullet_list in df_jobs.Bullets:\n",
    "    all_bullets.extend(bullet_list)\n",
    "\n",
    "sorted_df = rank_words(all_bullets)\n",
    "print(sorted_df[:5].to_string(index=False))"
   ]
  },
  {
   "cell_type": "code",
   "execution_count": 25,
   "metadata": {},
   "outputs": [
    {
     "name": "stdout",
     "output_type": "stream",
     "text": [
      "     Words  Summed TFIDF\n",
      "      data     99.111312\n",
      "      team     39.175041\n",
      "      work     38.928948\n",
      "experience     36.820836\n",
      "  business     36.140488\n"
     ]
    }
   ],
   "source": [
    "# Examining the top-ranked words in the HTML bodies\n",
    "non_bullets = []\n",
    "for soup in soup_objects:\n",
    "    body = soup.body\n",
    "    for tag in body.find_all('li'):\n",
    "        tag.decompose()\n",
    "\n",
    "    non_bullets.append(body.text)\n",
    "\n",
    "sorted_df = rank_words(non_bullets)\n",
    "print(sorted_df[:5].to_string(index=False))"
   ]
  },
  {
   "cell_type": "code",
   "execution_count": 26,
   "metadata": {},
   "outputs": [
    {
     "name": "stdout",
     "output_type": "stream",
     "text": [
      "64.33% of the job posting titles do not mention a data science position. Below is a sample of such titles:\n",
      "\n",
      "Patient Care Assistant / PCA - Med/Surg (Fayette, AL) - Fayette, AL\n",
      "Data Manager / Analyst - Oakland, CA\n",
      "Scientific Programmer - Berkeley, CA\n",
      "JD Digits - AI Lab Research Intern - Mountain View, CA\n",
      "Operations and Technology Summer 2020 Internship-West Coast - Universal City, CA\n",
      "Data and Reporting Analyst - Olympia, WA 98501\n",
      "Senior Manager Advanced Analytics - Walmart Media Group - San Bruno, CA\n",
      "Data Specialist, Product Support Operations - Sunnyvale, CA\n",
      "Deep Learning Engineer - Westlake, TX\n",
      "Research Intern, 2020 - San Francisco, CA 94105\n"
     ]
    },
    {
     "name": "stderr",
     "output_type": "stream",
     "text": [
      "C:\\Users\\meowm\\AppData\\Local\\Temp\\ipykernel_17864\\3722151036.py:3: UserWarning: This pattern is interpreted as a regular expression, and has match groups. To actually get the groups, use str.extract.\n",
      "  df_non_ds_jobs = df_jobs[~df_jobs.Title.str.contains(regex, case=False)]\n"
     ]
    }
   ],
   "source": [
    "# Checking titles for references to data science positions\n",
    "regex = r'Data Scien(ce|tist)'\n",
    "df_non_ds_jobs = df_jobs[~df_jobs.Title.str.contains(regex, case=False)]\n",
    "\n",
    "percent_non_ds = 100 * df_non_ds_jobs.shape[0] / df_jobs.shape[0]\n",
    "print(f\"{percent_non_ds:.2f}% of the job posting titles do not mention a data science position. Below is a sample of such titles:\\n\")\n",
    "\n",
    "for title in df_non_ds_jobs.Title[:10]:\n",
    "    print(title)"
   ]
  },
  {
   "cell_type": "code",
   "execution_count": 29,
   "metadata": {},
   "outputs": [
    {
     "name": "stdout",
     "output_type": "stream",
     "text": [
      "0: Provides all personal care services in accordance with the plan of treatment assigned by the registered nurse\n",
      "1: Accurately documents care provided\n",
      "2: Applies safety principles and proper body mechanics to the performance of specific techniques of personal and supportive care, such as ambulation of patients, transferring patients, assisting with normal range of motions and positioning\n",
      "3: Participates in economical utilization of supplies and ensures that equipment and nursing units are maintained in a clean, safe manner\n",
      "4: Routinely follows and adheres to all policies and procedures\n"
     ]
    }
   ],
   "source": [
    "# Sampling bullets from a non-data science job\n",
    "bullets = df_non_ds_jobs.Bullets.iloc[0]\n",
    "for i, bullet in enumerate(bullets[:5]):\n",
    "    print(f\"{i}: {bullet.strip()}\")"
   ]
  },
  {
   "cell_type": "markdown",
   "metadata": {},
   "source": [
    "## 17.2 Filtering Jobs by Relevance"
   ]
  },
  {
   "cell_type": "code",
   "execution_count": 31,
   "metadata": {},
   "outputs": [
    {
     "name": "stdout",
     "output_type": "stream",
     "text": [
      "Experience\n",
      "\n",
      "1. Developed probability simulations using NumPy.\n",
      "2. Assessed online ad-clicks for statistical significance using Permutation testing.\n",
      "3. Analyzed disease outbreaks using common clustering algorithms.\n",
      "\n",
      "Additional Skills\n",
      "\n",
      "1. Data visualization using Matplotlib.\n",
      "2. Statistical analysis using SciPy.\n",
      "3. Processing structured tables using Pandas.\n",
      "4. Executing K-Means clustering and DBSCAN clustering using Scikit-Learn.\n",
      "5. Extracting locations from text using GeonamesCache.\n",
      "6. Location analysis and visualization using GeonamesCache and Basemap.\n",
      "7. Dimensionality reduction with PCA and SVD, using Scikit-Learn.\n",
      "8. NLP analysis and text topic detection using Scikit-Learn.\n"
     ]
    }
   ],
   "source": [
    "# Loading the resume\n",
    "resume = open('CaseStudyFiles/resume.txt', 'r').read()\n",
    "print(resume)"
   ]
  },
  {
   "cell_type": "code",
   "execution_count": 32,
   "metadata": {},
   "outputs": [],
   "source": [
    "# Loading the table of contents\n",
    "table_of_contents = open('./CaseStudyFiles/table_of_contents.txt', 'r').read()"
   ]
  },
  {
   "cell_type": "code",
   "execution_count": 33,
   "metadata": {},
   "outputs": [],
   "source": [
    "# Combining skills into a single string\n",
    "existing_skills = resume + table_of_contents"
   ]
  },
  {
   "cell_type": "code",
   "execution_count": 34,
   "metadata": {},
   "outputs": [],
   "source": [
    "# Vectorizing our skills and the job-posting data\n",
    "text_list = df_jobs.Body.values.tolist() + [existing_skills]\n",
    "vectorizer = TfidfVectorizer(stop_words='english')\n",
    "tfidf_matrix = vectorizer.fit_transform(text_list).toarray()"
   ]
  },
  {
   "cell_type": "code",
   "execution_count": 35,
   "metadata": {},
   "outputs": [],
   "source": [
    "# Computing skill-based cosine similarities\n",
    "cosine_similarities = tfidf_matrix[:-1] @ tfidf_matrix[-1]"
   ]
  },
  {
   "cell_type": "code",
   "execution_count": 36,
   "metadata": {},
   "outputs": [
    {
     "name": "stdout",
     "output_type": "stream",
     "text": [
      "Data Analyst Internship (8 month minimum) - San Francisco, CA\n",
      "Leadership and Advocacy Coordinator - Oakland, CA 94607\n",
      "Finance Consultant - Audi Palo Alto - Palo Alto, CA\n",
      "RN - Hattiesburg, MS\n",
      "Configuration Management Specialist - Dahlgren, VA\n",
      "Deal Desk Analyst - Mountain View, CA\n",
      "Dev Ops Engineer AWS - Rockville, MD\n",
      "Web Development Teaching Assistant - UC Berkeley (Berkeley) - Berkeley, CA\n",
      "Scorekeeper - Oakland, CA 94612\n",
      "Direct Care - All Experience Levels (CNA, HHA, PCA Welcome) - Norwell, MA 02061\n",
      "Director of Marketing - Cambridge, MA\n",
      "Certified Strength and Conditioning Specialist - United States\n",
      "PCA - PCU Full Time - Festus, MO 63028\n",
      "Performance Improvement Consultant - Los Angeles, CA\n",
      "Patient Services Rep II - Oakland, CA\n",
      "Lab Researcher I - Richmond, CA\n",
      "Part-time instructor of Statistics for Data Science and Machine Learning - San Francisco, CA 94105\n",
      "Plant Engineering Specialist - San Pablo, CA\n",
      "Page Not Found - Indeed Mobile\n",
      "Director of Econometric Modeling - External Careers\n"
     ]
    }
   ],
   "source": [
    "# Printing the 20 least relevant jobs\n",
    "df_jobs['Relevance'] = cosine_similarities\n",
    "sorted_df_jobs = df_jobs.sort_values('Relevance', ascending=False)\n",
    "for title in sorted_df_jobs[-20:].Title:\n",
    "    print(title)"
   ]
  },
  {
   "cell_type": "code",
   "execution_count": 37,
   "metadata": {},
   "outputs": [
    {
     "name": "stdout",
     "output_type": "stream",
     "text": [
      "Chief Data Officer - Culver City, CA 90230\n",
      "Data Scientist - Beavercreek, OH\n",
      "Data Scientist Population Health - Los Angeles, CA 90059\n",
      "Data Scientist - San Diego, CA\n",
      "Data Scientist - Beavercreek, OH\n",
      "Senior Data Scientist - New York, NY 10018\n",
      "Data Architect - Raleigh, NC 27609\n",
      "Data Scientist (PhD) - Spring, TX\n",
      "Data Science Analyst - Chicago, IL 60612\n",
      "Associate Data Scientist (BS / MS) - Spring, TX\n",
      "Data Scientist - Streetsboro, OH 44241\n",
      "Data Scientist - Los Angeles, CA\n",
      "Sr Director of Data Science - Elkridge, MD\n",
      "2019-57 Sr. Data Scientist - Reston, VA 20191\n",
      "Data Scientist (PhD) - Intern - Spring, TX\n",
      "Sr Data Scientist. - Alpharetta, GA 30004\n",
      "Data Scientist GS 13/14 - Clarksburg, WV 26301\n",
      "Data Science Intern (BS / MS) - Intern - Spring, TX\n",
      "Senior Data Scientist - New York, NY 10038\n",
      "Data Scientist - United States\n"
     ]
    }
   ],
   "source": [
    "# Printing the 20 most relevant jobs\n",
    "for title in sorted_df_jobs[:20].Title:\n",
    "    print(title)"
   ]
  },
  {
   "cell_type": "code",
   "execution_count": 38,
   "metadata": {},
   "outputs": [
    {
     "data": {
      "image/png": "[encoded data removed]",
      "text/plain": [
       "<Figure size 640x480 with 1 Axes>"
      ]
     },
     "metadata": {},
     "output_type": "display_data"
    }
   ],
   "source": [
    "# Plotting job ranking vs. relevance\n",
    "plt.plot(range(df_jobs.shape[0]), sorted_df_jobs.Relevance.values)\n",
    "plt.xlabel('Index')\n",
    "plt.ylabel('Relevance')\n",
    "plt.show()"
   ]
  },
  {
   "cell_type": "code",
   "execution_count": 39,
   "metadata": {},
   "outputs": [
    {
     "data": {
      "image/png": "[encoded data removed]",
      "text/plain": [
       "<Figure size 640x480 with 1 Axes>"
      ]
     },
     "metadata": {},
     "output_type": "display_data"
    }
   ],
   "source": [
    "# Adding a cutoff to the relevance plot\n",
    "plt.plot(range(df_jobs.shape[0]), sorted_df_jobs.Relevance.values)\n",
    "plt.xlabel('Index')\n",
    "plt.ylabel('Relevance')\n",
    "plt.axvline(60, c='k')\n",
    "plt.show()"
   ]
  },
  {
   "cell_type": "code",
   "execution_count": 40,
   "metadata": {},
   "outputs": [
    {
     "name": "stdout",
     "output_type": "stream",
     "text": [
      "Data Scientist III - Pasadena, CA 91101\n",
      "Global Data Engineer - Boston, MA\n",
      "Data Analyst and Data Scientist - Summit, NJ\n",
      "Data Scientist - Generalist - Glendale, CA\n",
      "Data Scientist - Seattle, WA\n",
      "IT Data Scientist - Contract - Riverton, UT\n",
      "Data Scientist (Analytic Consultant 4) - San Francisco, CA\n",
      "Data Scientist - Seattle, WA\n",
      "Data Science & Tagging Analyst - Bethesda, MD 20814\n",
      "Data Scientist - New York, NY\n",
      "Senior Data Scientist - Los Angeles, CA\n",
      "Principal Statistician - Los Angeles, CA\n",
      "Senior Data Analyst - Los Angeles, CA\n",
      "Data Scientist - Aliso Viejo, CA 92656\n",
      "Data Engineer - Seattle, WA\n",
      "Data Scientist - Digital Factory - Tampa, FL 33607\n",
      "Data Scientist - Grapevine, TX 76051\n",
      "Data Scientist - Bioinformatics - Denver, CO 80221\n",
      "EPIDEMIOLOGIST - Los Angeles, CA\n",
      "Data Scientist - Bellevue, WA\n"
     ]
    }
   ],
   "source": [
    "# Printing jobs below the relevance cutoff\n",
    "for title in sorted_df_jobs[40:60].Title.values:\n",
    "    print(title)"
   ]
  },
  {
   "cell_type": "code",
   "execution_count": 41,
   "metadata": {},
   "outputs": [
    {
     "name": "stdout",
     "output_type": "stream",
     "text": [
      "Data Scientist - Aliso Viejo, CA\n",
      "Data Scientist and Visualization Specialist - Santa Clara Valley, CA 95014\n",
      "Data Scientist - Los Angeles, CA\n",
      "Data Scientist Manager - NEW YORK LOCATION! - New York, NY 10036\n",
      "Data Science Intern - San Francisco, CA 94105\n",
      "Research Data Analyst - San Francisco, CA\n",
      "Sr Data Scientist (Analytic Consultant 5) - San Francisco, CA\n",
      "Data Scientist, Media Manipulation - Cambridge, MA\n",
      "Manager, Data Science, Programming and Visualization - Boston, MA\n",
      "Data Scientist in Broomfield, CO - Broomfield, CO\n",
      "Senior Data Scientist - Executive Projects and New Solutions - Foster City, CA\n",
      "Manager of Data Science - Burbank California - Burbank, CA\n",
      "Data Scientist Manager - Hiring in Burbank! - Burbank, CA\n",
      "Data Scientists needed in NY - Senior Consultants and Managers! - New York, NY 10036\n",
      "Data Scientist - Menlo Park, CA\n",
      "Data Engineer - Santa Clara, CA\n",
      "Data Scientist - Remote\n",
      "Data Scientist I-III - Phoenix, AZ 85021\n",
      "SWE Data Scientist - Santa Clara Valley, CA 95014\n",
      "Health Science Specialist - San Francisco, CA 94102\n"
     ]
    }
   ],
   "source": [
    "# Printing jobs beyond the relevance cutoff\n",
    "for title in sorted_df_jobs[60:80].Title.values:\n",
    "    print(title)"
   ]
  },
  {
   "cell_type": "code",
   "execution_count": 43,
   "metadata": {},
   "outputs": [
    {
     "name": "stdout",
     "output_type": "stream",
     "text": [
      "Approximately 65.00% of job titles between indices 60-80 are relevant\n"
     ]
    }
   ],
   "source": [
    "# Measuring title relevance in a subset of jobs\n",
    "def percent_relevant_title(df):\n",
    "    regex_relevant = re.compile(r'Data (Scien|Analy)', flags=re.IGNORECASE)\n",
    "    regex_irrelevant = re.compile(r'\\b(Manage)', flags=re.IGNORECASE)\n",
    "    match_count = len([title for title in df.Title if regex_relevant.search(title) and not regex_irrelevant.search(title)])\n",
    "    percent = 100 * match_count / df.shape[0]\n",
    "    return percent\n",
    "\n",
    "percent = percent_relevant_title(sorted_df_jobs[60:80])\n",
    "print(f\"Approximately {percent:.2f}% of job titles between indices 60-80 are relevant\")"
   ]
  },
  {
   "cell_type": "code",
   "execution_count": null,
   "metadata": {},
   "outputs": [],
   "source": []
  }
 ],
 "metadata": {
  "kernelspec": {
   "display_name": "Python 3",
   "language": "python",
   "name": "python3"
  },
  "language_info": {
   "codemirror_mode": {
    "name": "ipython",
    "version": 3
   },
   "file_extension": ".py",
   "mimetype": "text/x-python",
   "name": "python",
   "nbconvert_exporter": "python",
   "pygments_lexer": "ipython3",
   "version": "3.9.16"
  },
  "orig_nbformat": 4
 },
 "nbformat": 4,
 "nbformat_minor": 2
}
