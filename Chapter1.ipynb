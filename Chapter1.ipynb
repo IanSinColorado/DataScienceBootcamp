{
 "cells": [
  {
   "cell_type": "code",
   "execution_count": 1,
   "id": "946f5af2",
   "metadata": {},
   "outputs": [
    {
     "name": "stdout",
     "output_type": "stream",
     "text": [
      "Probability of choosing heads is 0.5\n"
     ]
    }
   ],
   "source": [
    "# 1.1: Sample Space Analysis\n",
    "# Sample space of a coin\n",
    "sample_space = {'Heads', 'Tails'}\n",
    "\n",
    "probability_heads = 1 / len(sample_space)\n",
    "print(f'Probability of choosing heads is {probability_heads}')"
   ]
  },
  {
   "cell_type": "code",
   "execution_count": 2,
   "id": "cbb80d01",
   "metadata": {},
   "outputs": [],
   "source": [
    "# 4 Event Conditions\n",
    "def is_heads_or_tails(outcome): return outcome in {'Heads','Tails'}\n",
    "def is_neither(outcome): return not is_heads_or_tails(outcome)\n",
    "\n",
    "def is_heads(outcome): return outcome == \"Heads\"\n",
    "def is_tails(outcome): return outcome == \"Tails\""
   ]
  },
  {
   "cell_type": "code",
   "execution_count": 4,
   "id": "46439035",
   "metadata": {},
   "outputs": [],
   "source": [
    "def get_matching_event(event_condition, sample_space):\n",
    "    return set([outcome for outcome in sample_space if event_condition(outcome)])"
   ]
  },
  {
   "cell_type": "code",
   "execution_count": 5,
   "id": "e90037d2",
   "metadata": {},
   "outputs": [
    {
     "name": "stdout",
     "output_type": "stream",
     "text": [
      "Event Condition: is_heads_or_tails\n",
      "Event: {'Heads', 'Tails'}\n",
      "\n",
      "Event Condition: is_heads\n",
      "Event: {'Heads'}\n",
      "\n",
      "Event Condition: is_tails\n",
      "Event: {'Tails'}\n",
      "\n",
      "Event Condition: is_neither\n",
      "Event: set()\n",
      "\n"
     ]
    }
   ],
   "source": [
    "event_conditions = [is_heads_or_tails, is_heads, is_tails, is_neither]\n",
    "\n",
    "for event_condition in event_conditions:\n",
    "    print(f\"Event Condition: {event_condition.__name__}\")\n",
    "    event = get_matching_event(event_condition, sample_space)\n",
    "    print(f\"Event: {event}\\n\")"
   ]
  },
  {
   "cell_type": "code",
   "execution_count": 6,
   "id": "05b64b8d",
   "metadata": {},
   "outputs": [],
   "source": [
    "def compute_probability(event_condition, generic_sample_space):\n",
    "    event = get_matching_event(event_condition, generic_sample_space)\n",
    "    return len(event) / len(generic_sample_space)"
   ]
  },
  {
   "cell_type": "code",
   "execution_count": 7,
   "id": "fead6508",
   "metadata": {},
   "outputs": [
    {
     "name": "stdout",
     "output_type": "stream",
     "text": [
      "Probability of event arising from 'is_heads_or_tails' is 1.0\n",
      "Probability of event arising from 'is_heads' is 0.5\n",
      "Probability of event arising from 'is_tails' is 0.5\n",
      "Probability of event arising from 'is_neither' is 0.0\n"
     ]
    }
   ],
   "source": [
    "for event_condition in event_conditions:\n",
    "    prob = compute_probability(event_condition, sample_space)\n",
    "    name = event_condition.__name__\n",
    "    print(f\"Probability of event arising from '{name}' is {prob}\")"
   ]
  },
  {
   "cell_type": "code",
   "execution_count": 10,
   "id": "cad411c5",
   "metadata": {},
   "outputs": [],
   "source": [
    "# 1.1.1 Analyzing a biased coin\n",
    "weighted_sample_space = {'Heads' : 4, 'Tails': 1}\n",
    "\n",
    "# Getting the new size of the sample space\n",
    "sample_space_size = sum(weighted_sample_space.values())\n",
    "assert sample_space_size == 5\n",
    "\n",
    "event = get_matching_event(is_heads_or_tails, weighted_sample_space)\n",
    "event_size = sum(weighted_sample_space[outcome] for outcome in event)\n",
    "assert event_size == 5"
   ]
  },
  {
   "cell_type": "code",
   "execution_count": 11,
   "id": "fdf89a0d",
   "metadata": {},
   "outputs": [],
   "source": [
    "# Generalized Event Probability Function\n",
    "def compute_event_probability(event_condition, generic_sample_space):\n",
    "    event = get_matching_event(event_condition, generic_sample_space)\n",
    "    \n",
    "    # check to see if its a generic set and not a dictionary\n",
    "    if type(generic_sample_space) == type(set()):\n",
    "        return len(event) / len(generic_sample_space)\n",
    "    \n",
    "    # otherwise, deal with the weights of the in the sample space dictionary\n",
    "    event_size = sum(generic_sample_space[outcome] for outcome in event)\n",
    "    \n",
    "    return event_size / sum(generic_sample_space.values())"
   ]
  },
  {
   "cell_type": "code",
   "execution_count": 12,
   "id": "b3d503f1",
   "metadata": {},
   "outputs": [
    {
     "name": "stdout",
     "output_type": "stream",
     "text": [
      "Probability of event arising from 'is_heads_or_tails' is 1.0\n",
      "Probability of event arising from 'is_heads' is 0.8\n",
      "Probability of event arising from 'is_tails' is 0.2\n",
      "Probability of event arising from 'is_neither' is 0.0\n"
     ]
    }
   ],
   "source": [
    "for event_condition in event_conditions:\n",
    "    prob = compute_event_probability(event_condition, weighted_sample_space)\n",
    "    name = event_condition.__name__\n",
    "    print(f\"Probability of event arising from '{name}' is {prob}\")"
   ]
  },
  {
   "cell_type": "code",
   "execution_count": 13,
   "id": "46a13bf2",
   "metadata": {},
   "outputs": [],
   "source": [
    "# 1.2 Computing nontrivial Probabilities\n",
    "# 1.2.1 Analyzing a family with 4 children\n",
    "possible_children = ['Boy', 'Girl']\n",
    "sample_space = set()\n",
    "\n",
    "# Computing sample space with 4 for loops\n",
    "for child1 in possible_children:\n",
    "    for child2 in possible_children:\n",
    "        for child3 in possible_children:\n",
    "            for child4 in possible_children:\n",
    "                outcome = (child1, child2, child3, child4)\n",
    "                sample_space.add(outcome)"
   ]
  },
  {
   "cell_type": "code",
   "execution_count": 15,
   "id": "2e5648fc",
   "metadata": {},
   "outputs": [],
   "source": [
    "# Computing sample space with itertools.product\n",
    "from itertools import product\n",
    "all_combinations = product(*(4 * [possible_children]))\n",
    "\n",
    "# Check\n",
    "assert set(all_combinations) == sample_space"
   ]
  },
  {
   "cell_type": "code",
   "execution_count": 16,
   "id": "ffc9c056",
   "metadata": {},
   "outputs": [],
   "source": [
    "# More efficient\n",
    "sample_space_effiecient = set(product(possible_children, repeat=4))\n",
    "assert sample_space == sample_space_effiecient"
   ]
  },
  {
   "cell_type": "code",
   "execution_count": 17,
   "id": "8739b731",
   "metadata": {},
   "outputs": [],
   "source": [
    "# Find families with 2 boys (combinations with 2 boys)\n",
    "def has_two_boys(outcome): return len([child for child in outcome if child == 'Boy']) == 2\n",
    "# list = list()\n",
    "# for child in outcome:\n",
    "# if child == 2:\n",
    "#     list.add(1)\n",
    "# return len(list) == 2"
   ]
  },
  {
   "cell_type": "code",
   "execution_count": 18,
   "id": "3cc28fb2",
   "metadata": {},
   "outputs": [
    {
     "name": "stdout",
     "output_type": "stream",
     "text": [
      "Probability of 2 boys is 0.375\n"
     ]
    }
   ],
   "source": [
    "prob = compute_event_probability(has_two_boys, sample_space)\n",
    "print(f'Probability of 2 boys is {prob}')"
   ]
  },
  {
   "cell_type": "code",
   "execution_count": 19,
   "id": "0abcf9fb",
   "metadata": {},
   "outputs": [
    {
     "name": "stdout",
     "output_type": "stream",
     "text": [
      "[1, 2, 3, 4, 5, 6]\n"
     ]
    }
   ],
   "source": [
    "# 1.2.2 Analyzing multiple die rolls\n",
    "possible_rolls = list(range(1,7))\n",
    "print(possible_rolls)"
   ]
  },
  {
   "cell_type": "code",
   "execution_count": 20,
   "id": "ffc5bb9a",
   "metadata": {},
   "outputs": [],
   "source": [
    "# What is the probability that 6 die rolls add up to 21?\n",
    "# Get the sample space for 6 dice\n",
    "sample_space = set(product(possible_rolls, repeat=6))"
   ]
  },
  {
   "cell_type": "code",
   "execution_count": 21,
   "id": "98e1379a",
   "metadata": {},
   "outputs": [],
   "source": [
    "# Definie a function to return true or false if the total is 21\n",
    "def has_sum_of_21(outcome): return sum(outcome) == 21"
   ]
  },
  {
   "cell_type": "code",
   "execution_count": 31,
   "id": "e40dec4a",
   "metadata": {},
   "outputs": [
    {
     "name": "stdout",
     "output_type": "stream",
     "text": [
      "6 rolls sum to 21 with a probability of 0.09284979423868313\n",
      "There are 4332 different ways of getting 21 with 6 dice\n"
     ]
    }
   ],
   "source": [
    "prob = compute_event_probability(has_sum_of_21, sample_space)\n",
    "print(f\"6 rolls sum to 21 with a probability of {prob}\")\n",
    "\n",
    "# yay\n",
    "num_21 = (int) (len(sample_space) * prob)\n",
    "print(f\"There are {num_21} different ways of getting 21 with 6 dice\")"
   ]
  },
  {
   "cell_type": "code",
   "execution_count": 23,
   "id": "6742016f",
   "metadata": {},
   "outputs": [],
   "source": [
    "# With lambda functions instead of has_sum_of_21\n",
    "prob = compute_probability(lambda x: sum(x) == 21, sample_space)\n",
    "assert prob == compute_event_probability(has_sum_of_21, sample_space)"
   ]
  },
  {
   "cell_type": "code",
   "execution_count": 24,
   "id": "390af115",
   "metadata": {},
   "outputs": [],
   "source": [
    "# 1.2.3 Computing die-roll probabilities using weighted sample spaces\n",
    "# Mapping die-roll sums to occurence counts\n",
    "from collections import defaultdict\n",
    "\n",
    "# records the number of times the sum of an outcome occurs\n",
    "weighted_sample_space = defaultdict(int)\n",
    "for outcome in sample_space:\n",
    "    total = sum(outcome)\n",
    "    \n",
    "    # indexed by totals\n",
    "    weighted_sample_space[total] += 1"
   ]
  },
  {
   "cell_type": "code",
   "execution_count": 25,
   "id": "2fe7721e",
   "metadata": {},
   "outputs": [],
   "source": [
    "# The lowest and highest sums are 6 and 36 respectively, each occuring once\n",
    "assert weighted_sample_space[6] == 1\n",
    "assert weighted_sample_space[36] == 1"
   ]
  },
  {
   "cell_type": "code",
   "execution_count": 26,
   "id": "c5d7fed6",
   "metadata": {},
   "outputs": [
    {
     "name": "stdout",
     "output_type": "stream",
     "text": [
      "There are 4332 ways for 6 die rolls to sum to 21\n"
     ]
    }
   ],
   "source": [
    "num_combinations = weighted_sample_space[21]\n",
    "print(f\"There are {num_combinations} ways for 6 die rolls to sum to 21\")"
   ]
  },
  {
   "cell_type": "code",
   "execution_count": 27,
   "id": "e88018f3",
   "metadata": {},
   "outputs": [],
   "source": [
    "# 2 combos of 6 dice to make 21\n",
    "assert sum([4,4,4,4,3,2]) == 21\n",
    "assert sum([4,4,4,5,3,1]) == 21"
   ]
  },
  {
   "cell_type": "code",
   "execution_count": 34,
   "id": "fe57e412",
   "metadata": {},
   "outputs": [],
   "source": [
    "event = get_matching_event(lambda x: sum(x) == 21, sample_space)\n",
    "assert weighted_sample_space[21] == len(event)\n",
    "assert sum(weighted_sample_space.values()) == len(sample_space)"
   ]
  },
  {
   "cell_type": "code",
   "execution_count": 36,
   "id": "32f88cdf",
   "metadata": {},
   "outputs": [
    {
     "name": "stdout",
     "output_type": "stream",
     "text": [
      "6 rolls sum to 21 with a probability of 0.09284979423868313\n"
     ]
    }
   ],
   "source": [
    "prob = compute_event_probability(lambda x: x == 21, weighted_sample_space)\n",
    "assert prob == compute_event_probability(has_sum_of_21, sample_space)\n",
    "print(f\"6 rolls sum to 21 with a probability of {prob}\")"
   ]
  },
  {
   "cell_type": "code",
   "execution_count": 37,
   "id": "559063a8",
   "metadata": {},
   "outputs": [
    {
     "name": "stdout",
     "output_type": "stream",
     "text": [
      "Number of Elements in Unweighted Sample Space:\n",
      "46656\n",
      "Number of Elements in Weighted Sample Space:\n",
      "31\n"
     ]
    }
   ],
   "source": [
    "# Comparing sizes of weighted sample space and unweighted sample space\n",
    "print('Number of Elements in Unweighted Sample Space:')\n",
    "print(len(sample_space))\n",
    "print('Number of Elements in Weighted Sample Space:')\n",
    "print(len(weighted_sample_space))"
   ]
  },
  {
   "cell_type": "code",
   "execution_count": 38,
   "id": "ff97200e",
   "metadata": {},
   "outputs": [],
   "source": [
    "# 1.3 Computing Probabilities Over Interval Ranges (similar to Algorithms Interval ranges)\n",
    "def is_in_interval(number, minimum, maximum):\n",
    "    return minimum <= number <= maximum"
   ]
  },
  {
   "cell_type": "code",
   "execution_count": 39,
   "id": "99c37cbf",
   "metadata": {},
   "outputs": [
    {
     "name": "stdout",
     "output_type": "stream",
     "text": [
      "Probability of interval is 0.5446244855967078\n"
     ]
    }
   ],
   "source": [
    "# compute the prob that an event's value falls within a range\n",
    "# example with range between 10 and 21 inclusive:\n",
    "prob = compute_event_probability(lambda x: is_in_interval(x, 10, 21), weighted_sample_space)\n",
    "print(f\"Probability of interval is {prob}\")\n",
    "# majority of the time at ~54%"
   ]
  },
  {
   "cell_type": "code",
   "execution_count": 43,
   "id": "6a07efd2",
   "metadata": {},
   "outputs": [],
   "source": [
    "# 1.3.1 Evaluating Extremes Using Interval Analysis\n",
    "# Ex: What is the probability that 10 fair coin flips produce from 8 to 10 heads?\n",
    "# Weighted Sample Space Dictionary\n",
    "def generate_coin_sample_space(num_flips=10):\n",
    "    weighted_sample_space = defaultdict(int)\n",
    "    for coin_flips in product(['Heads', 'Tails'], repeat=num_flips):\n",
    "        heads_count = len([outcome for outcome in coin_flips if outcome == 'Heads'])\n",
    "        weighted_sample_space[heads_count] += 1\n",
    "    \n",
    "    return weighted_sample_space\n",
    "\n",
    "weighted_sample_space = generate_coin_sample_space()\n",
    "assert weighted_sample_space[10] == 1\n",
    "assert weighted_sample_space[9] == 10"
   ]
  },
  {
   "cell_type": "code",
   "execution_count": 45,
   "id": "c7a5b733",
   "metadata": {},
   "outputs": [
    {
     "name": "stdout",
     "output_type": "stream",
     "text": [
      "Probability of observing more than 7 heads is 0.0546875\n"
     ]
    }
   ],
   "source": [
    "prob = compute_event_probability(lambda x: is_in_interval(x, 8, 10), weighted_sample_space)\n",
    "print(f\"Probability of observing more than 7 heads is {prob}\")\n",
    "# ~5.4% there will be more than 8 heads in 10 flips"
   ]
  },
  {
   "cell_type": "code",
   "execution_count": 47,
   "id": "2b7caf3d",
   "metadata": {},
   "outputs": [
    {
     "name": "stdout",
     "output_type": "stream",
     "text": [
      "Probability of observing more than 7 heads or 7 tails is 0.109375\n"
     ]
    }
   ],
   "source": [
    "# Probability that the coin does not produce from 3 to 7 heads\n",
    "prob = compute_event_probability(lambda x: not is_in_interval(x, 3, 7), weighted_sample_space)\n",
    "print(f\"Probability of observing more than 7 heads or 7 tails is {prob}\")"
   ]
  },
  {
   "cell_type": "code",
   "execution_count": 48,
   "id": "9d9da7d1",
   "metadata": {},
   "outputs": [],
   "source": [
    "# Key Words / Notes:\n",
    "# Sample Space: the set of all the possible outcomes an action can produce\n",
    "# Event: A subset of the sample space containing just those outcomes that satify some event condition\n",
    "# Event Condition: A Boolean function that takes an outcome and returns either True or False\n",
    "# Probability: The fraction of event outcomes over all the possible outcomes in the entire sample space\n",
    "# Probabilities can be compared over numeric intervals\n",
    "# Numeric Intervals: The set of all the numbers sandwiched between two boundary values\n",
    "# Interval probabilities are useful for determining whether an observation appears extreme"
   ]
  },
  {
   "cell_type": "code",
   "execution_count": null,
   "id": "01605ce5",
   "metadata": {},
   "outputs": [],
   "source": []
  }
 ],
 "metadata": {
  "kernelspec": {
   "display_name": "Python 3 (ipykernel)",
   "language": "python",
   "name": "python3"
  },
  "language_info": {
   "codemirror_mode": {
    "name": "ipython",
    "version": 3
   },
   "file_extension": ".py",
   "mimetype": "text/x-python",
   "name": "python",
   "nbconvert_exporter": "python",
   "pygments_lexer": "ipython3",
   "version": "3.10.9"
  }
 },
 "nbformat": 4,
 "nbformat_minor": 5
}
